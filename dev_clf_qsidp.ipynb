{
 "cells": [
  {
   "cell_type": "markdown",
   "id": "918701c4-5b43-47fe-9a10-b542003b62ff",
   "metadata": {},
   "source": [
    "### clf dev with qsidp"
   ]
  },
  {
   "cell_type": "code",
   "execution_count": 1,
   "id": "c4119d52-4c51-428e-b67f-717e7d76e576",
   "metadata": {},
   "outputs": [],
   "source": [
    "import os\n",
    "import numpy as np\n",
    "import pandas as pd\n",
    "from sklearn.model_selection import train_test_split\n",
    "import sklearn.model_selection\n",
    "from sklearn.ensemble import RandomForestClassifier"
   ]
  },
  {
   "cell_type": "code",
   "execution_count": 2,
   "id": "173cc2d8-17d3-46a1-b5f7-a2fd600fa464",
   "metadata": {},
   "outputs": [
    {
     "name": "stderr",
     "output_type": "stream",
     "text": [
      "/gpfs3/well/seymour/users/uhu195/python/extract-py3.7.4-skylake/lib/python3.7/site-packages/nilearn/datasets/__init__.py:96: FutureWarning: Fetchers from the nilearn.datasets module will be updated in version 0.9 to return python strings instead of bytes and Pandas dataframes instead of Numpy arrays.\n",
      "  \"Numpy arrays.\", FutureWarning)\n"
     ]
    }
   ],
   "source": [
    "from compare_hyperparams import full_labels, remove_subjs, load_feats, cv_classify"
   ]
  },
  {
   "cell_type": "markdown",
   "id": "b2ee7232-d7d1-4381-a98f-34a66a625116",
   "metadata": {},
   "source": [
    "#### extracting non-multi disease patients"
   ]
  },
  {
   "cell_type": "code",
   "execution_count": 3,
   "id": "e0055db2-9c51-480a-80c4-94c2dff6a485",
   "metadata": {},
   "outputs": [
    {
     "name": "stdout",
     "output_type": "stream",
     "text": [
      "/well/seymour/users/uhu195/python/extract_npy//labels/label_patients_pain.csv\n",
      "(2724, 1)\n",
      "(2724, 6)\n"
     ]
    }
   ],
   "source": [
    "df_out = full_labels('patients_pain', save=False)"
   ]
  },
  {
   "cell_type": "code",
   "execution_count": 5,
   "id": "155e8847-5ae4-4055-996a-911da6333098",
   "metadata": {},
   "outputs": [],
   "source": [
    "bfl_dir = '/well/seymour/users/uhu195/python/pain/'\n",
    "bfloutput_dir = os.path.join(bfl_dir, 'output_patients_50')\n",
    "data_dir = os.path.join(bfloutput_dir, 'Result_IC30')"
   ]
  },
  {
   "cell_type": "code",
   "execution_count": 6,
   "id": "2158e2c0-5f8a-4a42-a360-312a9c6a2031",
   "metadata": {},
   "outputs": [],
   "source": [
    "df_featout_ex = remove_subjs(data_dir, df_out) # remove multiple conditions"
   ]
  },
  {
   "cell_type": "code",
   "execution_count": 7,
   "id": "21a6bb86-8651-4121-b491-998e8fb72565",
   "metadata": {},
   "outputs": [
    {
     "data": {
      "text/plain": [
       "(2280, 36)"
      ]
     },
     "execution_count": 7,
     "metadata": {},
     "output_type": "execute_result"
    }
   ],
   "source": [
    "df_featout_ex.shape"
   ]
  },
  {
   "cell_type": "code",
   "execution_count": 10,
   "id": "32cb72e3-a50c-4d33-affc-18bf33d210c1",
   "metadata": {},
   "outputs": [],
   "source": [
    "bmrc_full_save = df_featout_ex['bmrc'].rename('eid')"
   ]
  },
  {
   "cell_type": "code",
   "execution_count": 14,
   "id": "a48a3949-f3c9-428d-b606-66c7d569deaf",
   "metadata": {},
   "outputs": [],
   "source": [
    "bmrc_full_save.to_csv('./bmrc_full/subjs_patients_pain_exmult.csv', index=None)"
   ]
  },
  {
   "cell_type": "code",
   "execution_count": 19,
   "id": "6ba861a5-0b51-434c-9c58-f2c012fd3c38",
   "metadata": {},
   "outputs": [],
   "source": [
    "subjs_full_save = df_featout_ex['eid']"
   ]
  },
  {
   "cell_type": "code",
   "execution_count": 22,
   "id": "f5fc1131-1d67-4866-8bdb-ae8e01dababf",
   "metadata": {},
   "outputs": [],
   "source": [
    "subjs_full_save.to_csv('./subjs/subjs_patients_pain_exmult.csv', index=None)"
   ]
  },
  {
   "cell_type": "code",
   "execution_count": 15,
   "id": "256264c2-58e1-40ae-b590-47387884302d",
   "metadata": {},
   "outputs": [],
   "source": [
    "dat = './npy/subjs_patients_pain_exmult/'"
   ]
  },
  {
   "cell_type": "code",
   "execution_count": 17,
   "id": "fedf4eea-89f2-4d89-8508-363fa92f6270",
   "metadata": {},
   "outputs": [],
   "source": [
    "tt = np.load(os.path.join(dat, 'cope1.npy'))"
   ]
  },
  {
   "cell_type": "code",
   "execution_count": 18,
   "id": "e6420e36-d224-41ca-b834-419f72905431",
   "metadata": {},
   "outputs": [
    {
     "data": {
      "text/plain": [
       "(2280, 228453)"
      ]
     },
     "execution_count": 18,
     "metadata": {},
     "output_type": "execute_result"
    }
   ],
   "source": [
    "tt.shape"
   ]
  },
  {
   "cell_type": "markdown",
   "id": "d7a84abb-1db6-4a37-9fa1-3ded36464a79",
   "metadata": {},
   "source": [
    "#### create pain minus matched for filter"
   ]
  },
  {
   "cell_type": "code",
   "execution_count": 116,
   "id": "66c176b3-fd19-47e0-9a4e-4a6d6d958075",
   "metadata": {},
   "outputs": [],
   "source": [
    "# fname = 'subjs_patients_pain_exmult.csv'\n",
    "fname = 'subjs_pain_minus_matched.csv'\n",
    "df_original = pd.read_csv('./subjs/'+fname, header=None)\n",
    "df_bmrc = pd.read_csv('./bmrc_full/'+fname)"
   ]
  },
  {
   "cell_type": "code",
   "execution_count": 111,
   "id": "9bb9dd96-7f15-40f4-997e-1b16672e6c33",
   "metadata": {},
   "outputs": [
    {
     "data": {
      "text/plain": [
       "(14422, 1)"
      ]
     },
     "execution_count": 111,
     "metadata": {},
     "output_type": "execute_result"
    }
   ],
   "source": [
    "df_original.shape"
   ]
  },
  {
   "cell_type": "code",
   "execution_count": 112,
   "id": "098ec4b2-b78f-41bd-b57f-e91e0b03b823",
   "metadata": {},
   "outputs": [
    {
     "data": {
      "text/plain": [
       "(14423, 1)"
      ]
     },
     "execution_count": 112,
     "metadata": {},
     "output_type": "execute_result"
    }
   ],
   "source": [
    "df_bmrc.shape"
   ]
  },
  {
   "cell_type": "code",
   "execution_count": 104,
   "id": "860e7778-d87d-4e6c-be11-ec58fdf4a296",
   "metadata": {},
   "outputs": [],
   "source": [
    "def revert_eid(df_bridge, in_csv, save=False):\n",
    "    \"\"\"revert bmrc to project eid\"\"\"\n",
    "    df_bmrc = pd.read_csv('./bmrc_full/'+in_csv)\n",
    "    df_slice = df_bmrc.merge(df_bridge, left_on='eid', right_on='eid_8107')\n",
    "    df_subjs = df_slice['eid_45465'].astype(int)\n",
    "    if save:\n",
    "        df_subjs.to_csv('./subjs/'+in_csv, index=None, header=None)\n",
    "    return df_subjs"
   ]
  },
  {
   "cell_type": "code",
   "execution_count": 105,
   "id": "3e740c81-d000-4111-be81-10958bada8bf",
   "metadata": {},
   "outputs": [],
   "source": [
    "df_bridge = pd.read_csv('../bridge_file/bridge_8107_45465.csv')"
   ]
  },
  {
   "cell_type": "code",
   "execution_count": 106,
   "id": "8a03397f-11ce-40ca-b893-322116ad1758",
   "metadata": {},
   "outputs": [],
   "source": [
    "df_original = revert_eid(df_bridge, fname, save=True)"
   ]
  },
  {
   "cell_type": "code",
   "execution_count": 118,
   "id": "2e19d34a-d1e2-41b0-ba6d-edd5747af4b3",
   "metadata": {},
   "outputs": [],
   "source": [
    "df_combine = pd.concat([df_original[0].rename('eid'),\n",
    "                        df_bmrc['eid'].rename('bmrc')], axis=1)"
   ]
  },
  {
   "cell_type": "code",
   "execution_count": 119,
   "id": "52be4c06-66f1-453e-88ee-b77d36fc28ab",
   "metadata": {},
   "outputs": [
    {
     "data": {
      "text/plain": [
       "(14423, 2)"
      ]
     },
     "execution_count": 119,
     "metadata": {},
     "output_type": "execute_result"
    }
   ],
   "source": [
    "df_combine.shape"
   ]
  },
  {
   "cell_type": "code",
   "execution_count": 120,
   "id": "27a5f031-7720-4008-8a36-58363f562144",
   "metadata": {},
   "outputs": [],
   "source": [
    "df_combine.to_csv('./subjs_bmrc/'+fname, index=None)"
   ]
  },
  {
   "cell_type": "markdown",
   "id": "f3faa3a2-264b-4d5f-a9ec-9ac99918621c",
   "metadata": {},
   "source": [
    "#### functions"
   ]
  },
  {
   "cell_type": "code",
   "execution_count": 3,
   "id": "6449ee52-17d9-4287-8bfb-97a29d4e3190",
   "metadata": {},
   "outputs": [],
   "source": [
    "def extract_qs(df_subjects, df_questionnaire, visits=[2]):\n",
    "    \"\"\"extract questionnaire set out of 5 possible\"\"\"\n",
    "    # load questionnaire code of interest\n",
    "    field_code = df_questionnaire['code'].to_list()\n",
    "    # extract all fields with questionnaire code\n",
    "    field_cols = []\n",
    "    for code in field_code:\n",
    "        # cols_ls = [col for col in df_subjects.columns if str(code)+'-' in col]\n",
    "        code_root = str(code)+'-'\n",
    "        cols_ls = [col for col in df_subjects.columns if col[:len(code_root)]==code_root]\n",
    "        if visits != None: # limit to visits only\n",
    "            if len(cols_ls) > 1:\n",
    "                cols_exclude = []\n",
    "                for visit in visits:\n",
    "                    for col in cols_ls:\n",
    "                        if '-'+str(visit) in col:\n",
    "                            cols_exclude.append(col)\n",
    "                cols_ls = cols_exclude\n",
    "        else:\n",
    "            cols_ls = cols_ls\n",
    "        field_cols += cols_ls\n",
    "    # append eid\n",
    "    field_cols += ['eid']\n",
    "    # remove duplicate\n",
    "    field_cols_rm = list(set(field_cols))\n",
    "    df_qs = df_subjects[field_cols_rm]\n",
    "    # remove duplicated columns\n",
    "    df_qs_rm = df_qs.loc[:, ~df_qs.columns.duplicated()]\n",
    "    return df_qs_rm"
   ]
  },
  {
   "cell_type": "code",
   "execution_count": 4,
   "id": "dbec0860-2e38-4139-8276-dc273b559c76",
   "metadata": {},
   "outputs": [],
   "source": [
    "def load_qscode(questionnaire='all', idp=None):\n",
    "    \"\"\"load questionnaire and idp code\"\"\"\n",
    "    base_dir = './bbk_codes/'\n",
    "    # questionnaire data\n",
    "    df_qs = pd.DataFrame()\n",
    "    if questionnaire!=None and len(questionnaire)!=0:\n",
    "        questionnaire_ls = ['lifestyle','mental','cognitive','digestive','cwp','demographic']\n",
    "        if (questionnaire!='all') and (questionnaire in questionnaire_ls):\n",
    "            df_qs = pd.read_csv(os.path.join(base_dir, questionnaire+'_code.csv'))\n",
    "        elif (questionnaire!='all') and (type(questionnaire) is list): # multiple qs sets\n",
    "            qs_ls = []\n",
    "            for i in questionnaire:\n",
    "                fname = i+'_code.csv'\n",
    "                fpath = os.path.join(base_dir, fname)\n",
    "                qs_ls.append(pd.read_csv(fpath))\n",
    "            df_qs = pd.concat(qs_ls)\n",
    "        elif questionnaire=='all':\n",
    "            questionnaire_ls = ['lifestyle','mental','cognitive','demographic']\n",
    "            qs_ls = []\n",
    "            for qs in questionnaire_ls:\n",
    "                qs_ls.append(pd.read_csv(os.path.join(base_dir,qs+'_code.csv')))\n",
    "            df_qs = pd.concat(qs_ls)\n",
    "        else:\n",
    "            raise ValueError('Questionnaire code does not exist.')\n",
    "    # idp data\n",
    "    df_idp = pd.DataFrame()\n",
    "    if idp!=None and len(idp)!=0:\n",
    "        idp_ls = ['dmri','wdmri','fast','subcorticalvol','t1vols','t2star','t2weighted','taskfmri']\n",
    "        if (idp!='all') and (idp in idp_ls): # single idp set\n",
    "            df_idp = pd.read_csv(os.path.join(base_dir, 'idp_'+idp+'_code.csv'))\n",
    "        elif (idp!='all') and (type(idp) is list): # multiple idp sets\n",
    "            idpc_ls = []\n",
    "            for i in idp:\n",
    "                fname = 'idp_'+i+'_code.csv'\n",
    "                fpath = os.path.join(base_dir, fname)\n",
    "                idpc_ls.append(pd.read_csv(fpath))\n",
    "            df_idp = pd.concat(idpc_ls)\n",
    "        elif idp=='all': # all idp sets\n",
    "            idpc_ls = []\n",
    "            for i in idp_ls:\n",
    "                fname = 'idp_'+i+'_code.csv'\n",
    "                fpath = os.path.join(base_dir, fname)\n",
    "                idpc_ls.append(pd.read_csv(fpath))\n",
    "            df_idp = pd.concat(idpc_ls)\n",
    "        else:\n",
    "            raise ValueError('IDP code does not exist.')\n",
    "    # combine questionnaire with idp\n",
    "    df_out = pd.concat([df_qs, df_idp])\n",
    "    return df_out"
   ]
  },
  {
   "cell_type": "code",
   "execution_count": 5,
   "id": "dfdb356a-dac3-4aa1-a7b6-5f03f95b193e",
   "metadata": {},
   "outputs": [],
   "source": [
    "def impute_qs(df, nan_percent=0.9, freq_fill='median', \n",
    "              transform=False, transform_fn='sqrt'):\n",
    "    \"\"\"impute questionnaire df\"\"\"\n",
    "    df_copy = df.copy()\n",
    "    # replace prefer not to say and remove object\n",
    "    df_copy = replace_noans(df_copy)\n",
    "    # replace multiple choice fields\n",
    "    df_copy = replace_multifield(df_copy)\n",
    "    # replace specific fields\n",
    "    df_copy = replace_specific(df_copy)\n",
    "    # fill freq nan with median\n",
    "    df_copy = replace_freq(df_copy, use=freq_fill)\n",
    "    # transform freq cols\n",
    "    if transform:\n",
    "        df_copy = apply_transform(df_copy, use=transform_fn)\n",
    "    # drop columns with threshold percentage nan\n",
    "    df_copy.dropna(axis=1, thresh=int(nan_percent*df_copy.shape[0]), inplace=True)\n",
    "    return df_copy\n",
    "\n",
    "def replace_noans(df):\n",
    "    \"\"\"replace prefer not to say if avaialable and remove object cols\"\"\"\n",
    "    df_copy = df.copy()\n",
    "    for col in df_copy.columns:\n",
    "        if col!='label': # exclude label\n",
    "            # remove time stamp cols\n",
    "            if df_copy[col].dtype==object:\n",
    "                df_copy.drop(col, axis=1, inplace=True)\n",
    "            # replace nan with -818 (prefer not to say)\n",
    "            elif np.any(df_copy[col]==-818):\n",
    "                df_copy[col].replace({np.nan: -818.}, inplace=True)\n",
    "    return df_copy\n",
    "\n",
    "def replace_multifield(df):\n",
    "    \"\"\"replace multiple choice fields\"\"\"\n",
    "    df_copy = df.copy()\n",
    "    categories_multi = [\n",
    "        '6160',#Leisure/social activities\n",
    "        '6145',#Illness, injury, bereavement, stress in last 2 years\n",
    "    ]\n",
    "    for cat in categories_multi:\n",
    "        p_cols = [col for col in df_copy.columns if col[:len(cat)+1]==str(cat)+'-']\n",
    "        for c in p_cols: # replace with none of the above -7\n",
    "            df_copy[c].replace(np.nan, -7., inplace=True)\n",
    "    return df_copy\n",
    "\n",
    "def replace_specific(df):\n",
    "    \"\"\"replace specific categories\"\"\"\n",
    "    df_copy = df.copy()\n",
    "    categories_zero = [\n",
    "        '20123',#Single episode of probable major depression\n",
    "        '20124',#Probable recurrent major depression (moderate)\n",
    "        '20125', #Probable recurrent major depression (severe)\n",
    "        '20481', #Self-harmed in past year\n",
    "        '20484', #Attempted suicide in past year\n",
    "        '20122', #Bipolar disorder status\n",
    "        '20126', #Bipolar and major depression status\n",
    "                 ]\n",
    "    categories_nts = [\n",
    "        '20414', #Frequency of drinking alcohol\n",
    "    ]\n",
    "    categories_to = [\n",
    "        '20246', #Trail making completion status\n",
    "        '20245', #Pairs matching completion status\n",
    "        '20244', #Symbol digit completion status\n",
    "    ]\n",
    "    for c in df_copy.columns:\n",
    "        for cat in categories_zero:\n",
    "            if cat in c: \n",
    "                df_copy[c].replace(np.nan, 0., inplace=True)\n",
    "        for cat in categories_nts:\n",
    "            if cat in c:\n",
    "                df_copy[c].replace(np.nan, -818., inplace=True) # treat as prefer not to say\n",
    "        for cat in categories_to:\n",
    "            if cat in c:\n",
    "                df_copy[c].replace(np.nan, 1., inplace=True) # treat as abandoned\n",
    "    return df_copy\n",
    "\n",
    "def replace_freq(df, use='median'):\n",
    "    \"\"\"replace nan in freq with median\"\"\"\n",
    "    df_copy = df.copy()\n",
    "    for c in df_copy.columns:\n",
    "        tmp = df_copy[c].value_counts()\n",
    "        if tmp.shape[0]>7 and c!='label': # most likely frequency/idp\n",
    "            if use == 'median':\n",
    "                df_copy[c].fillna(df_copy[c].median(), inplace=True)\n",
    "            elif use == 'mean':\n",
    "                df_copy[c].fillna(df_copy[c].mean(), inplace=True)\n",
    "        elif tmp.shape[0]<=7 and c!='label': # other types of freq\n",
    "            if np.any(df_copy[c]==-3.) or np.any(df_copy[c]==-1.): # prefer not to say\n",
    "                df_copy[c].replace({np.nan: -3.}, inplace=True)\n",
    "#             elif np.any(df_copy[c]==-600.): # degree of bother, also has prefer not to say\n",
    "#                 df_copy[c].replace({np.nan: -818.}, inplace=True)\n",
    "    return df_copy"
   ]
  },
  {
   "cell_type": "code",
   "execution_count": 181,
   "id": "3afbf5fb-c7f6-49ff-be70-163a11db9895",
   "metadata": {},
   "outputs": [],
   "source": [
    "bestIC = 50\n",
    "bfl_dir = '/well/seymour/users/uhu195/python/pain/'\n",
    "# bfloutput_dir = os.path.join(bfl_dir, 'output_patients_50')\n",
    "bfloutput_dir = os.path.join(bfl_dir, 'output_patients_500')"
   ]
  },
  {
   "cell_type": "code",
   "execution_count": 182,
   "id": "433231cc-da18-4b9d-861b-4aedbf65e122",
   "metadata": {},
   "outputs": [],
   "source": [
    "curr_dir = '/well/seymour/users/uhu195/python/extract_npy'\n",
    "# param_dir = os.path.join(curr_dir, 'hyperparam_cv', 'patients_optuna.csv')"
   ]
  },
  {
   "cell_type": "code",
   "execution_count": 183,
   "id": "0da9c4bb-897f-4a86-8041-46ddcfb80cd6",
   "metadata": {},
   "outputs": [],
   "source": [
    "bp_path = os.path.join(curr_dir, 'hyperparam_cv', f'best_params_IC{bestIC}.npy')\n",
    "params = np.load(bp_path, allow_pickle='TRUE').item() # load dict"
   ]
  },
  {
   "cell_type": "code",
   "execution_count": 184,
   "id": "e6da5083-5b87-4b2f-8509-52f1b0c3ee19",
   "metadata": {},
   "outputs": [
    {
     "data": {
      "text/plain": [
       "{'max_depth': 10,\n",
       " 'n_estimators': 225,\n",
       " 'max_features': 0.6326227223728347,\n",
       " 'min_samples_split': 12,\n",
       " 'min_samples_leaf': 14,\n",
       " 'max_samples': 0.8879865707952637}"
      ]
     },
     "execution_count": 184,
     "metadata": {},
     "output_type": "execute_result"
    }
   ],
   "source": [
    "params"
   ]
  },
  {
   "cell_type": "code",
   "execution_count": 185,
   "id": "57dc3543-dfbe-4721-b44d-54c95c6536db",
   "metadata": {
    "tags": []
   },
   "outputs": [
    {
     "name": "stdout",
     "output_type": "stream",
     "text": [
      "/well/seymour/users/uhu195/python/extract_npy//labels/label_patients_pain.csv\n",
      "(2724, 1)\n",
      "(2724, 6)\n",
      "(2280, 56)\n",
      "(2280, 50)\n",
      "4\n",
      "5-fold CV classification with classifier RandomForestClassifier(max_depth=10, max_features=0.6326227223728347,\n",
      "                       max_samples=0.8879865707952637, min_samples_leaf=14,\n",
      "                       min_samples_split=12, n_estimators=225):\n",
      "test ROC AUC=0.5714, test accuracy=0.3307, test f1=0.3307\n"
     ]
    },
    {
     "data": {
      "text/html": [
       "<div>\n",
       "<style scoped>\n",
       "    .dataframe tbody tr th:only-of-type {\n",
       "        vertical-align: middle;\n",
       "    }\n",
       "\n",
       "    .dataframe tbody tr th {\n",
       "        vertical-align: top;\n",
       "    }\n",
       "\n",
       "    .dataframe thead th {\n",
       "        text-align: right;\n",
       "    }\n",
       "</style>\n",
       "<table border=\"1\" class=\"dataframe\">\n",
       "  <thead>\n",
       "    <tr style=\"text-align: right;\">\n",
       "      <th></th>\n",
       "      <th>fit_time</th>\n",
       "      <th>score_time</th>\n",
       "      <th>test_accuracy</th>\n",
       "      <th>test_f1_micro</th>\n",
       "      <th>test_roc_auc_ovo</th>\n",
       "    </tr>\n",
       "  </thead>\n",
       "  <tbody>\n",
       "    <tr>\n",
       "      <th>0</th>\n",
       "      <td>2.948850</td>\n",
       "      <td>0.063872</td>\n",
       "      <td>0.333333</td>\n",
       "      <td>0.333333</td>\n",
       "      <td>0.584607</td>\n",
       "    </tr>\n",
       "    <tr>\n",
       "      <th>1</th>\n",
       "      <td>2.887013</td>\n",
       "      <td>0.064186</td>\n",
       "      <td>0.326667</td>\n",
       "      <td>0.326667</td>\n",
       "      <td>0.569126</td>\n",
       "    </tr>\n",
       "    <tr>\n",
       "      <th>2</th>\n",
       "      <td>2.901357</td>\n",
       "      <td>0.063468</td>\n",
       "      <td>0.330000</td>\n",
       "      <td>0.330000</td>\n",
       "      <td>0.588207</td>\n",
       "    </tr>\n",
       "    <tr>\n",
       "      <th>3</th>\n",
       "      <td>2.900222</td>\n",
       "      <td>0.063643</td>\n",
       "      <td>0.296667</td>\n",
       "      <td>0.296667</td>\n",
       "      <td>0.530859</td>\n",
       "    </tr>\n",
       "    <tr>\n",
       "      <th>4</th>\n",
       "      <td>2.923391</td>\n",
       "      <td>0.064991</td>\n",
       "      <td>0.366667</td>\n",
       "      <td>0.366667</td>\n",
       "      <td>0.584400</td>\n",
       "    </tr>\n",
       "  </tbody>\n",
       "</table>\n",
       "</div>"
      ],
      "text/plain": [
       "   fit_time  score_time  test_accuracy  test_f1_micro  test_roc_auc_ovo\n",
       "0  2.948850    0.063872       0.333333       0.333333          0.584607\n",
       "1  2.887013    0.064186       0.326667       0.326667          0.569126\n",
       "2  2.901357    0.063468       0.330000       0.330000          0.588207\n",
       "3  2.900222    0.063643       0.296667       0.296667          0.530859\n",
       "4  2.923391    0.064991       0.366667       0.366667          0.584400"
      ]
     },
     "execution_count": 185,
     "metadata": {},
     "output_type": "execute_result"
    }
   ],
   "source": [
    "# load data (500 IC)\n",
    "d = f'Result_IC{bestIC}'\n",
    "data_dir = os.path.join(bfloutput_dir, d)\n",
    "df_out = full_labels('patients_pain', save=False)\n",
    "df_featout_ex = remove_subjs(data_dir, df_out) # remove multiple conditions\n",
    "print(df_featout_ex.shape)\n",
    "#     X_train, y_train, _, _ = load_feats(df_featout_ex, bestIC, train=True, balance=True, scaler=True)\n",
    "# X_train, y_train = load_feats(df_featout_ex, bestIC, train=False, balance=True, scaler=True)\n",
    "# # train clf\n",
    "# forest = RandomForestClassifier(**params)\n",
    "# # load data\n",
    "# forest.fit(X_train, y_train)\n",
    "\n",
    "cv_classify(df_featout_ex, bestIC, classifier='rforest', tuned_params=params, cv_fold=5, scaler=True, balance=True)"
   ]
  },
  {
   "cell_type": "code",
   "execution_count": 10,
   "id": "8c0a585a-5455-4d08-b0d5-72a5d1355d61",
   "metadata": {
    "tags": []
   },
   "outputs": [
    {
     "name": "stdout",
     "output_type": "stream",
     "text": [
      "/well/seymour/users/uhu195/python/extract_npy//labels/label_patients_pain.csv\n",
      "(2724, 1)\n",
      "(2724, 6)\n",
      "(2280, 106)\n",
      "(2280, 100)\n",
      "4\n",
      "5-fold CV classification with classifier RandomForestClassifier(max_depth=2, max_features=0.5236846481050532,\n",
      "                       max_samples=0.6766668567081835, min_samples_leaf=14,\n",
      "                       min_samples_split=6, n_estimators=250):\n",
      "test ROC AUC=0.5680, test accuracy=0.3293, test f1=0.3293\n"
     ]
    },
    {
     "data": {
      "text/html": [
       "<div>\n",
       "<style scoped>\n",
       "    .dataframe tbody tr th:only-of-type {\n",
       "        vertical-align: middle;\n",
       "    }\n",
       "\n",
       "    .dataframe tbody tr th {\n",
       "        vertical-align: top;\n",
       "    }\n",
       "\n",
       "    .dataframe thead th {\n",
       "        text-align: right;\n",
       "    }\n",
       "</style>\n",
       "<table border=\"1\" class=\"dataframe\">\n",
       "  <thead>\n",
       "    <tr style=\"text-align: right;\">\n",
       "      <th></th>\n",
       "      <th>fit_time</th>\n",
       "      <th>score_time</th>\n",
       "      <th>test_accuracy</th>\n",
       "      <th>test_f1_micro</th>\n",
       "      <th>test_roc_auc_ovo</th>\n",
       "    </tr>\n",
       "  </thead>\n",
       "  <tbody>\n",
       "    <tr>\n",
       "      <th>0</th>\n",
       "      <td>1.661849</td>\n",
       "      <td>0.062518</td>\n",
       "      <td>0.333333</td>\n",
       "      <td>0.333333</td>\n",
       "      <td>0.576711</td>\n",
       "    </tr>\n",
       "    <tr>\n",
       "      <th>1</th>\n",
       "      <td>1.658394</td>\n",
       "      <td>0.061787</td>\n",
       "      <td>0.356667</td>\n",
       "      <td>0.356667</td>\n",
       "      <td>0.596844</td>\n",
       "    </tr>\n",
       "    <tr>\n",
       "      <th>2</th>\n",
       "      <td>1.661305</td>\n",
       "      <td>0.062138</td>\n",
       "      <td>0.326667</td>\n",
       "      <td>0.326667</td>\n",
       "      <td>0.574222</td>\n",
       "    </tr>\n",
       "    <tr>\n",
       "      <th>3</th>\n",
       "      <td>1.656882</td>\n",
       "      <td>0.060656</td>\n",
       "      <td>0.290000</td>\n",
       "      <td>0.290000</td>\n",
       "      <td>0.543600</td>\n",
       "    </tr>\n",
       "    <tr>\n",
       "      <th>4</th>\n",
       "      <td>1.651546</td>\n",
       "      <td>0.060680</td>\n",
       "      <td>0.340000</td>\n",
       "      <td>0.340000</td>\n",
       "      <td>0.548815</td>\n",
       "    </tr>\n",
       "  </tbody>\n",
       "</table>\n",
       "</div>"
      ],
      "text/plain": [
       "   fit_time  score_time  test_accuracy  test_f1_micro  test_roc_auc_ovo\n",
       "0  1.661849    0.062518       0.333333       0.333333          0.576711\n",
       "1  1.658394    0.061787       0.356667       0.356667          0.596844\n",
       "2  1.661305    0.062138       0.326667       0.326667          0.574222\n",
       "3  1.656882    0.060656       0.290000       0.290000          0.543600\n",
       "4  1.651546    0.060680       0.340000       0.340000          0.548815"
      ]
     },
     "execution_count": 10,
     "metadata": {},
     "output_type": "execute_result"
    }
   ],
   "source": [
    "# load data\n",
    "d = f'Result_IC{bestIC}'\n",
    "data_dir = os.path.join(bfloutput_dir, d)\n",
    "df_out = full_labels('patients_pain', save=False)\n",
    "df_featout_ex = remove_subjs(data_dir, df_out) # remove multiple conditions\n",
    "print(df_featout_ex.shape)\n",
    "#     X_train, y_train, _, _ = load_feats(df_featout_ex, bestIC, train=True, balance=True, scaler=True)\n",
    "# X_train, y_train = load_feats(df_featout_ex, bestIC, train=False, balance=True, scaler=True)\n",
    "# # train clf\n",
    "# forest = RandomForestClassifier(**params)\n",
    "# # load data\n",
    "# forest.fit(X_train, y_train)\n",
    "\n",
    "cv_classify(df_featout_ex, bestIC, classifier='rforest', tuned_params=params, cv_fold=5, scaler=True, balance=True)"
   ]
  },
  {
   "cell_type": "code",
   "execution_count": 11,
   "id": "551e03f7-3e97-4d42-ad20-c5fe801b47c4",
   "metadata": {},
   "outputs": [
    {
     "name": "stderr",
     "output_type": "stream",
     "text": [
      "/gpfs3/well/seymour/users/uhu195/python/extract-py3.7.4-skylake/lib/python3.7/site-packages/IPython/core/interactiveshell.py:3441: DtypeWarning: Columns (863,867) have mixed types.Specify dtype option on import or set low_memory=False.\n",
      "  exec(code_obj, self.user_global_ns, self.user_ns)\n"
     ]
    }
   ],
   "source": [
    "df_qsidp = pd.read_csv('./qsidp/qsidp_patients_pain.csv')"
   ]
  },
  {
   "cell_type": "code",
   "execution_count": 78,
   "id": "530c9e18-8846-446b-b565-227d9b08e570",
   "metadata": {},
   "outputs": [],
   "source": [
    "# select \n",
    "qs = load_qscode(questionnaire='all', idp=None)\n",
    "# qs = load_qscode(questionnaire=None, idp='all')"
   ]
  },
  {
   "cell_type": "code",
   "execution_count": 79,
   "id": "1329275d-33fd-482b-b57a-101e21b0b36a",
   "metadata": {},
   "outputs": [],
   "source": [
    "df_qs = extract_qs(df_qsidp, df_questionnaire=qs, visits=[2])"
   ]
  },
  {
   "cell_type": "code",
   "execution_count": 80,
   "id": "096d08af-f47a-4fb3-9964-eee78c311374",
   "metadata": {},
   "outputs": [
    {
     "data": {
      "text/plain": [
       "(3363, 153)"
      ]
     },
     "execution_count": 80,
     "metadata": {},
     "output_type": "execute_result"
    }
   ],
   "source": [
    "df_qs.shape"
   ]
  },
  {
   "cell_type": "code",
   "execution_count": 81,
   "id": "2fc9b75e-e573-41ff-bf87-89c6d30b6e84",
   "metadata": {},
   "outputs": [
    {
     "name": "stdout",
     "output_type": "stream",
     "text": [
      "(2280, 153)\n"
     ]
    }
   ],
   "source": [
    "# section used ones before imputing\n",
    "df_qs_sec = df_qs[df_qs['eid'].isin(df_featout_ex['eid'])]\n",
    "print(df_qs_sec.shape)"
   ]
  },
  {
   "cell_type": "code",
   "execution_count": 82,
   "id": "e6ae6c60-0ab1-488c-82db-bfe8c2fc579f",
   "metadata": {},
   "outputs": [],
   "source": [
    "# impute qs\n",
    "df_qs_imputed = impute_qs(df_qs_sec, nan_percent=0.9, freq_fill='median', \n",
    "              transform=False, transform_fn='sqrt')"
   ]
  },
  {
   "cell_type": "code",
   "execution_count": 157,
   "id": "9f53c341-0afd-4c4a-ade7-9723d5dd6305",
   "metadata": {},
   "outputs": [
    {
     "data": {
      "text/html": [
       "<div>\n",
       "<style scoped>\n",
       "    .dataframe tbody tr th:only-of-type {\n",
       "        vertical-align: middle;\n",
       "    }\n",
       "\n",
       "    .dataframe tbody tr th {\n",
       "        vertical-align: top;\n",
       "    }\n",
       "\n",
       "    .dataframe thead th {\n",
       "        text-align: right;\n",
       "    }\n",
       "</style>\n",
       "<table border=\"1\" class=\"dataframe\">\n",
       "  <thead>\n",
       "    <tr style=\"text-align: right;\">\n",
       "      <th></th>\n",
       "      <th>20403-0.0</th>\n",
       "      <th>20483-0.0</th>\n",
       "      <th>26431-0.0</th>\n",
       "      <th>20522-0.0</th>\n",
       "      <th>1031-2.0</th>\n",
       "      <th>20157-0.0</th>\n",
       "      <th>20523-0.0</th>\n",
       "      <th>6160-2.0</th>\n",
       "      <th>20195-0.0</th>\n",
       "      <th>20248-0.0</th>\n",
       "      <th>...</th>\n",
       "      <th>20499-0.0</th>\n",
       "      <th>2060-2.0</th>\n",
       "      <th>2020-2.0</th>\n",
       "      <th>6145-2.1</th>\n",
       "      <th>20124-0.0</th>\n",
       "      <th>2000-2.0</th>\n",
       "      <th>6160-2.1</th>\n",
       "      <th>20489-0.0</th>\n",
       "      <th>20247-0.0</th>\n",
       "      <th>20416-0.0</th>\n",
       "    </tr>\n",
       "  </thead>\n",
       "  <tbody>\n",
       "    <tr>\n",
       "      <th>1</th>\n",
       "      <td>-818.0</td>\n",
       "      <td>-818.0</td>\n",
       "      <td>-0.735</td>\n",
       "      <td>-818.0</td>\n",
       "      <td>3.0</td>\n",
       "      <td>59.3975</td>\n",
       "      <td>-818.0</td>\n",
       "      <td>1.0</td>\n",
       "      <td>21.0</td>\n",
       "      <td>2.0</td>\n",
       "      <td>...</td>\n",
       "      <td>-818.0</td>\n",
       "      <td>1.0</td>\n",
       "      <td>0.0</td>\n",
       "      <td>3.0</td>\n",
       "      <td>0.0</td>\n",
       "      <td>1.0</td>\n",
       "      <td>-7.0</td>\n",
       "      <td>-818.0</td>\n",
       "      <td>2.0</td>\n",
       "      <td>-818.0</td>\n",
       "    </tr>\n",
       "    <tr>\n",
       "      <th>2</th>\n",
       "      <td>2.0</td>\n",
       "      <td>-818.0</td>\n",
       "      <td>-0.735</td>\n",
       "      <td>1.0</td>\n",
       "      <td>4.0</td>\n",
       "      <td>40.5900</td>\n",
       "      <td>1.0</td>\n",
       "      <td>-7.0</td>\n",
       "      <td>22.0</td>\n",
       "      <td>1.0</td>\n",
       "      <td>...</td>\n",
       "      <td>1.0</td>\n",
       "      <td>4.0</td>\n",
       "      <td>0.0</td>\n",
       "      <td>-7.0</td>\n",
       "      <td>0.0</td>\n",
       "      <td>1.0</td>\n",
       "      <td>-7.0</td>\n",
       "      <td>3.0</td>\n",
       "      <td>2.0</td>\n",
       "      <td>1.0</td>\n",
       "    </tr>\n",
       "    <tr>\n",
       "      <th>3</th>\n",
       "      <td>3.0</td>\n",
       "      <td>-818.0</td>\n",
       "      <td>-0.735</td>\n",
       "      <td>4.0</td>\n",
       "      <td>2.0</td>\n",
       "      <td>59.3975</td>\n",
       "      <td>0.0</td>\n",
       "      <td>1.0</td>\n",
       "      <td>21.0</td>\n",
       "      <td>2.0</td>\n",
       "      <td>...</td>\n",
       "      <td>1.0</td>\n",
       "      <td>1.0</td>\n",
       "      <td>0.0</td>\n",
       "      <td>-7.0</td>\n",
       "      <td>0.0</td>\n",
       "      <td>0.0</td>\n",
       "      <td>2.0</td>\n",
       "      <td>3.0</td>\n",
       "      <td>2.0</td>\n",
       "      <td>4.0</td>\n",
       "    </tr>\n",
       "    <tr>\n",
       "      <th>5</th>\n",
       "      <td>1.0</td>\n",
       "      <td>-818.0</td>\n",
       "      <td>-0.735</td>\n",
       "      <td>4.0</td>\n",
       "      <td>2.0</td>\n",
       "      <td>59.3975</td>\n",
       "      <td>1.0</td>\n",
       "      <td>1.0</td>\n",
       "      <td>21.0</td>\n",
       "      <td>2.0</td>\n",
       "      <td>...</td>\n",
       "      <td>0.0</td>\n",
       "      <td>1.0</td>\n",
       "      <td>0.0</td>\n",
       "      <td>-7.0</td>\n",
       "      <td>0.0</td>\n",
       "      <td>0.0</td>\n",
       "      <td>-7.0</td>\n",
       "      <td>4.0</td>\n",
       "      <td>2.0</td>\n",
       "      <td>1.0</td>\n",
       "    </tr>\n",
       "    <tr>\n",
       "      <th>6</th>\n",
       "      <td>-818.0</td>\n",
       "      <td>-818.0</td>\n",
       "      <td>-0.735</td>\n",
       "      <td>-818.0</td>\n",
       "      <td>3.0</td>\n",
       "      <td>59.3975</td>\n",
       "      <td>-818.0</td>\n",
       "      <td>5.0</td>\n",
       "      <td>21.0</td>\n",
       "      <td>2.0</td>\n",
       "      <td>...</td>\n",
       "      <td>-818.0</td>\n",
       "      <td>1.0</td>\n",
       "      <td>0.0</td>\n",
       "      <td>-7.0</td>\n",
       "      <td>0.0</td>\n",
       "      <td>0.0</td>\n",
       "      <td>-7.0</td>\n",
       "      <td>-818.0</td>\n",
       "      <td>2.0</td>\n",
       "      <td>-818.0</td>\n",
       "    </tr>\n",
       "  </tbody>\n",
       "</table>\n",
       "<p>5 rows × 113 columns</p>\n",
       "</div>"
      ],
      "text/plain": [
       "   20403-0.0  20483-0.0  26431-0.0  20522-0.0  1031-2.0  20157-0.0  20523-0.0  \\\n",
       "1     -818.0     -818.0     -0.735     -818.0       3.0    59.3975     -818.0   \n",
       "2        2.0     -818.0     -0.735        1.0       4.0    40.5900        1.0   \n",
       "3        3.0     -818.0     -0.735        4.0       2.0    59.3975        0.0   \n",
       "5        1.0     -818.0     -0.735        4.0       2.0    59.3975        1.0   \n",
       "6     -818.0     -818.0     -0.735     -818.0       3.0    59.3975     -818.0   \n",
       "\n",
       "   6160-2.0  20195-0.0  20248-0.0  ...  20499-0.0  2060-2.0  2020-2.0  \\\n",
       "1       1.0       21.0        2.0  ...     -818.0       1.0       0.0   \n",
       "2      -7.0       22.0        1.0  ...        1.0       4.0       0.0   \n",
       "3       1.0       21.0        2.0  ...        1.0       1.0       0.0   \n",
       "5       1.0       21.0        2.0  ...        0.0       1.0       0.0   \n",
       "6       5.0       21.0        2.0  ...     -818.0       1.0       0.0   \n",
       "\n",
       "   6145-2.1  20124-0.0  2000-2.0  6160-2.1  20489-0.0  20247-0.0  20416-0.0  \n",
       "1       3.0        0.0       1.0      -7.0     -818.0        2.0     -818.0  \n",
       "2      -7.0        0.0       1.0      -7.0        3.0        2.0        1.0  \n",
       "3      -7.0        0.0       0.0       2.0        3.0        2.0        4.0  \n",
       "5      -7.0        0.0       0.0      -7.0        4.0        2.0        1.0  \n",
       "6      -7.0        0.0       0.0      -7.0     -818.0        2.0     -818.0  \n",
       "\n",
       "[5 rows x 113 columns]"
      ]
     },
     "execution_count": 157,
     "metadata": {},
     "output_type": "execute_result"
    }
   ],
   "source": [
    "df_qs_imputed.head()"
   ]
  },
  {
   "cell_type": "code",
   "execution_count": 167,
   "id": "3e74bd7b-f678-4a48-a96a-012f800ba97d",
   "metadata": {},
   "outputs": [],
   "source": [
    "# check continuous vs categorical\n",
    "all_ls = []\n",
    "# for i,r in df_qs_imputed[['20403-0.0', '20483-0.0']].iteritems():\n",
    "for i,r in df_qs_imputed.iteritems():\n",
    "    cat_count = len(r.value_counts().values)\n",
    "    if cat_count < 8:\n",
    "#         tmp = pd.get_dummies(r, prefix=i)\n",
    "        tmp = pd.get_dummies(r, prefix=i, drop_first=True)\n",
    "    else:\n",
    "        tmp = pd.DataFrame(r)\n",
    "    all_ls.append(tmp.reset_index(drop=True))"
   ]
  },
  {
   "cell_type": "code",
   "execution_count": 168,
   "id": "d1a8e722-d3f4-4161-9ce4-077271449786",
   "metadata": {},
   "outputs": [],
   "source": [
    "df_qs_imputed_dum = pd.concat(all_ls, axis=1)"
   ]
  },
  {
   "cell_type": "code",
   "execution_count": 169,
   "id": "96a21b9d-683f-48bd-956c-4830b9192640",
   "metadata": {},
   "outputs": [
    {
     "data": {
      "text/plain": [
       "(2280, 106)"
      ]
     },
     "execution_count": 169,
     "metadata": {},
     "output_type": "execute_result"
    }
   ],
   "source": [
    "df_featout_ex.shape"
   ]
  },
  {
   "cell_type": "code",
   "execution_count": 170,
   "id": "11f4aaaf-b3f3-4b2b-b789-05399d27e6a5",
   "metadata": {},
   "outputs": [
    {
     "data": {
      "text/html": [
       "<div>\n",
       "<style scoped>\n",
       "    .dataframe tbody tr th:only-of-type {\n",
       "        vertical-align: middle;\n",
       "    }\n",
       "\n",
       "    .dataframe tbody tr th {\n",
       "        vertical-align: top;\n",
       "    }\n",
       "\n",
       "    .dataframe thead th {\n",
       "        text-align: right;\n",
       "    }\n",
       "</style>\n",
       "<table border=\"1\" class=\"dataframe\">\n",
       "  <thead>\n",
       "    <tr style=\"text-align: right;\">\n",
       "      <th></th>\n",
       "      <th>eid</th>\n",
       "      <th>irritable bowel syndrome</th>\n",
       "      <th>migraine</th>\n",
       "      <th>back pain</th>\n",
       "      <th>osteoarthritis</th>\n",
       "      <th>bmrc</th>\n",
       "      <th>0</th>\n",
       "      <th>1</th>\n",
       "      <th>2</th>\n",
       "      <th>3</th>\n",
       "      <th>...</th>\n",
       "      <th>90</th>\n",
       "      <th>91</th>\n",
       "      <th>92</th>\n",
       "      <th>93</th>\n",
       "      <th>94</th>\n",
       "      <th>95</th>\n",
       "      <th>96</th>\n",
       "      <th>97</th>\n",
       "      <th>98</th>\n",
       "      <th>99</th>\n",
       "    </tr>\n",
       "  </thead>\n",
       "  <tbody>\n",
       "    <tr>\n",
       "      <th>0</th>\n",
       "      <td>1009498</td>\n",
       "      <td>0</td>\n",
       "      <td>0</td>\n",
       "      <td>1</td>\n",
       "      <td>0</td>\n",
       "      <td>3374984</td>\n",
       "      <td>-2.037693e+07</td>\n",
       "      <td>1.827363e+07</td>\n",
       "      <td>-39743.553396</td>\n",
       "      <td>549538.377241</td>\n",
       "      <td>...</td>\n",
       "      <td>0.385746</td>\n",
       "      <td>0.185159</td>\n",
       "      <td>-0.078095</td>\n",
       "      <td>0.162100</td>\n",
       "      <td>-0.002303</td>\n",
       "      <td>0.0</td>\n",
       "      <td>0.0</td>\n",
       "      <td>0.0</td>\n",
       "      <td>0.0</td>\n",
       "      <td>0.0</td>\n",
       "    </tr>\n",
       "    <tr>\n",
       "      <th>1</th>\n",
       "      <td>1009687</td>\n",
       "      <td>0</td>\n",
       "      <td>0</td>\n",
       "      <td>0</td>\n",
       "      <td>1</td>\n",
       "      <td>5477409</td>\n",
       "      <td>-2.113552e+07</td>\n",
       "      <td>-1.800645e+06</td>\n",
       "      <td>382392.172648</td>\n",
       "      <td>469098.508579</td>\n",
       "      <td>...</td>\n",
       "      <td>0.404936</td>\n",
       "      <td>0.392089</td>\n",
       "      <td>0.289257</td>\n",
       "      <td>-0.057072</td>\n",
       "      <td>0.034051</td>\n",
       "      <td>0.0</td>\n",
       "      <td>0.0</td>\n",
       "      <td>0.0</td>\n",
       "      <td>0.0</td>\n",
       "      <td>0.0</td>\n",
       "    </tr>\n",
       "    <tr>\n",
       "      <th>2</th>\n",
       "      <td>1034646</td>\n",
       "      <td>0</td>\n",
       "      <td>1</td>\n",
       "      <td>0</td>\n",
       "      <td>0</td>\n",
       "      <td>1901794</td>\n",
       "      <td>-3.535790e+07</td>\n",
       "      <td>2.854687e+06</td>\n",
       "      <td>-30499.144031</td>\n",
       "      <td>168267.344017</td>\n",
       "      <td>...</td>\n",
       "      <td>-0.209228</td>\n",
       "      <td>0.074710</td>\n",
       "      <td>-0.483292</td>\n",
       "      <td>-0.007582</td>\n",
       "      <td>0.051398</td>\n",
       "      <td>0.0</td>\n",
       "      <td>0.0</td>\n",
       "      <td>0.0</td>\n",
       "      <td>0.0</td>\n",
       "      <td>0.0</td>\n",
       "    </tr>\n",
       "    <tr>\n",
       "      <th>3</th>\n",
       "      <td>1043722</td>\n",
       "      <td>0</td>\n",
       "      <td>1</td>\n",
       "      <td>0</td>\n",
       "      <td>0</td>\n",
       "      <td>4444357</td>\n",
       "      <td>-6.854058e+06</td>\n",
       "      <td>-1.330045e+07</td>\n",
       "      <td>967580.373336</td>\n",
       "      <td>128703.801067</td>\n",
       "      <td>...</td>\n",
       "      <td>0.287834</td>\n",
       "      <td>-0.007288</td>\n",
       "      <td>0.140404</td>\n",
       "      <td>0.054040</td>\n",
       "      <td>-0.014287</td>\n",
       "      <td>0.0</td>\n",
       "      <td>0.0</td>\n",
       "      <td>0.0</td>\n",
       "      <td>0.0</td>\n",
       "      <td>0.0</td>\n",
       "    </tr>\n",
       "    <tr>\n",
       "      <th>4</th>\n",
       "      <td>1052218</td>\n",
       "      <td>0</td>\n",
       "      <td>0</td>\n",
       "      <td>0</td>\n",
       "      <td>1</td>\n",
       "      <td>2745333</td>\n",
       "      <td>1.288482e+06</td>\n",
       "      <td>-5.242134e+06</td>\n",
       "      <td>479195.303494</td>\n",
       "      <td>-268740.399271</td>\n",
       "      <td>...</td>\n",
       "      <td>-0.223085</td>\n",
       "      <td>-0.625955</td>\n",
       "      <td>-0.043717</td>\n",
       "      <td>-0.163596</td>\n",
       "      <td>0.026179</td>\n",
       "      <td>0.0</td>\n",
       "      <td>0.0</td>\n",
       "      <td>0.0</td>\n",
       "      <td>0.0</td>\n",
       "      <td>0.0</td>\n",
       "    </tr>\n",
       "  </tbody>\n",
       "</table>\n",
       "<p>5 rows × 106 columns</p>\n",
       "</div>"
      ],
      "text/plain": [
       "       eid  irritable bowel syndrome  migraine  back pain  osteoarthritis  \\\n",
       "0  1009498                         0         0          1               0   \n",
       "1  1009687                         0         0          0               1   \n",
       "2  1034646                         0         1          0               0   \n",
       "3  1043722                         0         1          0               0   \n",
       "4  1052218                         0         0          0               1   \n",
       "\n",
       "      bmrc             0             1              2              3  ...  \\\n",
       "0  3374984 -2.037693e+07  1.827363e+07  -39743.553396  549538.377241  ...   \n",
       "1  5477409 -2.113552e+07 -1.800645e+06  382392.172648  469098.508579  ...   \n",
       "2  1901794 -3.535790e+07  2.854687e+06  -30499.144031  168267.344017  ...   \n",
       "3  4444357 -6.854058e+06 -1.330045e+07  967580.373336  128703.801067  ...   \n",
       "4  2745333  1.288482e+06 -5.242134e+06  479195.303494 -268740.399271  ...   \n",
       "\n",
       "         90        91        92        93        94   95   96   97   98   99  \n",
       "0  0.385746  0.185159 -0.078095  0.162100 -0.002303  0.0  0.0  0.0  0.0  0.0  \n",
       "1  0.404936  0.392089  0.289257 -0.057072  0.034051  0.0  0.0  0.0  0.0  0.0  \n",
       "2 -0.209228  0.074710 -0.483292 -0.007582  0.051398  0.0  0.0  0.0  0.0  0.0  \n",
       "3  0.287834 -0.007288  0.140404  0.054040 -0.014287  0.0  0.0  0.0  0.0  0.0  \n",
       "4 -0.223085 -0.625955 -0.043717 -0.163596  0.026179  0.0  0.0  0.0  0.0  0.0  \n",
       "\n",
       "[5 rows x 106 columns]"
      ]
     },
     "execution_count": 170,
     "metadata": {},
     "output_type": "execute_result"
    }
   ],
   "source": [
    "df_featout_ex.head()"
   ]
  },
  {
   "cell_type": "code",
   "execution_count": 171,
   "id": "6fcb139f-6416-4fab-8f23-22beb9e2bd7b",
   "metadata": {},
   "outputs": [],
   "source": [
    "# merge\n",
    "df_bfl_qsidp = df_featout_ex.merge(df_qs_imputed_dum, left_on='eid', right_on='eid', how='left',indicator=False)"
   ]
  },
  {
   "cell_type": "code",
   "execution_count": 172,
   "id": "39ce8437-4da2-4a3f-871d-287384f532a8",
   "metadata": {},
   "outputs": [
    {
     "data": {
      "text/plain": [
       "(2280, 395)"
      ]
     },
     "execution_count": 172,
     "metadata": {},
     "output_type": "execute_result"
    }
   ],
   "source": [
    "df_bfl_qsidp.shape"
   ]
  },
  {
   "cell_type": "code",
   "execution_count": 174,
   "id": "4371caec-cbea-48a9-9530-9898448aab91",
   "metadata": {
    "collapsed": true,
    "jupyter": {
     "outputs_hidden": true
    },
    "tags": []
   },
   "outputs": [
    {
     "name": "stderr",
     "output_type": "stream",
     "text": [
      "\u001b[32m[I 2021-10-12 13:48:14,809]\u001b[0m A new study created in memory with name: no-name-c2c12b90-d619-4958-bb14-57f426a8d04e\u001b[0m\n"
     ]
    },
    {
     "name": "stdout",
     "output_type": "stream",
     "text": [
      "(2280, 389)\n",
      "(1500, 389) (1500,)\n"
     ]
    },
    {
     "name": "stderr",
     "output_type": "stream",
     "text": [
      "\u001b[32m[I 2021-10-12 13:48:27,015]\u001b[0m Trial 0 finished with value: 0.34800000000000003 and parameters: {'max_depth': 17, 'n_estimators': 200, 'max_features': 0.9140052288539503, 'min_samples_split': 12, 'min_samples_leaf': 2, 'max_samples': 0.9178544254549668}. Best is trial 0 with value: 0.34800000000000003.\u001b[0m\n",
      "\u001b[32m[I 2021-10-12 13:48:29,364]\u001b[0m Trial 1 finished with value: 0.37666666666666665 and parameters: {'max_depth': 23, 'n_estimators': 200, 'max_features': 0.2011147607554608, 'min_samples_split': 5, 'min_samples_leaf': 11, 'max_samples': 0.7566969777567052}. Best is trial 1 with value: 0.37666666666666665.\u001b[0m\n",
      "\u001b[32m[I 2021-10-12 13:48:33,601]\u001b[0m Trial 2 finished with value: 0.35733333333333334 and parameters: {'max_depth': 7, 'n_estimators': 100, 'max_features': 0.8417361309180584, 'min_samples_split': 10, 'min_samples_leaf': 5, 'max_samples': 0.9354836128827977}. Best is trial 1 with value: 0.37666666666666665.\u001b[0m\n",
      "\u001b[32m[I 2021-10-12 13:48:37,825]\u001b[0m Trial 3 finished with value: 0.35266666666666663 and parameters: {'max_depth': 24, 'n_estimators': 150, 'max_features': 0.538550117225103, 'min_samples_split': 6, 'min_samples_leaf': 11, 'max_samples': 0.9785064897622626}. Best is trial 1 with value: 0.37666666666666665.\u001b[0m\n",
      "\u001b[32m[I 2021-10-12 13:48:38,800]\u001b[0m Trial 4 finished with value: 0.3553333333333333 and parameters: {'max_depth': 2, 'n_estimators': 25, 'max_features': 0.9355812754550397, 'min_samples_split': 14, 'min_samples_leaf': 12, 'max_samples': 0.7442017614987102}. Best is trial 1 with value: 0.37666666666666665.\u001b[0m\n",
      "\u001b[32m[I 2021-10-12 13:48:47,263]\u001b[0m Trial 5 finished with value: 0.35733333333333334 and parameters: {'max_depth': 17, 'n_estimators': 250, 'max_features': 0.7320671472180152, 'min_samples_split': 9, 'min_samples_leaf': 8, 'max_samples': 0.8630221282412167}. Best is trial 1 with value: 0.37666666666666665.\u001b[0m\n",
      "\u001b[32m[I 2021-10-12 13:48:54,413]\u001b[0m Trial 6 finished with value: 0.3593333333333333 and parameters: {'max_depth': 28, 'n_estimators': 225, 'max_features': 0.9202555578489149, 'min_samples_split': 8, 'min_samples_leaf': 9, 'max_samples': 0.6384937753137079}. Best is trial 1 with value: 0.37666666666666665.\u001b[0m\n",
      "\u001b[32m[I 2021-10-12 13:48:59,114]\u001b[0m Trial 7 finished with value: 0.3593333333333333 and parameters: {'max_depth': 8, 'n_estimators': 150, 'max_features': 0.7566429173139315, 'min_samples_split': 5, 'min_samples_leaf': 13, 'max_samples': 0.8505554605093812}. Best is trial 1 with value: 0.37666666666666665.\u001b[0m\n",
      "\u001b[32m[I 2021-10-12 13:49:03,617]\u001b[0m Trial 8 finished with value: 0.35600000000000004 and parameters: {'max_depth': 4, 'n_estimators': 250, 'max_features': 0.7180558011623622, 'min_samples_split': 11, 'min_samples_leaf': 11, 'max_samples': 0.6531647122890728}. Best is trial 1 with value: 0.37666666666666665.\u001b[0m\n",
      "\u001b[32m[I 2021-10-12 13:49:06,305]\u001b[0m Trial 9 finished with value: 0.36000000000000004 and parameters: {'max_depth': 4, 'n_estimators': 250, 'max_features': 0.29157616700174216, 'min_samples_split': 3, 'min_samples_leaf': 1, 'max_samples': 0.7473458916392319}. Best is trial 1 with value: 0.37666666666666665.\u001b[0m\n",
      "\u001b[32m[I 2021-10-12 13:49:07,424]\u001b[0m Trial 10 finished with value: 0.31666666666666665 and parameters: {'max_depth': 11, 'n_estimators': 50, 'max_features': 0.17543206103662712, 'min_samples_split': 2, 'min_samples_leaf': 5, 'max_samples': 0.719095203830859}. Best is trial 1 with value: 0.37666666666666665.\u001b[0m\n",
      "\u001b[32m[I 2021-10-12 13:49:08,962]\u001b[0m Trial 11 finished with value: 0.3506666666666667 and parameters: {'max_depth': 3, 'n_estimators': 200, 'max_features': 0.1651275517722749, 'min_samples_split': 2, 'min_samples_leaf': 1, 'max_samples': 0.7571089055807918}. Best is trial 1 with value: 0.37666666666666665.\u001b[0m\n",
      "\u001b[32m[I 2021-10-12 13:49:10,411]\u001b[0m Trial 12 finished with value: 0.36599999999999994 and parameters: {'max_depth': 4, 'n_estimators': 75, 'max_features': 0.36287211742223235, 'min_samples_split': 5, 'min_samples_leaf': 5, 'max_samples': 0.8200815888349305}. Best is trial 1 with value: 0.37666666666666665.\u001b[0m\n",
      "\u001b[32m[I 2021-10-12 13:49:12,090]\u001b[0m Trial 13 finished with value: 0.36066666666666664 and parameters: {'max_depth': 5, 'n_estimators': 75, 'max_features': 0.39651462310229013, 'min_samples_split': 6, 'min_samples_leaf': 5, 'max_samples': 0.8206449446811844}. Best is trial 1 with value: 0.37666666666666665.\u001b[0m\n",
      "\u001b[32m[I 2021-10-12 13:49:13,279]\u001b[0m Trial 14 finished with value: 0.36800000000000005 and parameters: {'max_depth': 2, 'n_estimators': 75, 'max_features': 0.4229466645741409, 'min_samples_split': 4, 'min_samples_leaf': 7, 'max_samples': 0.7916002571435422}. Best is trial 1 with value: 0.37666666666666665.\u001b[0m\n",
      "\u001b[32m[I 2021-10-12 13:49:15,233]\u001b[0m Trial 15 finished with value: 0.3626666666666667 and parameters: {'max_depth': 2, 'n_estimators': 175, 'max_features': 0.5400889775103499, 'min_samples_split': 4, 'min_samples_leaf': 14, 'max_samples': 0.6919569600721658}. Best is trial 1 with value: 0.37666666666666665.\u001b[0m\n",
      "\u001b[32m[I 2021-10-12 13:49:17,570]\u001b[0m Trial 16 finished with value: 0.34800000000000003 and parameters: {'max_depth': 12, 'n_estimators': 125, 'max_features': 0.4384795264002959, 'min_samples_split': 7, 'min_samples_leaf': 9, 'max_samples': 0.7947486704226268}. Best is trial 1 with value: 0.37666666666666665.\u001b[0m\n",
      "\u001b[32m[I 2021-10-12 13:49:19,728]\u001b[0m Trial 17 finished with value: 0.3553333333333333 and parameters: {'max_depth': 32, 'n_estimators': 200, 'max_features': 0.2708777219785179, 'min_samples_split': 4, 'min_samples_leaf': 7, 'max_samples': 0.6043028983391707}. Best is trial 1 with value: 0.37666666666666665.\u001b[0m\n",
      "\u001b[32m[I 2021-10-12 13:49:20,719]\u001b[0m Trial 18 finished with value: 0.3406666666666667 and parameters: {'max_depth': 10, 'n_estimators': 75, 'max_features': 0.2762751495100351, 'min_samples_split': 7, 'min_samples_leaf': 10, 'max_samples': 0.781656999614279}. Best is trial 1 with value: 0.37666666666666665.\u001b[0m\n",
      "\u001b[32m[I 2021-10-12 13:49:24,911]\u001b[0m Trial 19 finished with value: 0.3466666666666667 and parameters: {'max_depth': 18, 'n_estimators': 225, 'max_features': 0.46983676097528676, 'min_samples_split': 4, 'min_samples_leaf': 7, 'max_samples': 0.694110460526463}. Best is trial 1 with value: 0.37666666666666665.\u001b[0m\n"
     ]
    },
    {
     "name": "stdout",
     "output_type": "stream",
     "text": [
      "{'max_depth': 23, 'n_estimators': 200, 'max_features': 0.2011147607554608, 'min_samples_split': 5, 'min_samples_leaf': 11, 'max_samples': 0.7566969777567052}\n"
     ]
    }
   ],
   "source": [
    "# retrain params \n",
    "import optuna\n",
    "from compare_hyperparams import objective, load_feats\n",
    "\n",
    "X_train, y_train = load_feats(df_bfl_qsidp, bestIC, train=False, balance=True, scaler=True)\n",
    "print(X_train.shape, y_train.shape)\n",
    "study = optuna.create_study(direction=\"maximize\")\n",
    "study.optimize(lambda trial: objective(trial, X_train, y_train), n_trials=20)\n",
    "bp = study.best_trial.params\n",
    "print(bp)"
   ]
  },
  {
   "cell_type": "code",
   "execution_count": 175,
   "id": "5b847ae1-10e4-4de0-8fec-cc02e8c51842",
   "metadata": {},
   "outputs": [
    {
     "name": "stdout",
     "output_type": "stream",
     "text": [
      "(2280, 389)\n",
      "4\n",
      "5-fold CV classification with classifier RandomForestClassifier(max_depth=23, max_features=0.2011147607554608,\n",
      "                       max_samples=0.7566969777567052, min_samples_leaf=11,\n",
      "                       min_samples_split=5, n_estimators=200):\n",
      "test ROC AUC=0.6132, test accuracy=0.3613, test f1=0.3613\n"
     ]
    },
    {
     "data": {
      "text/html": [
       "<div>\n",
       "<style scoped>\n",
       "    .dataframe tbody tr th:only-of-type {\n",
       "        vertical-align: middle;\n",
       "    }\n",
       "\n",
       "    .dataframe tbody tr th {\n",
       "        vertical-align: top;\n",
       "    }\n",
       "\n",
       "    .dataframe thead th {\n",
       "        text-align: right;\n",
       "    }\n",
       "</style>\n",
       "<table border=\"1\" class=\"dataframe\">\n",
       "  <thead>\n",
       "    <tr style=\"text-align: right;\">\n",
       "      <th></th>\n",
       "      <th>fit_time</th>\n",
       "      <th>score_time</th>\n",
       "      <th>test_accuracy</th>\n",
       "      <th>test_f1_micro</th>\n",
       "      <th>test_roc_auc_ovo</th>\n",
       "    </tr>\n",
       "  </thead>\n",
       "  <tbody>\n",
       "    <tr>\n",
       "      <th>0</th>\n",
       "      <td>2.012449</td>\n",
       "      <td>0.061226</td>\n",
       "      <td>0.333333</td>\n",
       "      <td>0.333333</td>\n",
       "      <td>0.615852</td>\n",
       "    </tr>\n",
       "    <tr>\n",
       "      <th>1</th>\n",
       "      <td>2.037176</td>\n",
       "      <td>0.061140</td>\n",
       "      <td>0.406667</td>\n",
       "      <td>0.406667</td>\n",
       "      <td>0.602652</td>\n",
       "    </tr>\n",
       "    <tr>\n",
       "      <th>2</th>\n",
       "      <td>1.984198</td>\n",
       "      <td>0.059746</td>\n",
       "      <td>0.376667</td>\n",
       "      <td>0.376667</td>\n",
       "      <td>0.621037</td>\n",
       "    </tr>\n",
       "    <tr>\n",
       "      <th>3</th>\n",
       "      <td>2.020768</td>\n",
       "      <td>0.060366</td>\n",
       "      <td>0.340000</td>\n",
       "      <td>0.340000</td>\n",
       "      <td>0.608281</td>\n",
       "    </tr>\n",
       "    <tr>\n",
       "      <th>4</th>\n",
       "      <td>2.006107</td>\n",
       "      <td>0.060413</td>\n",
       "      <td>0.350000</td>\n",
       "      <td>0.350000</td>\n",
       "      <td>0.618385</td>\n",
       "    </tr>\n",
       "  </tbody>\n",
       "</table>\n",
       "</div>"
      ],
      "text/plain": [
       "   fit_time  score_time  test_accuracy  test_f1_micro  test_roc_auc_ovo\n",
       "0  2.012449    0.061226       0.333333       0.333333          0.615852\n",
       "1  2.037176    0.061140       0.406667       0.406667          0.602652\n",
       "2  1.984198    0.059746       0.376667       0.376667          0.621037\n",
       "3  2.020768    0.060366       0.340000       0.340000          0.608281\n",
       "4  2.006107    0.060413       0.350000       0.350000          0.618385"
      ]
     },
     "execution_count": 175,
     "metadata": {},
     "output_type": "execute_result"
    }
   ],
   "source": [
    "# qs alone, sectioned before merge, dummified\n",
    "cv_classify(df_bfl_qsidp, bestIC, classifier='rforest', tuned_params=bp, cv_fold=5, scaler=True, balance=True)"
   ]
  },
  {
   "cell_type": "code",
   "execution_count": 65,
   "id": "4761aa0d-62ab-463c-8a6a-71f9f89a1bf2",
   "metadata": {},
   "outputs": [
    {
     "name": "stdout",
     "output_type": "stream",
     "text": [
      "(2280, 212)\n",
      "4\n",
      "5-fold CV classification with classifier RandomForestClassifier(max_depth=3, max_features=0.43559897216631016,\n",
      "                       max_samples=0.9465356674703758, min_samples_leaf=14,\n",
      "                       min_samples_split=4, n_estimators=200):\n",
      "test ROC AUC=0.6114, test accuracy=0.3740, test f1=0.3740\n"
     ]
    },
    {
     "data": {
      "text/html": [
       "<div>\n",
       "<style scoped>\n",
       "    .dataframe tbody tr th:only-of-type {\n",
       "        vertical-align: middle;\n",
       "    }\n",
       "\n",
       "    .dataframe tbody tr th {\n",
       "        vertical-align: top;\n",
       "    }\n",
       "\n",
       "    .dataframe thead th {\n",
       "        text-align: right;\n",
       "    }\n",
       "</style>\n",
       "<table border=\"1\" class=\"dataframe\">\n",
       "  <thead>\n",
       "    <tr style=\"text-align: right;\">\n",
       "      <th></th>\n",
       "      <th>fit_time</th>\n",
       "      <th>score_time</th>\n",
       "      <th>test_accuracy</th>\n",
       "      <th>test_f1_micro</th>\n",
       "      <th>test_roc_auc_ovo</th>\n",
       "    </tr>\n",
       "  </thead>\n",
       "  <tbody>\n",
       "    <tr>\n",
       "      <th>0</th>\n",
       "      <td>2.229230</td>\n",
       "      <td>0.053102</td>\n",
       "      <td>0.373333</td>\n",
       "      <td>0.373333</td>\n",
       "      <td>0.603733</td>\n",
       "    </tr>\n",
       "    <tr>\n",
       "      <th>1</th>\n",
       "      <td>2.226943</td>\n",
       "      <td>0.052746</td>\n",
       "      <td>0.390000</td>\n",
       "      <td>0.390000</td>\n",
       "      <td>0.610030</td>\n",
       "    </tr>\n",
       "    <tr>\n",
       "      <th>2</th>\n",
       "      <td>2.220343</td>\n",
       "      <td>0.052630</td>\n",
       "      <td>0.376667</td>\n",
       "      <td>0.376667</td>\n",
       "      <td>0.636889</td>\n",
       "    </tr>\n",
       "    <tr>\n",
       "      <th>3</th>\n",
       "      <td>2.221489</td>\n",
       "      <td>0.053747</td>\n",
       "      <td>0.350000</td>\n",
       "      <td>0.350000</td>\n",
       "      <td>0.599704</td>\n",
       "    </tr>\n",
       "    <tr>\n",
       "      <th>4</th>\n",
       "      <td>2.219174</td>\n",
       "      <td>0.053535</td>\n",
       "      <td>0.380000</td>\n",
       "      <td>0.380000</td>\n",
       "      <td>0.606400</td>\n",
       "    </tr>\n",
       "  </tbody>\n",
       "</table>\n",
       "</div>"
      ],
      "text/plain": [
       "   fit_time  score_time  test_accuracy  test_f1_micro  test_roc_auc_ovo\n",
       "0  2.229230    0.053102       0.373333       0.373333          0.603733\n",
       "1  2.226943    0.052746       0.390000       0.390000          0.610030\n",
       "2  2.220343    0.052630       0.376667       0.376667          0.636889\n",
       "3  2.221489    0.053747       0.350000       0.350000          0.599704\n",
       "4  2.219174    0.053535       0.380000       0.380000          0.606400"
      ]
     },
     "execution_count": 65,
     "metadata": {},
     "output_type": "execute_result"
    }
   ],
   "source": [
    "# qs alone, sectioned before merge\n",
    "cv_classify(df_bfl_qsidp, bestIC, classifier='rforest', tuned_params=bp, cv_fold=5, scaler=True, balance=True)"
   ]
  },
  {
   "cell_type": "code",
   "execution_count": 77,
   "id": "6816fc2d-db3a-410c-9e3a-717cc08be09c",
   "metadata": {},
   "outputs": [
    {
     "name": "stdout",
     "output_type": "stream",
     "text": [
      "(2280, 975)\n",
      "4\n",
      "5-fold CV classification with classifier RandomForestClassifier(max_depth=10, max_features=0.41760145026665085,\n",
      "                       max_samples=0.9409379942684949, min_samples_leaf=2,\n",
      "                       min_samples_split=10, n_estimators=150):\n",
      "test ROC AUC=0.5971, test accuracy=0.3473, test f1=0.3473\n"
     ]
    },
    {
     "data": {
      "text/html": [
       "<div>\n",
       "<style scoped>\n",
       "    .dataframe tbody tr th:only-of-type {\n",
       "        vertical-align: middle;\n",
       "    }\n",
       "\n",
       "    .dataframe tbody tr th {\n",
       "        vertical-align: top;\n",
       "    }\n",
       "\n",
       "    .dataframe thead th {\n",
       "        text-align: right;\n",
       "    }\n",
       "</style>\n",
       "<table border=\"1\" class=\"dataframe\">\n",
       "  <thead>\n",
       "    <tr style=\"text-align: right;\">\n",
       "      <th></th>\n",
       "      <th>fit_time</th>\n",
       "      <th>score_time</th>\n",
       "      <th>test_accuracy</th>\n",
       "      <th>test_f1_micro</th>\n",
       "      <th>test_roc_auc_ovo</th>\n",
       "    </tr>\n",
       "  </thead>\n",
       "  <tbody>\n",
       "    <tr>\n",
       "      <th>0</th>\n",
       "      <td>30.192394</td>\n",
       "      <td>0.056124</td>\n",
       "      <td>0.353333</td>\n",
       "      <td>0.353333</td>\n",
       "      <td>0.628163</td>\n",
       "    </tr>\n",
       "    <tr>\n",
       "      <th>1</th>\n",
       "      <td>30.070764</td>\n",
       "      <td>0.054839</td>\n",
       "      <td>0.343333</td>\n",
       "      <td>0.343333</td>\n",
       "      <td>0.573585</td>\n",
       "    </tr>\n",
       "    <tr>\n",
       "      <th>2</th>\n",
       "      <td>30.015521</td>\n",
       "      <td>0.055154</td>\n",
       "      <td>0.336667</td>\n",
       "      <td>0.336667</td>\n",
       "      <td>0.591378</td>\n",
       "    </tr>\n",
       "    <tr>\n",
       "      <th>3</th>\n",
       "      <td>29.921669</td>\n",
       "      <td>0.054680</td>\n",
       "      <td>0.350000</td>\n",
       "      <td>0.350000</td>\n",
       "      <td>0.562296</td>\n",
       "    </tr>\n",
       "    <tr>\n",
       "      <th>4</th>\n",
       "      <td>29.919734</td>\n",
       "      <td>0.054990</td>\n",
       "      <td>0.353333</td>\n",
       "      <td>0.353333</td>\n",
       "      <td>0.629852</td>\n",
       "    </tr>\n",
       "  </tbody>\n",
       "</table>\n",
       "</div>"
      ],
      "text/plain": [
       "    fit_time  score_time  test_accuracy  test_f1_micro  test_roc_auc_ovo\n",
       "0  30.192394    0.056124       0.353333       0.353333          0.628163\n",
       "1  30.070764    0.054839       0.343333       0.343333          0.573585\n",
       "2  30.015521    0.055154       0.336667       0.336667          0.591378\n",
       "3  29.921669    0.054680       0.350000       0.350000          0.562296\n",
       "4  29.919734    0.054990       0.353333       0.353333          0.629852"
      ]
     },
     "execution_count": 77,
     "metadata": {},
     "output_type": "execute_result"
    }
   ],
   "source": [
    "# idp alone, imputed, sectioned\n",
    "cv_classify(df_bfl_qsidp, bestIC, classifier='rforest', tuned_params=bp, cv_fold=5, scaler=True, balance=True)"
   ]
  },
  {
   "cell_type": "code",
   "execution_count": 40,
   "id": "4f947b4e-2944-4151-b4b7-fbff4cbc72c9",
   "metadata": {},
   "outputs": [
    {
     "name": "stdout",
     "output_type": "stream",
     "text": [
      "(2280, 975)\n",
      "4\n",
      "5-fold CV classification with classifier RandomForestClassifier(max_depth=4, max_features=0.9729649859360843,\n",
      "                       max_samples=0.8255786576374825, min_samples_split=13,\n",
      "                       n_estimators=75):\n",
      "test ROC AUC=0.6028, test accuracy=0.3467, test f1=0.3467\n"
     ]
    },
    {
     "data": {
      "text/html": [
       "<div>\n",
       "<style scoped>\n",
       "    .dataframe tbody tr th:only-of-type {\n",
       "        vertical-align: middle;\n",
       "    }\n",
       "\n",
       "    .dataframe tbody tr th {\n",
       "        vertical-align: top;\n",
       "    }\n",
       "\n",
       "    .dataframe thead th {\n",
       "        text-align: right;\n",
       "    }\n",
       "</style>\n",
       "<table border=\"1\" class=\"dataframe\">\n",
       "  <thead>\n",
       "    <tr style=\"text-align: right;\">\n",
       "      <th></th>\n",
       "      <th>fit_time</th>\n",
       "      <th>score_time</th>\n",
       "      <th>test_accuracy</th>\n",
       "      <th>test_f1_micro</th>\n",
       "      <th>test_roc_auc_ovo</th>\n",
       "    </tr>\n",
       "  </thead>\n",
       "  <tbody>\n",
       "    <tr>\n",
       "      <th>0</th>\n",
       "      <td>16.663128</td>\n",
       "      <td>0.029437</td>\n",
       "      <td>0.346667</td>\n",
       "      <td>0.346667</td>\n",
       "      <td>0.625259</td>\n",
       "    </tr>\n",
       "    <tr>\n",
       "      <th>1</th>\n",
       "      <td>16.788806</td>\n",
       "      <td>0.032825</td>\n",
       "      <td>0.366667</td>\n",
       "      <td>0.366667</td>\n",
       "      <td>0.586548</td>\n",
       "    </tr>\n",
       "    <tr>\n",
       "      <th>2</th>\n",
       "      <td>16.660043</td>\n",
       "      <td>0.028785</td>\n",
       "      <td>0.350000</td>\n",
       "      <td>0.350000</td>\n",
       "      <td>0.599200</td>\n",
       "    </tr>\n",
       "    <tr>\n",
       "      <th>3</th>\n",
       "      <td>16.646502</td>\n",
       "      <td>0.028955</td>\n",
       "      <td>0.310000</td>\n",
       "      <td>0.310000</td>\n",
       "      <td>0.576089</td>\n",
       "    </tr>\n",
       "    <tr>\n",
       "      <th>4</th>\n",
       "      <td>16.663128</td>\n",
       "      <td>0.029003</td>\n",
       "      <td>0.360000</td>\n",
       "      <td>0.360000</td>\n",
       "      <td>0.626741</td>\n",
       "    </tr>\n",
       "  </tbody>\n",
       "</table>\n",
       "</div>"
      ],
      "text/plain": [
       "    fit_time  score_time  test_accuracy  test_f1_micro  test_roc_auc_ovo\n",
       "0  16.663128    0.029437       0.346667       0.346667          0.625259\n",
       "1  16.788806    0.032825       0.366667       0.366667          0.586548\n",
       "2  16.660043    0.028785       0.350000       0.350000          0.599200\n",
       "3  16.646502    0.028955       0.310000       0.310000          0.576089\n",
       "4  16.663128    0.029003       0.360000       0.360000          0.626741"
      ]
     },
     "execution_count": 40,
     "metadata": {},
     "output_type": "execute_result"
    }
   ],
   "source": [
    "# idp alone, imputed, not sectioned\n",
    "cv_classify(df_bfl_qsidp, bestIC, classifier='rforest', tuned_params=bp, cv_fold=5, scaler=True, balance=True)"
   ]
  },
  {
   "cell_type": "code",
   "execution_count": 25,
   "id": "811fadaa-169c-45ff-8fba-7c568d27fec0",
   "metadata": {},
   "outputs": [
    {
     "name": "stdout",
     "output_type": "stream",
     "text": [
      "(2280, 216)\n",
      "4\n",
      "5-fold CV classification with classifier RandomForestClassifier(max_depth=2, max_features=0.15079269935030123,\n",
      "                       max_samples=0.6936468178262939, min_samples_leaf=7):\n",
      "test ROC AUC=0.6056, test accuracy=0.3667, test f1=0.3667\n"
     ]
    },
    {
     "data": {
      "text/html": [
       "<div>\n",
       "<style scoped>\n",
       "    .dataframe tbody tr th:only-of-type {\n",
       "        vertical-align: middle;\n",
       "    }\n",
       "\n",
       "    .dataframe tbody tr th {\n",
       "        vertical-align: top;\n",
       "    }\n",
       "\n",
       "    .dataframe thead th {\n",
       "        text-align: right;\n",
       "    }\n",
       "</style>\n",
       "<table border=\"1\" class=\"dataframe\">\n",
       "  <thead>\n",
       "    <tr style=\"text-align: right;\">\n",
       "      <th></th>\n",
       "      <th>fit_time</th>\n",
       "      <th>score_time</th>\n",
       "      <th>test_accuracy</th>\n",
       "      <th>test_f1_micro</th>\n",
       "      <th>test_roc_auc_ovo</th>\n",
       "    </tr>\n",
       "  </thead>\n",
       "  <tbody>\n",
       "    <tr>\n",
       "      <th>0</th>\n",
       "      <td>0.313112</td>\n",
       "      <td>0.030555</td>\n",
       "      <td>0.350000</td>\n",
       "      <td>0.350000</td>\n",
       "      <td>0.591689</td>\n",
       "    </tr>\n",
       "    <tr>\n",
       "      <th>1</th>\n",
       "      <td>0.311915</td>\n",
       "      <td>0.029889</td>\n",
       "      <td>0.386667</td>\n",
       "      <td>0.386667</td>\n",
       "      <td>0.611096</td>\n",
       "    </tr>\n",
       "    <tr>\n",
       "      <th>2</th>\n",
       "      <td>0.312089</td>\n",
       "      <td>0.029962</td>\n",
       "      <td>0.373333</td>\n",
       "      <td>0.373333</td>\n",
       "      <td>0.616933</td>\n",
       "    </tr>\n",
       "    <tr>\n",
       "      <th>3</th>\n",
       "      <td>0.311238</td>\n",
       "      <td>0.029809</td>\n",
       "      <td>0.346667</td>\n",
       "      <td>0.346667</td>\n",
       "      <td>0.608119</td>\n",
       "    </tr>\n",
       "    <tr>\n",
       "      <th>4</th>\n",
       "      <td>0.314362</td>\n",
       "      <td>0.029690</td>\n",
       "      <td>0.376667</td>\n",
       "      <td>0.376667</td>\n",
       "      <td>0.600341</td>\n",
       "    </tr>\n",
       "  </tbody>\n",
       "</table>\n",
       "</div>"
      ],
      "text/plain": [
       "   fit_time  score_time  test_accuracy  test_f1_micro  test_roc_auc_ovo\n",
       "0  0.313112    0.030555       0.350000       0.350000          0.591689\n",
       "1  0.311915    0.029889       0.386667       0.386667          0.611096\n",
       "2  0.312089    0.029962       0.373333       0.373333          0.616933\n",
       "3  0.311238    0.029809       0.346667       0.346667          0.608119\n",
       "4  0.314362    0.029690       0.376667       0.376667          0.600341"
      ]
     },
     "execution_count": 25,
     "metadata": {},
     "output_type": "execute_result"
    }
   ],
   "source": [
    "# with all qs, imputed but didn't dummy\n",
    "cv_classify(df_bfl_qsidp, bestIC, classifier='rforest', tuned_params=bp, cv_fold=5, scaler=True, balance=True)"
   ]
  },
  {
   "cell_type": "code",
   "execution_count": null,
   "id": "7a5e0873-073c-42ba-b57f-f5a36aa1563a",
   "metadata": {},
   "outputs": [],
   "source": [
    "# adding qs data make it worse? need to check qs cat and cont variables"
   ]
  },
  {
   "cell_type": "code",
   "execution_count": null,
   "id": "db27fce6-00cc-4ea4-bda6-1a93f02a77e4",
   "metadata": {},
   "outputs": [],
   "source": []
  }
 ],
 "metadata": {
  "kernelspec": {
   "display_name": "Python 3 (ipykernel)",
   "language": "python",
   "name": "python3"
  },
  "language_info": {
   "codemirror_mode": {
    "name": "ipython",
    "version": 3
   },
   "file_extension": ".py",
   "mimetype": "text/x-python",
   "name": "python",
   "nbconvert_exporter": "python",
   "pygments_lexer": "ipython3",
   "version": "3.7.4"
  }
 },
 "nbformat": 4,
 "nbformat_minor": 5
}
