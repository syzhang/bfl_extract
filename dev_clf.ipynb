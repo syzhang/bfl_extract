{
 "cells": [
  {
   "cell_type": "markdown",
   "id": "4458b902-e70f-4323-b2a9-e52196724821",
   "metadata": {},
   "source": [
    "### dev notebook"
   ]
  },
  {
   "cell_type": "code",
   "execution_count": 1,
   "id": "7c2390da-7309-43d4-84fa-9ba017120301",
   "metadata": {},
   "outputs": [],
   "source": [
    "import os\n",
    "import numpy as np\n",
    "import pandas as pd"
   ]
  },
  {
   "cell_type": "markdown",
   "id": "282000b7-6b2b-4abb-95e6-04e30fba4089",
   "metadata": {},
   "source": [
    "#### functions"
   ]
  },
  {
   "cell_type": "code",
   "execution_count": 2,
   "id": "aa3dfa95-1634-4325-a7a9-759502f4353a",
   "metadata": {},
   "outputs": [],
   "source": [
    "def full_labels(csv_name, save=True):\n",
    "    \"\"\"getting full set of labels for features\"\"\"\n",
    "    # load data\n",
    "    print(f'./labels/label_{csv_name}.csv')\n",
    "    labels = pd.read_csv(f'./labels/label_{csv_name}.csv')\n",
    "    sj_bmrc = pd.read_csv(f'./bmrc_subjs/subjs_{csv_name}.csv', header=None)\n",
    "    sj_full = pd.read_csv(f'./bmrc_full/subjs_{csv_name}.csv')\n",
    "    # rename columns\n",
    "    sj_bmrc.rename(columns={0:'bmrc'}, inplace=True)\n",
    "    sj_full.rename(columns={'eid':'bmrc_eid'}, inplace=True)\n",
    "    print(sj_full.shape)\n",
    "    # merge\n",
    "    bmrc_full = sj_bmrc.merge(sj_full, left_on='bmrc', right_on='bmrc_eid', how='left',indicator=True)\n",
    "    # concat with labels\n",
    "    full_df = pd.concat([labels, bmrc_full], axis=1)\n",
    "    df_out = full_df[full_df['_merge']=='both']\n",
    "    df_out_clean = df_out.drop(columns=['bmrc_eid', '_merge']).reset_index(drop=True)\n",
    "    print(df_out_clean.shape)\n",
    "    # save\n",
    "    if save:\n",
    "        save_path = f'./labels_full/label_{csv_name}.csv'\n",
    "        df_out_clean.to_csv(save_path, index=None)\n",
    "    return df_out_clean"
   ]
  },
  {
   "cell_type": "code",
   "execution_count": 3,
   "id": "7ca0fd60-13d5-4dea-aa78-6163cb2a6d68",
   "metadata": {},
   "outputs": [],
   "source": [
    "def remove_subjs(feat_path, df_label):\n",
    "    \"\"\"remove participants with multiple conditions\"\"\"\n",
    "    feats = np.load(os.path.join(feat_path, 'subj_course.npy'))\n",
    "    exclude = df_label[df_label[['irritable bowel syndrome', 'back pain', 'migraine','osteoarthritis']].sum(axis=1)>1]['eid']\n",
    "    df_featout = pd.concat([df_label, pd.DataFrame(feats)], axis=1)\n",
    "    df_featout_ex = df_featout[~df_featout['eid'].isin(exclude.values)]\n",
    "    return df_featout_ex"
   ]
  },
  {
   "cell_type": "code",
   "execution_count": 4,
   "id": "bca8a28b-c371-4e47-a4c7-731480eac1c7",
   "metadata": {},
   "outputs": [],
   "source": [
    "def data_prep(df):\n",
    "    \"\"\"prepare df to x and y for clf\"\"\"\n",
    "    # dummify labels\n",
    "    X = df[(n for n in range(0,30))].to_numpy()\n",
    "    if df.shape[1]>33:\n",
    "        y_original = df[['irritable bowel syndrome', 'migraine', 'back pain',\n",
    "       'osteoarthritis']]\n",
    "        y = y_original.idxmax(axis=1)\n",
    "    else:\n",
    "        y = df['label']\n",
    "    return X, y"
   ]
  },
  {
   "cell_type": "code",
   "execution_count": 5,
   "id": "d3c2f2ec-fb49-43f8-b455-b794a7d1b880",
   "metadata": {},
   "outputs": [],
   "source": [
    "def cv_classify(df, classifier='dtree', cv_fold=10, scaler=True, balance=True):\n",
    "    \"\"\"n-fold cross validation classification\"\"\"\n",
    "    from sklearn.model_selection import cross_validate\n",
    "\n",
    "    X, y = data_prep(df)\n",
    "    # balance dataset\n",
    "    if balance:\n",
    "        from imblearn.under_sampling import RandomUnderSampler\n",
    "        # define undersampling strategy\n",
    "        under = RandomUnderSampler(random_state=0)\n",
    "        # fit and apply the transform\n",
    "        X, y = under.fit_resample(X, y)\n",
    "    # apply scaler\n",
    "    if scaler:\n",
    "        from sklearn.preprocessing import StandardScaler\n",
    "        X = StandardScaler().fit_transform(X)\n",
    "\n",
    "    # define classifier\n",
    "    if classifier == 'dtree':\n",
    "        from sklearn.tree import DecisionTreeClassifier\n",
    "        clf = DecisionTreeClassifier(max_depth=5)\n",
    "    elif classifier == 'rforest':\n",
    "        from sklearn.ensemble import RandomForestClassifier\n",
    "        clf = RandomForestClassifier(max_depth=5)\n",
    "    elif classifier == 'lgb':\n",
    "        import lightgbm as lgb\n",
    "        clf = lgb.LGBMClassifier(n_jobs=-1)\n",
    "    # cv result\n",
    "    print(len(np.unique(y)))\n",
    "    if len(np.unique(y)) <= 2: # binary\n",
    "        cv_results = cross_validate(clf, X, y, cv=cv_fold, return_train_score=False, scoring=('accuracy', 'f1', 'roc_auc'))\n",
    "        df_res = pd.DataFrame(cv_results)\n",
    "        # print res\n",
    "        print(f\"{cv_fold}-fold CV classification with classifier {clf}:\\n\"\n",
    "            f\"test ROC AUC={df_res['test_roc_auc'].mean():.4f}, test accuracy={df_res['test_accuracy'].mean():.4f}, test f1={df_res['test_f1'].mean():.4f}\")\n",
    "    else:\n",
    "        cv_results = cross_validate(clf, X, y, cv=cv_fold, return_train_score=False, scoring=('accuracy', 'f1_micro', 'roc_auc_ovo'))\n",
    "        df_res = pd.DataFrame(cv_results)\n",
    "        # print res\n",
    "        print(f\"{cv_fold}-fold CV classification with classifier {clf}:\\n\"\n",
    "            f\"test ROC AUC={df_res['test_roc_auc_ovo'].mean():.4f}, test accuracy={df_res['test_accuracy'].mean():.4f}, test f1={df_res['test_f1_micro'].mean():.4f}\")\n",
    "\n",
    "    return df_res\n"
   ]
  },
  {
   "cell_type": "code",
   "execution_count": 28,
   "id": "cfc54b69-52dc-4148-8acf-8618d652d6cd",
   "metadata": {},
   "outputs": [],
   "source": [
    "def load_mask(img_data):\n",
    "    \"\"\"load mask and return mask\"\"\"\n",
    "    import nibabel as nib\n",
    "    curr_dir = '/well/seymour/users/uhu195/python/extract_npy'\n",
    "    \n",
    "    # check image shape\n",
    "    img_len = img_data.shape[0]\n",
    "    \n",
    "    if img_len < 100: \n",
    "        mask_path = os.path.join(curr_dir, 'MNI152_T1_2mm_brain.nii.gz')\n",
    "    else:\n",
    "        mask_path = os.path.join(curr_dir, 'MNI152_T1_1mm_brain.nii.gz')\n",
    "    mask_dat = nib.load(mask_path).get_fdata()>0\n",
    "    return mask_dat"
   ]
  },
  {
   "cell_type": "code",
   "execution_count": null,
   "id": "0e142775-690b-49a6-a12e-29321c683c2e",
   "metadata": {},
   "outputs": [],
   "source": []
  },
  {
   "cell_type": "code",
   "execution_count": null,
   "id": "1cace501-8a1d-495d-8d5e-0a06fe871cbb",
   "metadata": {},
   "outputs": [],
   "source": []
  },
  {
   "cell_type": "markdown",
   "id": "f24b2ec5-7cd3-4cd4-84fd-a716b48a805b",
   "metadata": {},
   "source": [
    "### digestive data classification and reconstruction"
   ]
  },
  {
   "cell_type": "code",
   "execution_count": 6,
   "id": "9a36980d-8cb1-4724-899a-99c25da40e41",
   "metadata": {},
   "outputs": [
    {
     "name": "stdout",
     "output_type": "stream",
     "text": [
      "./labels/label_digestive.csv\n",
      "(3817, 1)\n",
      "(3817, 3)\n"
     ]
    }
   ],
   "source": [
    "df_label = full_labels('digestive')"
   ]
  },
  {
   "cell_type": "code",
   "execution_count": 7,
   "id": "89dc7d95-3f4e-4fac-a711-2c43d9aaf5f2",
   "metadata": {},
   "outputs": [],
   "source": [
    "data_dir = '../pain/output_digestive/Result_IC30'\n",
    "feats = np.load(os.path.join(data_dir, 'subj_course.npy'))"
   ]
  },
  {
   "cell_type": "code",
   "execution_count": 8,
   "id": "a010e2e3-f597-4ac6-82c2-ea9596df99d2",
   "metadata": {},
   "outputs": [
    {
     "data": {
      "text/plain": [
       "(3817, 30)"
      ]
     },
     "execution_count": 8,
     "metadata": {},
     "output_type": "execute_result"
    }
   ],
   "source": [
    "feats.shape"
   ]
  },
  {
   "cell_type": "code",
   "execution_count": 9,
   "id": "25873d63-a450-4b1c-bca0-05ac6892021f",
   "metadata": {},
   "outputs": [],
   "source": [
    "df_featout = pd.concat([df_label, pd.DataFrame(feats)], axis=1)"
   ]
  },
  {
   "cell_type": "code",
   "execution_count": 10,
   "id": "321952b5-6733-4bec-82fb-b39bc754baeb",
   "metadata": {},
   "outputs": [
    {
     "data": {
      "text/plain": [
       "(3817, 33)"
      ]
     },
     "execution_count": 10,
     "metadata": {},
     "output_type": "execute_result"
    }
   ],
   "source": [
    "df_featout.shape"
   ]
  },
  {
   "cell_type": "code",
   "execution_count": 12,
   "id": "e267abf5-83f5-4047-981a-2cefef6cacc5",
   "metadata": {},
   "outputs": [
    {
     "name": "stdout",
     "output_type": "stream",
     "text": [
      "2\n",
      "10-fold CV classification with classifier RandomForestClassifier(max_depth=5):\n",
      "test ROC AUC=0.5863, test accuracy=0.5594, test f1=0.5457\n"
     ]
    },
    {
     "data": {
      "text/html": [
       "<div>\n",
       "<style scoped>\n",
       "    .dataframe tbody tr th:only-of-type {\n",
       "        vertical-align: middle;\n",
       "    }\n",
       "\n",
       "    .dataframe tbody tr th {\n",
       "        vertical-align: top;\n",
       "    }\n",
       "\n",
       "    .dataframe thead th {\n",
       "        text-align: right;\n",
       "    }\n",
       "</style>\n",
       "<table border=\"1\" class=\"dataframe\">\n",
       "  <thead>\n",
       "    <tr style=\"text-align: right;\">\n",
       "      <th></th>\n",
       "      <th>fit_time</th>\n",
       "      <th>score_time</th>\n",
       "      <th>test_accuracy</th>\n",
       "      <th>test_f1</th>\n",
       "      <th>test_roc_auc</th>\n",
       "    </tr>\n",
       "  </thead>\n",
       "  <tbody>\n",
       "    <tr>\n",
       "      <th>0</th>\n",
       "      <td>0.496667</td>\n",
       "      <td>0.024603</td>\n",
       "      <td>0.556391</td>\n",
       "      <td>0.549618</td>\n",
       "      <td>0.595737</td>\n",
       "    </tr>\n",
       "    <tr>\n",
       "      <th>1</th>\n",
       "      <td>0.497848</td>\n",
       "      <td>0.024658</td>\n",
       "      <td>0.560150</td>\n",
       "      <td>0.551724</td>\n",
       "      <td>0.566906</td>\n",
       "    </tr>\n",
       "    <tr>\n",
       "      <th>2</th>\n",
       "      <td>0.498088</td>\n",
       "      <td>0.024582</td>\n",
       "      <td>0.620301</td>\n",
       "      <td>0.643110</td>\n",
       "      <td>0.624965</td>\n",
       "    </tr>\n",
       "    <tr>\n",
       "      <th>3</th>\n",
       "      <td>0.496066</td>\n",
       "      <td>0.025053</td>\n",
       "      <td>0.507519</td>\n",
       "      <td>0.490272</td>\n",
       "      <td>0.542201</td>\n",
       "    </tr>\n",
       "    <tr>\n",
       "      <th>4</th>\n",
       "      <td>0.500766</td>\n",
       "      <td>0.025947</td>\n",
       "      <td>0.537594</td>\n",
       "      <td>0.532319</td>\n",
       "      <td>0.583074</td>\n",
       "    </tr>\n",
       "    <tr>\n",
       "      <th>5</th>\n",
       "      <td>0.496240</td>\n",
       "      <td>0.025080</td>\n",
       "      <td>0.560150</td>\n",
       "      <td>0.526316</td>\n",
       "      <td>0.600317</td>\n",
       "    </tr>\n",
       "    <tr>\n",
       "      <th>6</th>\n",
       "      <td>0.496113</td>\n",
       "      <td>0.024957</td>\n",
       "      <td>0.590226</td>\n",
       "      <td>0.572549</td>\n",
       "      <td>0.612245</td>\n",
       "    </tr>\n",
       "    <tr>\n",
       "      <th>7</th>\n",
       "      <td>0.496992</td>\n",
       "      <td>0.024816</td>\n",
       "      <td>0.578947</td>\n",
       "      <td>0.585185</td>\n",
       "      <td>0.598168</td>\n",
       "    </tr>\n",
       "    <tr>\n",
       "      <th>8</th>\n",
       "      <td>0.496095</td>\n",
       "      <td>0.024827</td>\n",
       "      <td>0.528302</td>\n",
       "      <td>0.485597</td>\n",
       "      <td>0.530189</td>\n",
       "    </tr>\n",
       "    <tr>\n",
       "      <th>9</th>\n",
       "      <td>0.498350</td>\n",
       "      <td>0.024914</td>\n",
       "      <td>0.554717</td>\n",
       "      <td>0.520325</td>\n",
       "      <td>0.609364</td>\n",
       "    </tr>\n",
       "  </tbody>\n",
       "</table>\n",
       "</div>"
      ],
      "text/plain": [
       "   fit_time  score_time  test_accuracy   test_f1  test_roc_auc\n",
       "0  0.496667    0.024603       0.556391  0.549618      0.595737\n",
       "1  0.497848    0.024658       0.560150  0.551724      0.566906\n",
       "2  0.498088    0.024582       0.620301  0.643110      0.624965\n",
       "3  0.496066    0.025053       0.507519  0.490272      0.542201\n",
       "4  0.500766    0.025947       0.537594  0.532319      0.583074\n",
       "5  0.496240    0.025080       0.560150  0.526316      0.600317\n",
       "6  0.496113    0.024957       0.590226  0.572549      0.612245\n",
       "7  0.496992    0.024816       0.578947  0.585185      0.598168\n",
       "8  0.496095    0.024827       0.528302  0.485597      0.530189\n",
       "9  0.498350    0.024914       0.554717  0.520325      0.609364"
      ]
     },
     "execution_count": 12,
     "metadata": {},
     "output_type": "execute_result"
    }
   ],
   "source": [
    "cv_classify(df_featout, classifier='rforest', cv_fold=10, \n",
    "            scaler=True, balance=True)"
   ]
  },
  {
   "cell_type": "markdown",
   "id": "8e807bee-d53e-473b-a334-c1743ec87959",
   "metadata": {},
   "source": [
    "#### using 1 random forest"
   ]
  },
  {
   "cell_type": "code",
   "execution_count": 13,
   "id": "3444d5b4-7347-4c0b-af6a-b4e0779a0799",
   "metadata": {},
   "outputs": [],
   "source": [
    "from sklearn.datasets import make_classification\n",
    "from sklearn.model_selection import train_test_split\n",
    "\n",
    "X, y = data_prep(df_featout)\n",
    "X_train, X_test, y_train, y_test = train_test_split(\n",
    "    X, y, stratify=y, random_state=42)"
   ]
  },
  {
   "cell_type": "code",
   "execution_count": 14,
   "id": "b79f46bc-4b9f-4f48-8de4-fe8bf9fc232f",
   "metadata": {},
   "outputs": [
    {
     "data": {
      "text/plain": [
       "0    622\n",
       "1    333\n",
       "Name: label, dtype: int64"
      ]
     },
     "execution_count": 14,
     "metadata": {},
     "output_type": "execute_result"
    }
   ],
   "source": [
    "y_test.value_counts()"
   ]
  },
  {
   "cell_type": "code",
   "execution_count": 15,
   "id": "38407994-3ffb-445f-b3bc-a23f16d82575",
   "metadata": {},
   "outputs": [
    {
     "data": {
      "text/plain": [
       "0    1866\n",
       "1     996\n",
       "Name: label, dtype: int64"
      ]
     },
     "execution_count": 15,
     "metadata": {},
     "output_type": "execute_result"
    }
   ],
   "source": [
    "y_train.value_counts()"
   ]
  },
  {
   "cell_type": "code",
   "execution_count": 16,
   "id": "64caf609-88ec-4163-8c8f-2001fb1844a6",
   "metadata": {},
   "outputs": [
    {
     "data": {
      "text/plain": [
       "RandomForestClassifier(random_state=0)"
      ]
     },
     "execution_count": 16,
     "metadata": {},
     "output_type": "execute_result"
    }
   ],
   "source": [
    "from sklearn.ensemble import RandomForestClassifier\n",
    "\n",
    "feature_names = [f'feature {i}' for i in range(X.shape[1])]\n",
    "forest = RandomForestClassifier(random_state=0)\n",
    "forest.fit(X_train, y_train)"
   ]
  },
  {
   "cell_type": "code",
   "execution_count": 17,
   "id": "95194e2a-4c9c-4986-a991-c9fd8820c809",
   "metadata": {},
   "outputs": [
    {
     "name": "stdout",
     "output_type": "stream",
     "text": [
      "Elapsed time to compute the importances: 0.012 seconds\n"
     ]
    }
   ],
   "source": [
    "import time\n",
    "import numpy as np\n",
    "\n",
    "start_time = time.time()\n",
    "importances = forest.feature_importances_\n",
    "std = np.std([\n",
    "    tree.feature_importances_ for tree in forest.estimators_], axis=0)\n",
    "elapsed_time = time.time() - start_time\n",
    "\n",
    "print(f\"Elapsed time to compute the importances: \"\n",
    "      f\"{elapsed_time:.3f} seconds\")"
   ]
  },
  {
   "cell_type": "code",
   "execution_count": 18,
   "id": "b1ad262a-6a36-430c-83f8-d13073af9fd0",
   "metadata": {},
   "outputs": [
    {
     "data": {
      "image/png": "[encoded data removed]",
      "text/plain": [
       "<Figure size 432x288 with 1 Axes>"
      ]
     },
     "metadata": {
      "needs_background": "light"
     },
     "output_type": "display_data"
    }
   ],
   "source": [
    "import matplotlib.pyplot as plt\n",
    "forest_importances = pd.Series(importances, index=feature_names)\n",
    "\n",
    "fig, ax = plt.subplots()\n",
    "forest_importances.plot.bar(yerr=std, ax=ax)\n",
    "ax.set_title(\"Feature importances using MDI\")\n",
    "ax.set_ylabel(\"Mean decrease in impurity\")\n",
    "fig.tight_layout()"
   ]
  },
  {
   "cell_type": "markdown",
   "id": "99fc43b5-ab31-487a-9181-772f3311f6df",
   "metadata": {},
   "source": [
    "#### try to reconstruct"
   ]
  },
  {
   "cell_type": "code",
   "execution_count": 19,
   "id": "37eb927a-10f2-4710-a58f-a92fb1d1eaf8",
   "metadata": {},
   "outputs": [
    {
     "data": {
      "text/plain": [
       "'../pain/output_digestive/Result_IC30'"
      ]
     },
     "execution_count": 19,
     "metadata": {},
     "output_type": "execute_result"
    }
   ],
   "source": [
    "data_dir"
   ]
  },
  {
   "cell_type": "code",
   "execution_count": 20,
   "id": "a63f41c5-1e0a-4adf-ba38-37256f525447",
   "metadata": {},
   "outputs": [],
   "source": [
    "df_contrib = np.load(os.path.join(data_dir, 'mod_contribution.npy'))"
   ]
  },
  {
   "cell_type": "code",
   "execution_count": 21,
   "id": "d951e4bb-c50d-4ff5-a580-728ab5397232",
   "metadata": {},
   "outputs": [
    {
     "data": {
      "text/plain": [
       "(45, 30)"
      ]
     },
     "execution_count": 21,
     "metadata": {},
     "output_type": "execute_result"
    }
   ],
   "source": [
    "df_contrib.shape"
   ]
  },
  {
   "cell_type": "code",
   "execution_count": 22,
   "id": "bcee763b-0fcd-48bb-8e68-78e6b3f4a87d",
   "metadata": {},
   "outputs": [],
   "source": [
    "topIC = df_contrib[:,6]"
   ]
  },
  {
   "cell_type": "code",
   "execution_count": 23,
   "id": "9bde86f6-0470-409c-ae2b-1be75edd6517",
   "metadata": {},
   "outputs": [
    {
     "data": {
      "text/plain": [
       "<BarContainer object of 45 artists>"
      ]
     },
     "execution_count": 23,
     "metadata": {},
     "output_type": "execute_result"
    },
    {
     "data": {
      "image/png": "[encoded data removed]",
      "text/plain": [
       "<Figure size 432x288 with 1 Axes>"
      ]
     },
     "metadata": {
      "needs_background": "light"
     },
     "output_type": "display_data"
    }
   ],
   "source": [
    "plt.bar(np.arange(len(topIC)), topIC)"
   ]
  },
  {
   "cell_type": "code",
   "execution_count": 24,
   "id": "e140dfc8-ca70-4c36-bc35-d1c7fca6aa13",
   "metadata": {},
   "outputs": [
    {
     "name": "stdout",
     "output_type": "stream",
     "text": [
      "[37 43 13 41  5 26 33 10  7  6 31 18 38 23 15  2 39  4 34 20 36 32 30 22\n",
      " 16  1 17 24 35 21 44 14  0 29 40 25 19 42  3 28  8 12  9 11 27]\n"
     ]
    }
   ],
   "source": [
    "topmods = np.argsort(topIC)\n",
    "print(topmods)"
   ]
  },
  {
   "cell_type": "code",
   "execution_count": 25,
   "id": "2b4289b3-3240-4a66-99e4-879377eef14e",
   "metadata": {},
   "outputs": [
    {
     "data": {
      "text/plain": [
       "array([0.00087837, 0.00172135, 0.01244409, 0.01801424, 0.02644157,\n",
       "       0.03070203, 0.03092243, 0.03100332, 0.03148474, 0.0321167 ,\n",
       "       0.03399016, 0.03464172, 0.0348505 , 0.03506458, 0.03561149,\n",
       "       0.03587096, 0.03614712, 0.03649352, 0.03790334, 0.03817536,\n",
       "       0.03891482, 0.03928868, 0.04158548, 0.04416855, 0.04434118,\n",
       "       0.04484716, 0.04509239, 0.04538501, 0.04720363, 0.04765294,\n",
       "       0.04818497, 0.04886737, 0.0494752 , 0.05072519, 0.05100193,\n",
       "       0.05105581, 0.05261662, 0.06068608, 0.06425168, 0.06533633,\n",
       "       0.06661568, 0.06688436, 0.06731695, 0.06763477, 0.0722087 ])"
      ]
     },
     "execution_count": 25,
     "metadata": {},
     "output_type": "execute_result"
    }
   ],
   "source": [
    "topIC[topmods]"
   ]
  },
  {
   "cell_type": "code",
   "execution_count": 26,
   "id": "0effc756-2e6c-49fb-b128-d44c8765e473",
   "metadata": {},
   "outputs": [],
   "source": [
    "df_mod = np.load(os.path.join(data_dir, 'flica_mod27_Z.npy'))"
   ]
  },
  {
   "cell_type": "code",
   "execution_count": 29,
   "id": "633d905a-9f25-40a5-9ca0-d5706cc7ff2e",
   "metadata": {},
   "outputs": [
    {
     "data": {
      "text/plain": [
       "(1827095, 30)"
      ]
     },
     "execution_count": 29,
     "metadata": {},
     "output_type": "execute_result"
    }
   ],
   "source": [
    "df_mod.shape"
   ]
  },
  {
   "cell_type": "code",
   "execution_count": 30,
   "id": "28954d5b-9441-442a-b96e-83a7a23ee4e2",
   "metadata": {},
   "outputs": [],
   "source": [
    "img_data = df_mod[:,27]\n",
    "mask_data = load_mask(img_data)"
   ]
  },
  {
   "cell_type": "code",
   "execution_count": 32,
   "id": "ffd3ce37-21e7-4b55-a89a-b111a3bc1c52",
   "metadata": {},
   "outputs": [],
   "source": [
    "mask = np.where(mask_data>0)"
   ]
  },
  {
   "cell_type": "code",
   "execution_count": 33,
   "id": "0c2e46c5-5aee-4490-b6e5-23e7e85e28c7",
   "metadata": {},
   "outputs": [
    {
     "data": {
      "text/plain": [
       "1827095"
      ]
     },
     "execution_count": 33,
     "metadata": {},
     "output_type": "execute_result"
    }
   ],
   "source": [
    "len(mask[0])"
   ]
  },
  {
   "cell_type": "code",
   "execution_count": 73,
   "id": "c2faf6ec-8087-4f6a-b8fe-6f868b7d3653",
   "metadata": {},
   "outputs": [],
   "source": [
    "img_reshape = np.zeros(mask_data.shape)"
   ]
  },
  {
   "cell_type": "code",
   "execution_count": 74,
   "id": "e8c25bf1-ad8a-4cd6-a926-f27af2b31e6f",
   "metadata": {},
   "outputs": [],
   "source": [
    "img_reshape[mask] = img_data"
   ]
  },
  {
   "cell_type": "code",
   "execution_count": 75,
   "id": "ae0b6288-7a78-4335-8f25-34ec0d0d3595",
   "metadata": {},
   "outputs": [],
   "source": [
    "from nibabel import Nifti1Image\n",
    "img_reshape_ni = Nifti1Image(img_reshape, affine=np.eye(4))"
   ]
  },
  {
   "cell_type": "code",
   "execution_count": 76,
   "id": "ec4e2b01-8e8c-4f62-b01f-ad10ecb2fef7",
   "metadata": {},
   "outputs": [],
   "source": [
    "from nilearn.plotting import plot_stat_map,plot_anat,plot_epi"
   ]
  },
  {
   "cell_type": "code",
   "execution_count": 77,
   "id": "4f2abf23-4e33-4633-a8f4-382862a49cf2",
   "metadata": {},
   "outputs": [],
   "source": [
    "mask_path = './MNI152_T1_1mm_brain.nii.gz'"
   ]
  },
  {
   "cell_type": "code",
   "execution_count": 81,
   "id": "e3824611-d878-4d4c-bec2-0f2e38be45d7",
   "metadata": {},
   "outputs": [
    {
     "data": {
      "text/plain": [
       "<nilearn.plotting.displays.OrthoSlicer at 0x2b3ac12ea610>"
      ]
     },
     "execution_count": 81,
     "metadata": {},
     "output_type": "execute_result"
    },
    {
     "data": {
      "image/png": "[encoded data removed]",
      "text/plain": [
       "<Figure size 525.6x187.2 with 5 Axes>"
      ]
     },
     "metadata": {},
     "output_type": "display_data"
    }
   ],
   "source": [
    "plot_stat_map(img_reshape_ni, bg_img=None)"
   ]
  },
  {
   "cell_type": "code",
   "execution_count": 61,
   "id": "c68dfee3-2cd9-4cf0-a54e-496af5711836",
   "metadata": {},
   "outputs": [
    {
     "data": {
      "text/plain": [
       "<nilearn.plotting.displays.OrthoSlicer at 0x2b3ac098fc90>"
      ]
     },
     "execution_count": 61,
     "metadata": {},
     "output_type": "execute_result"
    },
    {
     "data": {
      "image/png": "[encoded data removed]",
      "text/plain": [
       "<Figure size 475.2x187.2 with 4 Axes>"
      ]
     },
     "metadata": {},
     "output_type": "display_data"
    }
   ],
   "source": [
    "plot_anat(mask_path)"
   ]
  },
  {
   "cell_type": "code",
   "execution_count": null,
   "id": "ecd3f0fb-8870-491e-9734-719751e2c69d",
   "metadata": {},
   "outputs": [],
   "source": []
  },
  {
   "cell_type": "code",
   "execution_count": null,
   "id": "21123f2d-8c07-4ea5-a5f7-9575f30a07f5",
   "metadata": {},
   "outputs": [],
   "source": []
  },
  {
   "cell_type": "markdown",
   "id": "4660c192-47a6-49d1-b2bb-9beda7b11d2d",
   "metadata": {},
   "source": [
    "#### try pain patients clf"
   ]
  },
  {
   "cell_type": "code",
   "execution_count": 3,
   "id": "35ef2482-5ac6-4c5b-a40c-173df5221f63",
   "metadata": {},
   "outputs": [
    {
     "name": "stdout",
     "output_type": "stream",
     "text": [
      "./labels/label_patients_pain.csv\n",
      "(2724, 1)\n",
      "(2724, 6)\n"
     ]
    }
   ],
   "source": [
    "df_out = full_labels('patients_pain', save=False)\n",
    "# df_out = full_labels('digestive')"
   ]
  },
  {
   "cell_type": "code",
   "execution_count": 4,
   "id": "7bc61734-5784-4001-976a-731a47cf80fc",
   "metadata": {},
   "outputs": [],
   "source": [
    "data_dir = '../pain/output_patients/Result_IC30'"
   ]
  },
  {
   "cell_type": "code",
   "execution_count": 6,
   "id": "cf1ad66b-d892-412b-9c56-c019f8f447d6",
   "metadata": {},
   "outputs": [],
   "source": [
    "df_featout_ex = remove_subjs(data_dir, df_out)"
   ]
  },
  {
   "cell_type": "code",
   "execution_count": 7,
   "id": "87b3cb5b-d356-4d9c-9cda-b5e778333cad",
   "metadata": {},
   "outputs": [
    {
     "data": {
      "text/plain": [
       "(2280, 36)"
      ]
     },
     "execution_count": 7,
     "metadata": {},
     "output_type": "execute_result"
    }
   ],
   "source": [
    "df_featout_ex.shape"
   ]
  },
  {
   "cell_type": "code",
   "execution_count": 10,
   "id": "1b5b6997-c16d-4673-94a8-65ba98c547dc",
   "metadata": {},
   "outputs": [
    {
     "name": "stdout",
     "output_type": "stream",
     "text": [
      "4\n",
      "10-fold CV classification with classifier RandomForestClassifier(max_depth=5):\n",
      "test ROC AUC=0.5654, test accuracy=0.3260, test f1=0.3260\n"
     ]
    },
    {
     "data": {
      "text/html": [
       "<div>\n",
       "<style scoped>\n",
       "    .dataframe tbody tr th:only-of-type {\n",
       "        vertical-align: middle;\n",
       "    }\n",
       "\n",
       "    .dataframe tbody tr th {\n",
       "        vertical-align: top;\n",
       "    }\n",
       "\n",
       "    .dataframe thead th {\n",
       "        text-align: right;\n",
       "    }\n",
       "</style>\n",
       "<table border=\"1\" class=\"dataframe\">\n",
       "  <thead>\n",
       "    <tr style=\"text-align: right;\">\n",
       "      <th></th>\n",
       "      <th>fit_time</th>\n",
       "      <th>score_time</th>\n",
       "      <th>test_accuracy</th>\n",
       "      <th>test_f1_micro</th>\n",
       "      <th>test_roc_auc_ovo</th>\n",
       "    </tr>\n",
       "  </thead>\n",
       "  <tbody>\n",
       "    <tr>\n",
       "      <th>0</th>\n",
       "      <td>0.326452</td>\n",
       "      <td>0.028800</td>\n",
       "      <td>0.300000</td>\n",
       "      <td>0.300000</td>\n",
       "      <td>0.597320</td>\n",
       "    </tr>\n",
       "    <tr>\n",
       "      <th>1</th>\n",
       "      <td>0.324844</td>\n",
       "      <td>0.028314</td>\n",
       "      <td>0.346667</td>\n",
       "      <td>0.346667</td>\n",
       "      <td>0.589716</td>\n",
       "    </tr>\n",
       "    <tr>\n",
       "      <th>2</th>\n",
       "      <td>0.324882</td>\n",
       "      <td>0.027864</td>\n",
       "      <td>0.340000</td>\n",
       "      <td>0.340000</td>\n",
       "      <td>0.560038</td>\n",
       "    </tr>\n",
       "    <tr>\n",
       "      <th>3</th>\n",
       "      <td>0.324210</td>\n",
       "      <td>0.027889</td>\n",
       "      <td>0.313333</td>\n",
       "      <td>0.313333</td>\n",
       "      <td>0.542180</td>\n",
       "    </tr>\n",
       "    <tr>\n",
       "      <th>4</th>\n",
       "      <td>0.326269</td>\n",
       "      <td>0.028036</td>\n",
       "      <td>0.340000</td>\n",
       "      <td>0.340000</td>\n",
       "      <td>0.573514</td>\n",
       "    </tr>\n",
       "    <tr>\n",
       "      <th>5</th>\n",
       "      <td>0.324385</td>\n",
       "      <td>0.028222</td>\n",
       "      <td>0.340000</td>\n",
       "      <td>0.340000</td>\n",
       "      <td>0.562662</td>\n",
       "    </tr>\n",
       "    <tr>\n",
       "      <th>6</th>\n",
       "      <td>0.325008</td>\n",
       "      <td>0.028870</td>\n",
       "      <td>0.300000</td>\n",
       "      <td>0.300000</td>\n",
       "      <td>0.532095</td>\n",
       "    </tr>\n",
       "    <tr>\n",
       "      <th>7</th>\n",
       "      <td>0.324642</td>\n",
       "      <td>0.028486</td>\n",
       "      <td>0.300000</td>\n",
       "      <td>0.300000</td>\n",
       "      <td>0.543938</td>\n",
       "    </tr>\n",
       "    <tr>\n",
       "      <th>8</th>\n",
       "      <td>0.324860</td>\n",
       "      <td>0.028369</td>\n",
       "      <td>0.360000</td>\n",
       "      <td>0.360000</td>\n",
       "      <td>0.577464</td>\n",
       "    </tr>\n",
       "    <tr>\n",
       "      <th>9</th>\n",
       "      <td>0.325719</td>\n",
       "      <td>0.029325</td>\n",
       "      <td>0.320000</td>\n",
       "      <td>0.320000</td>\n",
       "      <td>0.574853</td>\n",
       "    </tr>\n",
       "  </tbody>\n",
       "</table>\n",
       "</div>"
      ],
      "text/plain": [
       "   fit_time  score_time  test_accuracy  test_f1_micro  test_roc_auc_ovo\n",
       "0  0.326452    0.028800       0.300000       0.300000          0.597320\n",
       "1  0.324844    0.028314       0.346667       0.346667          0.589716\n",
       "2  0.324882    0.027864       0.340000       0.340000          0.560038\n",
       "3  0.324210    0.027889       0.313333       0.313333          0.542180\n",
       "4  0.326269    0.028036       0.340000       0.340000          0.573514\n",
       "5  0.324385    0.028222       0.340000       0.340000          0.562662\n",
       "6  0.325008    0.028870       0.300000       0.300000          0.532095\n",
       "7  0.324642    0.028486       0.300000       0.300000          0.543938\n",
       "8  0.324860    0.028369       0.360000       0.360000          0.577464\n",
       "9  0.325719    0.029325       0.320000       0.320000          0.574853"
      ]
     },
     "execution_count": 10,
     "metadata": {},
     "output_type": "execute_result"
    }
   ],
   "source": [
    "cv_classify(df_featout_ex, classifier='rforest', cv_fold=10, scaler=True, balance=True)"
   ]
  },
  {
   "cell_type": "code",
   "execution_count": 11,
   "id": "5070f55a-07ce-4bf0-89ec-b34f15d06c21",
   "metadata": {},
   "outputs": [],
   "source": [
    "from sklearn.datasets import make_classification\n",
    "from sklearn.model_selection import train_test_split\n",
    "\n",
    "X, y = data_prep(df_featout_ex)\n",
    "X_train, X_test, y_train, y_test = train_test_split(\n",
    "    X, y, stratify=y, random_state=42)"
   ]
  },
  {
   "cell_type": "code",
   "execution_count": 12,
   "id": "dbf6d4f9-9829-42ab-9ab8-d56c8dcd75fc",
   "metadata": {},
   "outputs": [
    {
     "data": {
      "text/plain": [
       "osteoarthritis              221\n",
       "irritable bowel syndrome    160\n",
       "migraine                     95\n",
       "back pain                    94\n",
       "dtype: int64"
      ]
     },
     "execution_count": 12,
     "metadata": {},
     "output_type": "execute_result"
    }
   ],
   "source": [
    "y_test.value_counts()"
   ]
  },
  {
   "cell_type": "code",
   "execution_count": 13,
   "id": "7fcded14-197c-4cff-a983-a9bb8d8a39d5",
   "metadata": {},
   "outputs": [
    {
     "data": {
      "text/plain": [
       "osteoarthritis              664\n",
       "irritable bowel syndrome    479\n",
       "migraine                    286\n",
       "back pain                   281\n",
       "dtype: int64"
      ]
     },
     "execution_count": 13,
     "metadata": {},
     "output_type": "execute_result"
    }
   ],
   "source": [
    "y_train.value_counts()"
   ]
  },
  {
   "cell_type": "code",
   "execution_count": 14,
   "id": "42174add-1380-4821-863f-d4959f55c631",
   "metadata": {},
   "outputs": [
    {
     "data": {
      "text/plain": [
       "RandomForestClassifier(random_state=0)"
      ]
     },
     "execution_count": 14,
     "metadata": {},
     "output_type": "execute_result"
    }
   ],
   "source": [
    "from sklearn.ensemble import RandomForestClassifier\n",
    "\n",
    "feature_names = [f'feature {i}' for i in range(X.shape[1])]\n",
    "forest = RandomForestClassifier(random_state=0)\n",
    "forest.fit(X_train, y_train)"
   ]
  },
  {
   "cell_type": "code",
   "execution_count": 15,
   "id": "501ec8f1-943c-49b8-b400-d684b8242fe1",
   "metadata": {},
   "outputs": [
    {
     "name": "stdout",
     "output_type": "stream",
     "text": [
      "Elapsed time to compute the importances: 0.013 seconds\n"
     ]
    }
   ],
   "source": [
    "import time\n",
    "import numpy as np\n",
    "\n",
    "start_time = time.time()\n",
    "importances = forest.feature_importances_\n",
    "std = np.std([\n",
    "    tree.feature_importances_ for tree in forest.estimators_], axis=0)\n",
    "elapsed_time = time.time() - start_time\n",
    "\n",
    "print(f\"Elapsed time to compute the importances: \"\n",
    "      f\"{elapsed_time:.3f} seconds\")"
   ]
  },
  {
   "cell_type": "code",
   "execution_count": 16,
   "id": "74f8a004-b23d-47fc-b046-d2b3ed46ecbb",
   "metadata": {},
   "outputs": [
    {
     "data": {
      "image/png": "[encoded data removed]",
      "text/plain": [
       "<Figure size 432x288 with 1 Axes>"
      ]
     },
     "metadata": {
      "needs_background": "light"
     },
     "output_type": "display_data"
    }
   ],
   "source": [
    "import matplotlib.pyplot as plt\n",
    "forest_importances = pd.Series(importances, index=feature_names)\n",
    "\n",
    "fig, ax = plt.subplots()\n",
    "forest_importances.plot.bar(yerr=std, ax=ax)\n",
    "ax.set_title(\"Feature importances using MDI\")\n",
    "ax.set_ylabel(\"Mean decrease in impurity\")\n",
    "fig.tight_layout()"
   ]
  },
  {
   "cell_type": "code",
   "execution_count": 17,
   "id": "3ed239cd-95d2-480b-8e7e-930999aeee1a",
   "metadata": {},
   "outputs": [
    {
     "data": {
      "text/plain": [
       "0.03826774832233047"
      ]
     },
     "execution_count": 17,
     "metadata": {},
     "output_type": "execute_result"
    }
   ],
   "source": [
    "importances[importances.argmax()]"
   ]
  }
 ],
 "metadata": {
  "kernelspec": {
   "display_name": "Python 3 (ipykernel)",
   "language": "python",
   "name": "python3"
  },
  "language_info": {
   "codemirror_mode": {
    "name": "ipython",
    "version": 3
   },
   "file_extension": ".py",
   "mimetype": "text/x-python",
   "name": "python",
   "nbconvert_exporter": "python",
   "pygments_lexer": "ipython3",
   "version": "3.7.4"
  }
 },
 "nbformat": 4,
 "nbformat_minor": 5
}
