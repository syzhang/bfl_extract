{
 "cells": [
  {
   "cell_type": "markdown",
   "id": "79b02964-a1da-40d1-bb9c-4027d86fa090",
   "metadata": {},
   "source": [
    "### manova of paintype and paincontrol bfl"
   ]
  },
  {
   "cell_type": "code",
   "execution_count": 1,
   "id": "264a07bc-81a8-4ca6-a189-164b6c63fb08",
   "metadata": {},
   "outputs": [],
   "source": [
    "import os\n",
    "import numpy as np\n",
    "import pandas as pd\n",
    "import matplotlib.pyplot as plt\n",
    "import seaborn as sns"
   ]
  },
  {
   "cell_type": "code",
   "execution_count": 2,
   "id": "8f7ac2b1-5d3e-4f93-b6a7-40295df57333",
   "metadata": {},
   "outputs": [],
   "source": [
    "import matplotlib.pyplot as plt\n",
    "# from sklearn.metrics import balanced_accuracy_score, roc_auc_score"
   ]
  },
  {
   "cell_type": "code",
   "execution_count": 3,
   "id": "d4054ed1-0e5d-4653-a827-a31fc6486f9e",
   "metadata": {},
   "outputs": [
    {
     "name": "stderr",
     "output_type": "stream",
     "text": [
      "/gpfs3/well/seymour/users/uhu195/python/extract-py3.7.4-skylake/lib/python3.7/site-packages/nilearn/datasets/__init__.py:96: FutureWarning: Fetchers from the nilearn.datasets module will be updated in version 0.9 to return python strings instead of bytes and Pandas dataframes instead of Numpy arrays.\n",
      "  \"Numpy arrays.\", FutureWarning)\n"
     ]
    }
   ],
   "source": [
    "from compare_paincontrol import make_data_paincontrol\n",
    "from compare_hyperparams import load_feats, feature_importance, load_modZ\n",
    "from compare_bfl_qsidp import load_qscode, match_question"
   ]
  },
  {
   "cell_type": "markdown",
   "id": "5e745292-9059-4a63-a542-08eb439c3c77",
   "metadata": {},
   "source": [
    "#### make data"
   ]
  },
  {
   "cell_type": "code",
   "execution_count": 74,
   "id": "ccee15a0-3c86-4ca2-ac40-50dce144249d",
   "metadata": {},
   "outputs": [],
   "source": [
    "bestIC = 30 #200 #100 #50 #30\n",
    "qs_ls = None\n",
    "idp_ls = None"
   ]
  },
  {
   "cell_type": "code",
   "execution_count": 75,
   "id": "b34b4bd1-64c0-4a6c-9133-1c5ddbf9a838",
   "metadata": {},
   "outputs": [
    {
     "name": "stdout",
     "output_type": "stream",
     "text": [
      "df_bfl_qsidp shape=(4558, 33)\n"
     ]
    }
   ],
   "source": [
    "# load bfl\n",
    "df_bfl_qsidp = make_data_paincontrol(bestIC=bestIC, qs_ls=qs_ls, idp_ls=idp_ls)"
   ]
  },
  {
   "cell_type": "code",
   "execution_count": 76,
   "id": "e3c6e4c0-f097-4f92-a646-4dfb8f0c7445",
   "metadata": {},
   "outputs": [
    {
     "data": {
      "text/plain": [
       "Index([  'eid',  'bmrc', 'label',       0,       1,       2,       3,       4,\n",
       "             5,       6,       7,       8,       9,      10,      11,      12,\n",
       "            13,      14,      15,      16,      17,      18,      19,      20,\n",
       "            21,      22,      23,      24,      25,      26,      27,      28,\n",
       "            29],\n",
       "      dtype='object')"
      ]
     },
     "execution_count": 76,
     "metadata": {},
     "output_type": "execute_result"
    }
   ],
   "source": [
    "df_bfl_qsidp.columns"
   ]
  },
  {
   "cell_type": "code",
   "execution_count": 77,
   "id": "b4a6ca0f-7e33-42cf-9036-01d23ac0e634",
   "metadata": {},
   "outputs": [],
   "source": [
    "output_ls = ['label', 'eid', 'bmrc']\n",
    "dff = df_bfl_qsidp.drop(columns=output_ls)"
   ]
  },
  {
   "cell_type": "code",
   "execution_count": 78,
   "id": "70f5e1d8-f5ad-4002-9020-45b70402472a",
   "metadata": {},
   "outputs": [],
   "source": [
    "dff.columns = 'f_' + dff.columns.astype(str)"
   ]
  },
  {
   "cell_type": "code",
   "execution_count": 79,
   "id": "d0b2fd95-db62-4b52-bf80-5995c54a938c",
   "metadata": {},
   "outputs": [],
   "source": [
    "dffl = pd.concat([dff, df_bfl_qsidp['label']], axis=1)"
   ]
  },
  {
   "cell_type": "code",
   "execution_count": 80,
   "id": "a609e828-dc7f-4dcf-a73c-29960b2150ab",
   "metadata": {},
   "outputs": [
    {
     "data": {
      "text/plain": [
       "(4558, 31)"
      ]
     },
     "execution_count": 80,
     "metadata": {},
     "output_type": "execute_result"
    }
   ],
   "source": [
    "dffl.shape"
   ]
  },
  {
   "cell_type": "code",
   "execution_count": 81,
   "id": "f3a89077-4a74-4f7b-bec3-dee36aaaea55",
   "metadata": {},
   "outputs": [],
   "source": [
    "# dffl.columns"
   ]
  },
  {
   "cell_type": "code",
   "execution_count": 82,
   "id": "2130dc8b-2518-4390-9cc5-b1bce882581b",
   "metadata": {},
   "outputs": [],
   "source": [
    "from statsmodels.multivariate.manova import MANOVA"
   ]
  },
  {
   "cell_type": "code",
   "execution_count": 83,
   "id": "39cda377-0b5c-400d-aeee-dd1d58505fab",
   "metadata": {},
   "outputs": [],
   "source": [
    "formula = \"+\".join([f'f_{x}' for x in range(bestIC)]) + '~label'\n",
    "# print(formula)"
   ]
  },
  {
   "cell_type": "code",
   "execution_count": 84,
   "id": "f65e30f4-9faa-4e47-bcb1-5546aee3e97e",
   "metadata": {},
   "outputs": [
    {
     "name": "stdout",
     "output_type": "stream",
     "text": [
      "                   Multivariate linear model\n",
      "===============================================================\n",
      "                                                               \n",
      "---------------------------------------------------------------\n",
      "       Intercept        Value   Num DF   Den DF  F Value Pr > F\n",
      "---------------------------------------------------------------\n",
      "          Wilks' lambda 0.9851 30.0000 4527.0000  2.2889 0.0001\n",
      "         Pillai's trace 0.0149 30.0000 4527.0000  2.2889 0.0001\n",
      " Hotelling-Lawley trace 0.0152 30.0000 4527.0000  2.2889 0.0001\n",
      "    Roy's greatest root 0.0152 30.0000 4527.0000  2.2889 0.0001\n",
      "---------------------------------------------------------------\n",
      "                                                               \n",
      "---------------------------------------------------------------\n",
      "         label          Value   Num DF   Den DF  F Value Pr > F\n",
      "---------------------------------------------------------------\n",
      "          Wilks' lambda 0.9706 30.0000 4527.0000  4.5757 0.0000\n",
      "         Pillai's trace 0.0294 30.0000 4527.0000  4.5757 0.0000\n",
      " Hotelling-Lawley trace 0.0303 30.0000 4527.0000  4.5757 0.0000\n",
      "    Roy's greatest root 0.0303 30.0000 4527.0000  4.5757 0.0000\n",
      "===============================================================\n",
      "\n"
     ]
    }
   ],
   "source": [
    "fit = MANOVA.from_formula(formula, data=dffl)\n",
    "print(fit.mv_test())"
   ]
  },
  {
   "cell_type": "markdown",
   "id": "fbf91c79-a0c9-462e-bea6-fac6309b04b2",
   "metadata": {},
   "source": [
    "- for IC=200, Pillai's trace 0.0810 99.0000 4458.0000  3.9680 0.0000\n",
    "- for IC=30, Pillai's trace 0.0294 30.0000 4527.0000  4.5757 0.0000"
   ]
  },
  {
   "cell_type": "markdown",
   "id": "457525ad-218c-46ff-9a82-d9d32a901e02",
   "metadata": {},
   "source": [
    "#### paintype"
   ]
  },
  {
   "cell_type": "code",
   "execution_count": 99,
   "id": "86c3e7c0-7046-4f48-af40-ab76ad1d8f17",
   "metadata": {},
   "outputs": [],
   "source": [
    "from compare_paintype import make_data_paintype"
   ]
  },
  {
   "cell_type": "code",
   "execution_count": 193,
   "id": "4b154324-c62f-4dd8-80ab-9112c2d70e77",
   "metadata": {},
   "outputs": [],
   "source": [
    "bestIC = 30 #200 #100 #50 #30\n",
    "qs_ls = None\n",
    "idp_ls = None"
   ]
  },
  {
   "cell_type": "code",
   "execution_count": 194,
   "id": "1a9ca49f-a95e-4b80-885e-d5b3a0f75bd3",
   "metadata": {},
   "outputs": [
    {
     "name": "stdout",
     "output_type": "stream",
     "text": [
      "/well/seymour/users/uhu195/python/extract_npy//labels/label_patients_pain.csv\n",
      "(2724, 1)\n",
      "(2724, 6)\n",
      "df_bfl_qsidp shape=(2280, 36)\n"
     ]
    }
   ],
   "source": [
    "# load bfl\n",
    "df_bfl_qsidp = make_data_paintype(bestIC=bestIC, qs_ls=qs_ls, idp_ls=idp_ls)"
   ]
  },
  {
   "cell_type": "code",
   "execution_count": 195,
   "id": "888ccc66-80e5-40ab-b2ab-0f05a418539c",
   "metadata": {},
   "outputs": [],
   "source": [
    "# df_bfl_qsidp.columns"
   ]
  },
  {
   "cell_type": "code",
   "execution_count": 196,
   "id": "90da90d4-bdbd-406f-87af-d06293503c27",
   "metadata": {},
   "outputs": [
    {
     "name": "stdout",
     "output_type": "stream",
     "text": [
      "(2280, 30)\n"
     ]
    }
   ],
   "source": [
    "# retrain params\n",
    "X_train, y_train = load_feats(df_bfl_qsidp, bestIC, test_size=0.25, dummies=False,\n",
    "                              train=False, balance=False, scaler=True)"
   ]
  },
  {
   "cell_type": "code",
   "execution_count": 197,
   "id": "2475ee95-bf42-4e14-bce2-90a01f9da959",
   "metadata": {},
   "outputs": [
    {
     "data": {
      "text/plain": [
       "0                      back pain\n",
       "1                 osteoarthritis\n",
       "2                       migraine\n",
       "3                       migraine\n",
       "4                 osteoarthritis\n",
       "                  ...           \n",
       "2716              osteoarthritis\n",
       "2720              osteoarthritis\n",
       "2721                    migraine\n",
       "2722    irritable bowel syndrome\n",
       "2723    irritable bowel syndrome\n",
       "Name: label, Length: 2280, dtype: object"
      ]
     },
     "execution_count": 197,
     "metadata": {},
     "output_type": "execute_result"
    }
   ],
   "source": [
    "y_train.rename('label', inplace=True)"
   ]
  },
  {
   "cell_type": "code",
   "execution_count": 198,
   "id": "fffb763f-6897-406b-9998-a7fc986aaf9e",
   "metadata": {},
   "outputs": [],
   "source": [
    "output_ls = [ 'eid', 'irritable bowel syndrome','migraine','back pain','osteoarthritis','bmrc']\n",
    "dff = df_bfl_qsidp.drop(columns=output_ls)"
   ]
  },
  {
   "cell_type": "code",
   "execution_count": 199,
   "id": "a6b08137-999a-4ebe-9804-a36c8db2b704",
   "metadata": {},
   "outputs": [],
   "source": [
    "dff.columns = 'f_' + dff.columns.astype(str)"
   ]
  },
  {
   "cell_type": "code",
   "execution_count": 200,
   "id": "cd2a2af9-e470-4a40-b674-4b6979da7da1",
   "metadata": {},
   "outputs": [],
   "source": [
    "dffl = pd.concat([dff, y_train], axis=1)"
   ]
  },
  {
   "cell_type": "code",
   "execution_count": 201,
   "id": "15b83b57-70f3-4bf4-9674-62f24da7fc00",
   "metadata": {},
   "outputs": [
    {
     "data": {
      "text/plain": [
       "(2280, 31)"
      ]
     },
     "execution_count": 201,
     "metadata": {},
     "output_type": "execute_result"
    }
   ],
   "source": [
    "dffl.shape"
   ]
  },
  {
   "cell_type": "code",
   "execution_count": 202,
   "id": "99c83781-003a-4596-8a16-6414aaea394b",
   "metadata": {},
   "outputs": [
    {
     "data": {
      "text/plain": [
       "Index(['f_0', 'f_1', 'f_2', 'f_3', 'f_4', 'f_5', 'f_6', 'f_7', 'f_8', 'f_9',\n",
       "       'f_10', 'f_11', 'f_12', 'f_13', 'f_14', 'f_15', 'f_16', 'f_17', 'f_18',\n",
       "       'f_19', 'f_20', 'f_21', 'f_22', 'f_23', 'f_24', 'f_25', 'f_26', 'f_27',\n",
       "       'f_28', 'f_29', 'label'],\n",
       "      dtype='object')"
      ]
     },
     "execution_count": 202,
     "metadata": {},
     "output_type": "execute_result"
    }
   ],
   "source": [
    "dffl.columns"
   ]
  },
  {
   "cell_type": "code",
   "execution_count": 203,
   "id": "07331352-19df-42f9-883d-c7786ff357be",
   "metadata": {},
   "outputs": [],
   "source": [
    "from statsmodels.multivariate.manova import MANOVA"
   ]
  },
  {
   "cell_type": "code",
   "execution_count": 204,
   "id": "ba8e6b21-a5a3-404b-bc36-24b2d540cec7",
   "metadata": {},
   "outputs": [],
   "source": [
    "formula = \"+\".join([f'f_{x}' for x in range(bestIC)]) + '~label'\n",
    "# print(formula)"
   ]
  },
  {
   "cell_type": "code",
   "execution_count": 205,
   "id": "9e57510d-d1c1-4a2b-b8c6-62a4c34b2138",
   "metadata": {},
   "outputs": [
    {
     "name": "stdout",
     "output_type": "stream",
     "text": [
      "                   Multivariate linear model\n",
      "===============================================================\n",
      "                                                               \n",
      "---------------------------------------------------------------\n",
      "       Intercept        Value   Num DF   Den DF  F Value Pr > F\n",
      "---------------------------------------------------------------\n",
      "          Wilks' lambda 0.9698 30.0000 2247.0000  2.3317 0.0001\n",
      "         Pillai's trace 0.0302 30.0000 2247.0000  2.3317 0.0001\n",
      " Hotelling-Lawley trace 0.0311 30.0000 2247.0000  2.3317 0.0001\n",
      "    Roy's greatest root 0.0311 30.0000 2247.0000  2.3317 0.0001\n",
      "---------------------------------------------------------------\n",
      "                                                               \n",
      "---------------------------------------------------------------\n",
      "         label          Value   Num DF   Den DF  F Value Pr > F\n",
      "---------------------------------------------------------------\n",
      "          Wilks' lambda 0.8870 90.0000 6725.2980  3.0552 0.0000\n",
      "         Pillai's trace 0.1165 90.0000 6747.0000  3.0281 0.0000\n",
      " Hotelling-Lawley trace 0.1235 90.0000 6068.6879  3.0824 0.0000\n",
      "    Roy's greatest root 0.0791 30.0000 2249.0000  5.9281 0.0000\n",
      "===============================================================\n",
      "\n"
     ]
    }
   ],
   "source": [
    "fit = MANOVA.from_formula(formula, data=dffl)\n",
    "print(fit.mv_test())"
   ]
  },
  {
   "cell_type": "markdown",
   "id": "ac33cea8-b9ed-46fd-a383-87d89f451911",
   "metadata": {},
   "source": [
    "- for IC=200, Pillai's trace 0.3684 348.0000 6489.0000  2.6100 0.0000\n",
    "- for IC=30, Pillai's trace 0.1165 90.0000 6747.0000  3.0281 0.0000"
   ]
  },
  {
   "cell_type": "code",
   "execution_count": null,
   "id": "4a8c590b-af73-44e1-8b2b-5984ea19eb28",
   "metadata": {},
   "outputs": [],
   "source": []
  }
 ],
 "metadata": {
  "kernelspec": {
   "display_name": "Python 3 (ipykernel)",
   "language": "python",
   "name": "python3"
  },
  "language_info": {
   "codemirror_mode": {
    "name": "ipython",
    "version": 3
   },
   "file_extension": ".py",
   "mimetype": "text/x-python",
   "name": "python",
   "nbconvert_exporter": "python",
   "pygments_lexer": "ipython3",
   "version": "3.7.4"
  }
 },
 "nbformat": 4,
 "nbformat_minor": 5
}
