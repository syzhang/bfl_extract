{
 "cells": [
  {
   "cell_type": "markdown",
   "id": "00abeb8b-dbfa-464c-a5ae-629bf328747b",
   "metadata": {},
   "source": [
    "## pain questionnaire based classification dev"
   ]
  },
  {
   "cell_type": "markdown",
   "id": "eb485588-1a0e-4242-8872-61d027b03e89",
   "metadata": {},
   "source": [
    "waiting for bigflica to finish running, will work on this next week"
   ]
  },
  {
   "cell_type": "code",
   "execution_count": null,
   "id": "ffb00de9-af0d-48c3-a570-47b5753f1499",
   "metadata": {},
   "outputs": [],
   "source": []
  }
 ],
 "metadata": {
  "kernelspec": {
   "display_name": "Python 3 (ipykernel)",
   "language": "python",
   "name": "python3"
  },
  "language_info": {
   "codemirror_mode": {
    "name": "ipython",
    "version": 3
   },
   "file_extension": ".py",
   "mimetype": "text/x-python",
   "name": "python",
   "nbconvert_exporter": "python",
   "pygments_lexer": "ipython3",
   "version": "3.7.4"
  }
 },
 "nbformat": 4,
 "nbformat_minor": 5
}
