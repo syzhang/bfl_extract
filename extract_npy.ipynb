{
 "cells": [
  {
   "cell_type": "markdown",
   "metadata": {},
   "source": [
    "### preparing matrices for bigflica"
   ]
  },
  {
   "cell_type": "code",
   "execution_count": 1,
   "metadata": {},
   "outputs": [
    {
     "name": "stdout",
     "output_type": "stream",
     "text": [
      "/gpfs3/well/seymour/users/uhu195/python/extract-py3.7.4-skylake/bin/python\n"
     ]
    }
   ],
   "source": [
    "!which python"
   ]
  },
  {
   "cell_type": "code",
   "execution_count": 3,
   "metadata": {},
   "outputs": [],
   "source": [
    "import os\n",
    "import numpy as np\n",
    "import pandas as pd\n",
    "import nibabel as nib"
   ]
  },
  {
   "cell_type": "code",
   "execution_count": 12,
   "metadata": {},
   "outputs": [],
   "source": [
    "test = np.load('./npy/subjs_patients_pain_restricted/final_mask_to_MNI.npy')"
   ]
  },
  {
   "cell_type": "code",
   "execution_count": 13,
   "metadata": {},
   "outputs": [
    {
     "data": {
      "text/plain": [
       "dtype('float64')"
      ]
     },
     "execution_count": 13,
     "metadata": {},
     "output_type": "execute_result"
    }
   ],
   "source": [
    "test.dtype"
   ]
  },
  {
   "cell_type": "code",
   "execution_count": 14,
   "metadata": {},
   "outputs": [
    {
     "data": {
      "text/plain": [
       "(50, 7221032)"
      ]
     },
     "execution_count": 14,
     "metadata": {},
     "output_type": "execute_result"
    }
   ],
   "source": [
    "test.shape"
   ]
  },
  {
   "cell_type": "code",
   "execution_count": 9,
   "metadata": {},
   "outputs": [],
   "source": [
    "test = np.load('./npy/subjs_patients_pain_restricted/dr_stage2_5.npy')"
   ]
  },
  {
   "cell_type": "code",
   "execution_count": 10,
   "metadata": {},
   "outputs": [
    {
     "data": {
      "text/plain": [
       "dtype('float32')"
      ]
     },
     "execution_count": 10,
     "metadata": {},
     "output_type": "execute_result"
    }
   ],
   "source": [
    "test.dtype"
   ]
  },
  {
   "cell_type": "code",
   "execution_count": 11,
   "metadata": {},
   "outputs": [
    {
     "data": {
      "text/plain": [
       "(3, 902629)"
      ]
     },
     "execution_count": 11,
     "metadata": {},
     "output_type": "execute_result"
    }
   ],
   "source": [
    "test.shape"
   ]
  },
  {
   "cell_type": "code",
   "execution_count": null,
   "metadata": {},
   "outputs": [],
   "source": []
  },
  {
   "cell_type": "code",
   "execution_count": null,
   "metadata": {},
   "outputs": [],
   "source": []
  },
  {
   "cell_type": "code",
   "execution_count": 8,
   "metadata": {},
   "outputs": [],
   "source": [
    "test32 = test.astype('float32')"
   ]
  },
  {
   "cell_type": "code",
   "execution_count": 9,
   "metadata": {},
   "outputs": [
    {
     "data": {
      "text/plain": [
       "dtype('float32')"
      ]
     },
     "execution_count": 9,
     "metadata": {},
     "output_type": "execute_result"
    }
   ],
   "source": [
    "test32.dtype"
   ]
  },
  {
   "cell_type": "code",
   "execution_count": 36,
   "metadata": {},
   "outputs": [],
   "source": [
    "# load from\n",
    "data_dir = '/well/win-biobank/projects/imaging/data/data3/subjectsAll'"
   ]
  },
  {
   "cell_type": "code",
   "execution_count": 5,
   "metadata": {},
   "outputs": [],
   "source": [
    "# modalities\n",
    "mods = [\n",
    "    'fMRI/rfMRI_25.dr/dr_stage2.nii.gz',\n",
    "    'fMRI/tfMRI.feat/reg_standard/stats/zstat1.nii.gz',\n",
    "    'fMRI/tfMRI.feat/reg_standard/stats/zstat2.nii.gz',\n",
    "    'fMRI/tfMRI.feat/reg_standard/stats/zstat5.nii.gz',\n",
    "    'fMRI/tfMRI.feat/reg_standard/stats/cope1.nii.gz',\n",
    "    'fMRI/tfMRI.feat/reg_standard/stats/cope2.nii.gz',\n",
    "    'fMRI/tfMRI.feat/reg_standard/stats/cope5.nii.gz',\n",
    "    'dMRI/TBSS/stats/all_FA_skeletonised.nii.gz',\n",
    "    'dMRI/TBSS/stats/all_ICVF_skeletonised.nii.gz',\n",
    "    'dMRI/TBSS/stats/all_ISOVF_skeletonised.nii.gz',\n",
    "    'dMRI/TBSS/stats/all_L1_skeletonised.nii.gz',\n",
    "    'dMRI/TBSS/stats/all_L2_skeletonised.nii.gz',\n",
    "    'dMRI/TBSS/stats/all_L3_skeletonised.nii.gz',\n",
    "    'dMRI/TBSS/stats/all_MD_skeletonised.nii.gz',\n",
    "    'dMRI/TBSS/stats/all_MO_skeletonised.nii.gz',\n",
    "    'dMRI/TBSS/stats/all_OD_skeletonised.nii.gz',\n",
    "    'dMRI/autoptx_preproc/tractsNormSummed.nii.gz',\n",
    "    'T1/T1_vbm/T1_GM_to_template_GM_mod.nii.gz',\n",
    "    'T1/transforms/T1_to_MNI_warp_jac.nii.gz',\n",
    "    'SWI/T2star_to_MNI.nii.gz',\n",
    "    'T2_FLAIR/lesions/final_mask_to_MNI.nii.gz'\n",
    "]"
   ]
  },
  {
   "cell_type": "code",
   "execution_count": 27,
   "metadata": {},
   "outputs": [
    {
     "data": {
      "text/plain": [
       "21"
      ]
     },
     "execution_count": 27,
     "metadata": {},
     "output_type": "execute_result"
    }
   ],
   "source": [
    "len(mods)"
   ]
  },
  {
   "cell_type": "code",
   "execution_count": 37,
   "metadata": {},
   "outputs": [],
   "source": [
    "def check_mods(sj_csv):\n",
    "    # check modalities\n",
    "    full_sj = []\n",
    "    sj_path = './bmrc_subjs/'+sj_csv\n",
    "    df_sj = pd.read_csv(sj_path, header=None)\n",
    "    for sj in df_sj[0].values:\n",
    "        count = 0\n",
    "        for m in mods:\n",
    "            f_path = os.path.join(data_dir, '2'+str(sj), m)\n",
    "            if os.path.exists(f_path):\n",
    "                count += 1\n",
    "        if count == len(mods):\n",
    "            full_sj.append(sj)\n",
    "    #         print(f'subject {sj} has {count} modalities.')\n",
    "    df_full = pd.DataFrame({'eid':full_sj})\n",
    "    df_full.to_csv('./bmrc_full/'+sj_csv,index=None)\n",
    "    print(sj_csv, len(full_sj))"
   ]
  },
  {
   "cell_type": "code",
   "execution_count": 42,
   "metadata": {},
   "outputs": [
    {
     "name": "stdout",
     "output_type": "stream",
     "text": [
      "subjs_patients_pain_restricted.csv 1714\n"
     ]
    }
   ],
   "source": [
    "check_mods('subjs_patients_pain_restricted.csv')"
   ]
  },
  {
   "cell_type": "code",
   "execution_count": 43,
   "metadata": {},
   "outputs": [
    {
     "name": "stdout",
     "output_type": "stream",
     "text": [
      "subjs_pain_minus_matched.csv 14423\n",
      "subjs_patients_matched.csv 4516\n",
      "subjs_patients_pain_restricted.csv 1714\n",
      "subjs_patients_pain_restricted_matched.csv 1707\n",
      "subjs_pain_plus.csv 14872\n",
      "subjs_patients.csv 4527\n",
      "subjs_patients_pain_matched.csv 2718\n",
      "subjs_patients_pain.csv 2724\n"
     ]
    }
   ],
   "source": [
    "# load subjects\n",
    "for f in os.listdir('./bmrc_subjs'):\n",
    "    check_mods(f)"
   ]
  },
  {
   "cell_type": "markdown",
   "metadata": {},
   "source": [
    "### extract npy"
   ]
  },
  {
   "cell_type": "code",
   "execution_count": 45,
   "metadata": {},
   "outputs": [],
   "source": [
    "dff = pd.read_csv('./bmrc_full/subjs_patients_pain_restricted.csv')"
   ]
  },
  {
   "cell_type": "code",
   "execution_count": 1,
   "metadata": {},
   "outputs": [],
   "source": [
    "def extract_nii(m_name, sj_csv):\n",
    "    all_m = []\n",
    "\n",
    "    dff = pd.read_csv('./bmrc_full/'+sj_csv)\n",
    "    for sj in dff['eid']:\n",
    "        f_path = os.path.join(data_dir, '2'+str(sj), m)\n",
    "        if os.path.exists(f_path):\n",
    "            img = nib.load(f_path)\n",
    "            img_dat = img.get_fdata()\n",
    "    #         img_rav = np.ravel(img_dat)\n",
    "            img_rav = img_dat.reshape(1,-1)\n",
    "#             print(img_rav.shape)\n",
    "            all_m.append(img_rav)\n",
    "    all_mr = np.vstack(all_m)\n",
    "    print(all_mr.shape)\n",
    "    # save\n",
    "    save_name  = './npy/' + m.split('/')[-1].split('.')[0] + '.npy'\n",
    "    np.save(save_name, all_mr)"
   ]
  },
  {
   "cell_type": "code",
   "execution_count": 77,
   "metadata": {},
   "outputs": [],
   "source": [
    "m = 'T1/T1_vbm/T1_GM_to_template_GM_mod.nii.gz'"
   ]
  },
  {
   "cell_type": "code",
   "execution_count": null,
   "metadata": {},
   "outputs": [],
   "source": [
    "extract_nii(m)"
   ]
  },
  {
   "cell_type": "code",
   "execution_count": null,
   "metadata": {},
   "outputs": [],
   "source": []
  }
 ],
 "metadata": {
  "kernelspec": {
   "display_name": "Python 3 (ipykernel)",
   "language": "python",
   "name": "python3"
  },
  "language_info": {
   "codemirror_mode": {
    "name": "ipython",
    "version": 3
   },
   "file_extension": ".py",
   "mimetype": "text/x-python",
   "name": "python",
   "nbconvert_exporter": "python",
   "pygments_lexer": "ipython3",
   "version": "3.7.4"
  }
 },
 "nbformat": 4,
 "nbformat_minor": 4
}
