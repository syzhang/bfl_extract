{
 "cells": [
  {
   "cell_type": "markdown",
   "metadata": {},
   "source": [
    "### preparing matrices for bigflica"
   ]
  },
  {
   "cell_type": "code",
   "execution_count": 2,
   "metadata": {},
   "outputs": [
    {
     "name": "stdout",
     "output_type": "stream",
     "text": [
      "/gpfs3/well/seymour/users/uhu195/python/extract-py3.7.4-skylake/bin/python\n"
     ]
    }
   ],
   "source": [
    "!which python"
   ]
  },
  {
   "cell_type": "code",
   "execution_count": 3,
   "metadata": {},
   "outputs": [],
   "source": [
    "import os\n",
    "import numpy as np\n",
    "import pandas as pd\n",
    "import nibabel as nib"
   ]
  },
  {
   "cell_type": "code",
   "execution_count": 13,
   "metadata": {},
   "outputs": [],
   "source": [
    "test = np.load('./npy/subjs_patients_pain_restricted/zstat5.npy')"
   ]
  },
  {
   "cell_type": "code",
   "execution_count": 10,
   "metadata": {},
   "outputs": [],
   "source": [
    "test = np.load('./npy/subjs_patients_pain_restricted/T1_to_MNI_warp_jac.npy')"
   ]
  },
  {
   "cell_type": "code",
   "execution_count": 14,
   "metadata": {},
   "outputs": [
    {
     "data": {
      "text/plain": [
       "dtype('float32')"
      ]
     },
     "execution_count": 14,
     "metadata": {},
     "output_type": "execute_result"
    }
   ],
   "source": [
    "test.dtype"
   ]
  },
  {
   "cell_type": "code",
   "execution_count": 15,
   "metadata": {},
   "outputs": [
    {
     "data": {
      "text/plain": [
       "(1714, 228453)"
      ]
     },
     "execution_count": 15,
     "metadata": {},
     "output_type": "execute_result"
    }
   ],
   "source": [
    "test.shape"
   ]
  },
  {
   "cell_type": "code",
   "execution_count": 4,
   "metadata": {},
   "outputs": [],
   "source": [
    "test = np.load('./npy/subjs_patients_pain_restricted/dr_stage2_5.npy')"
   ]
  },
  {
   "cell_type": "code",
   "execution_count": 5,
   "metadata": {},
   "outputs": [
    {
     "data": {
      "text/plain": [
       "dtype('float32')"
      ]
     },
     "execution_count": 5,
     "metadata": {},
     "output_type": "execute_result"
    }
   ],
   "source": [
    "test.dtype"
   ]
  },
  {
   "cell_type": "code",
   "execution_count": 6,
   "metadata": {},
   "outputs": [
    {
     "data": {
      "text/plain": [
       "(2, 228453)"
      ]
     },
     "execution_count": 6,
     "metadata": {},
     "output_type": "execute_result"
    }
   ],
   "source": [
    "test.shape"
   ]
  },
  {
   "cell_type": "code",
   "execution_count": null,
   "metadata": {},
   "outputs": [],
   "source": []
  },
  {
   "cell_type": "code",
   "execution_count": null,
   "metadata": {},
   "outputs": [],
   "source": []
  },
  {
   "cell_type": "code",
   "execution_count": 8,
   "metadata": {},
   "outputs": [],
   "source": [
    "test32 = test.astype('float32')"
   ]
  },
  {
   "cell_type": "code",
   "execution_count": 9,
   "metadata": {},
   "outputs": [
    {
     "data": {
      "text/plain": [
       "dtype('float32')"
      ]
     },
     "execution_count": 9,
     "metadata": {},
     "output_type": "execute_result"
    }
   ],
   "source": [
    "test32.dtype"
   ]
  },
  {
   "cell_type": "code",
   "execution_count": 2,
   "metadata": {},
   "outputs": [],
   "source": [
    "# load from\n",
    "data_dir = '/well/win-biobank/projects/imaging/data/data3/subjectsAll'"
   ]
  },
  {
   "cell_type": "code",
   "execution_count": 3,
   "metadata": {},
   "outputs": [],
   "source": [
    "# modalities\n",
    "mods = [\n",
    "    'fMRI/rfMRI_25.dr/dr_stage2.nii.gz',\n",
    "    'fMRI/tfMRI.feat/reg_standard/stats/zstat1.nii.gz',\n",
    "    'fMRI/tfMRI.feat/reg_standard/stats/zstat2.nii.gz',\n",
    "    'fMRI/tfMRI.feat/reg_standard/stats/zstat5.nii.gz',\n",
    "    'fMRI/tfMRI.feat/reg_standard/stats/cope1.nii.gz',\n",
    "    'fMRI/tfMRI.feat/reg_standard/stats/cope2.nii.gz',\n",
    "    'fMRI/tfMRI.feat/reg_standard/stats/cope5.nii.gz',\n",
    "    'dMRI/TBSS/stats/all_FA_skeletonised.nii.gz',\n",
    "    'dMRI/TBSS/stats/all_ICVF_skeletonised.nii.gz',\n",
    "    'dMRI/TBSS/stats/all_ISOVF_skeletonised.nii.gz',\n",
    "    'dMRI/TBSS/stats/all_L1_skeletonised.nii.gz',\n",
    "    'dMRI/TBSS/stats/all_L2_skeletonised.nii.gz',\n",
    "    'dMRI/TBSS/stats/all_L3_skeletonised.nii.gz',\n",
    "    'dMRI/TBSS/stats/all_MD_skeletonised.nii.gz',\n",
    "    'dMRI/TBSS/stats/all_MO_skeletonised.nii.gz',\n",
    "    'dMRI/TBSS/stats/all_OD_skeletonised.nii.gz',\n",
    "    'dMRI/autoptx_preproc/tractsNormSummed.nii.gz',\n",
    "    'T1/T1_vbm/T1_GM_to_template_GM_mod.nii.gz',\n",
    "    'T1/transforms/T1_to_MNI_warp_jac.nii.gz',\n",
    "    'SWI/T2star_to_MNI.nii.gz',\n",
    "    'T2_FLAIR/lesions/final_mask_to_MNI.nii.gz'\n",
    "]"
   ]
  },
  {
   "cell_type": "code",
   "execution_count": 4,
   "metadata": {},
   "outputs": [
    {
     "data": {
      "text/plain": [
       "21"
      ]
     },
     "execution_count": 4,
     "metadata": {},
     "output_type": "execute_result"
    }
   ],
   "source": [
    "len(mods)"
   ]
  },
  {
   "cell_type": "code",
   "execution_count": 21,
   "metadata": {},
   "outputs": [],
   "source": [
    "# testing using mask \n",
    "# f_path = os.path.join(data_dir, '2'+str(1901794), mods[1])\n",
    "f_path = os.path.join(data_dir, '2'+str(1901794), mods[10])\n",
    "img = nib.load(f_path)\n",
    "img_dat = img.get_fdata()"
   ]
  },
  {
   "cell_type": "code",
   "execution_count": 22,
   "metadata": {},
   "outputs": [
    {
     "data": {
      "text/plain": [
       "(182, 218, 182)"
      ]
     },
     "execution_count": 22,
     "metadata": {},
     "output_type": "execute_result"
    }
   ],
   "source": [
    "img_dat.shape"
   ]
  },
  {
   "cell_type": "code",
   "execution_count": 1,
   "metadata": {},
   "outputs": [
    {
     "ename": "NameError",
     "evalue": "name 'nib' is not defined",
     "output_type": "error",
     "traceback": [
      "\u001b[0;31m---------------------------------------------------------------------------\u001b[0m",
      "\u001b[0;31mNameError\u001b[0m                                 Traceback (most recent call last)",
      "\u001b[0;32m/tmp/54284029.1.short.qc/ipykernel_132337/868098148.py\u001b[0m in \u001b[0;36m<module>\u001b[0;34m\u001b[0m\n\u001b[1;32m      1\u001b[0m \u001b[0;31m# mask_path = './MNI152_T1_2mm_brain.nii.gz'\u001b[0m\u001b[0;34m\u001b[0m\u001b[0;34m\u001b[0m\u001b[0;34m\u001b[0m\u001b[0m\n\u001b[1;32m      2\u001b[0m \u001b[0mmask_path\u001b[0m \u001b[0;34m=\u001b[0m \u001b[0;34m'./MNI152_T1_1mm_brain.nii.gz'\u001b[0m\u001b[0;34m\u001b[0m\u001b[0;34m\u001b[0m\u001b[0m\n\u001b[0;32m----> 3\u001b[0;31m \u001b[0mmask\u001b[0m \u001b[0;34m=\u001b[0m \u001b[0mnib\u001b[0m\u001b[0;34m.\u001b[0m\u001b[0mload\u001b[0m\u001b[0;34m(\u001b[0m\u001b[0mmask_path\u001b[0m\u001b[0;34m)\u001b[0m\u001b[0;34m\u001b[0m\u001b[0;34m\u001b[0m\u001b[0m\n\u001b[0m\u001b[1;32m      4\u001b[0m \u001b[0mmask_dat\u001b[0m \u001b[0;34m=\u001b[0m \u001b[0mmask\u001b[0m\u001b[0;34m.\u001b[0m\u001b[0mget_fdata\u001b[0m\u001b[0;34m(\u001b[0m\u001b[0;34m)\u001b[0m\u001b[0;34m>\u001b[0m\u001b[0;36m0\u001b[0m\u001b[0;34m\u001b[0m\u001b[0;34m\u001b[0m\u001b[0m\n",
      "\u001b[0;31mNameError\u001b[0m: name 'nib' is not defined"
     ]
    }
   ],
   "source": [
    "# mask_path = './MNI152_T1_2mm_brain.nii.gz'\n",
    "mask_path = './MNI152_T1_1mm_brain.nii.gz'\n",
    "mask = nib.load(mask_path)\n",
    "mask_dat = mask.get_fdata()>0"
   ]
  },
  {
   "cell_type": "code",
   "execution_count": 24,
   "metadata": {},
   "outputs": [
    {
     "data": {
      "text/plain": [
       "(182, 218, 182)"
      ]
     },
     "execution_count": 24,
     "metadata": {},
     "output_type": "execute_result"
    }
   ],
   "source": [
    "mask_dat.shape"
   ]
  },
  {
   "cell_type": "code",
   "execution_count": 25,
   "metadata": {},
   "outputs": [
    {
     "data": {
      "text/plain": [
       "892710"
      ]
     },
     "execution_count": 25,
     "metadata": {},
     "output_type": "execute_result"
    }
   ],
   "source": [
    "91*109*90"
   ]
  },
  {
   "cell_type": "code",
   "execution_count": 20,
   "metadata": {},
   "outputs": [
    {
     "data": {
      "text/plain": [
       "0.48396231698983994"
      ]
     },
     "execution_count": 20,
     "metadata": {},
     "output_type": "execute_result"
    }
   ],
   "source": [
    "432038/(91*109*90)"
   ]
  },
  {
   "cell_type": "code",
   "execution_count": 26,
   "metadata": {},
   "outputs": [
    {
     "data": {
      "text/plain": [
       "7221032"
      ]
     },
     "execution_count": 26,
     "metadata": {},
     "output_type": "execute_result"
    }
   ],
   "source": [
    "182*218*182"
   ]
  },
  {
   "cell_type": "code",
   "execution_count": 30,
   "metadata": {},
   "outputs": [
    {
     "data": {
      "text/plain": [
       "0.01907899037145937"
      ]
     },
     "execution_count": 30,
     "metadata": {},
     "output_type": "execute_result"
    }
   ],
   "source": [
    "137770/(182*218*182)"
   ]
  },
  {
   "cell_type": "code",
   "execution_count": 27,
   "metadata": {},
   "outputs": [],
   "source": [
    "data = img_dat[mask_dat]"
   ]
  },
  {
   "cell_type": "code",
   "execution_count": 28,
   "metadata": {},
   "outputs": [
    {
     "data": {
      "text/plain": [
       "(137770,)"
      ]
     },
     "execution_count": 28,
     "metadata": {},
     "output_type": "execute_result"
    }
   ],
   "source": [
    "data.shape"
   ]
  },
  {
   "cell_type": "code",
   "execution_count": 6,
   "metadata": {},
   "outputs": [],
   "source": [
    "def check_mods(sj_csv):\n",
    "    # check modalities\n",
    "    full_sj = []\n",
    "    sj_path = './bmrc_subjs/'+sj_csv\n",
    "    df_sj = pd.read_csv(sj_path, header=None)\n",
    "    for sj in df_sj[0].values:\n",
    "        count = 0\n",
    "        for m in mods:\n",
    "            f_path = os.path.join(data_dir, '2'+str(sj), m)\n",
    "            if os.path.exists(f_path):\n",
    "                count += 1\n",
    "        if count == len(mods):\n",
    "            full_sj.append(sj)\n",
    "    #         print(f'subject {sj} has {count} modalities.')\n",
    "#     df_full = pd.DataFrame({'eid':full_sj})\n",
    "#     df_full.to_csv('./bmrc_full/'+sj_csv,index=None)\n",
    "    print(sj_csv, len(full_sj))"
   ]
  },
  {
   "cell_type": "code",
   "execution_count": 7,
   "metadata": {},
   "outputs": [
    {
     "name": "stdout",
     "output_type": "stream",
     "text": [
      "subjs_patients_pain_restricted.csv 1714\n"
     ]
    }
   ],
   "source": [
    "check_mods('subjs_patients_pain_restricted.csv')"
   ]
  },
  {
   "cell_type": "code",
   "execution_count": 11,
   "metadata": {},
   "outputs": [],
   "source": [
    "# load subjects\n",
    "# for f in os.listdir('./bmrc_subjs'):\n",
    "#     check_mods(f)"
   ]
  },
  {
   "cell_type": "code",
   "execution_count": 8,
   "metadata": {},
   "outputs": [],
   "source": [
    "dfff = pd.read_csv('./bmrc_full/subjs_patients_pain_restricted.csv')"
   ]
  },
  {
   "cell_type": "code",
   "execution_count": 10,
   "metadata": {},
   "outputs": [
    {
     "data": {
      "text/html": [
       "<div>\n",
       "<style scoped>\n",
       "    .dataframe tbody tr th:only-of-type {\n",
       "        vertical-align: middle;\n",
       "    }\n",
       "\n",
       "    .dataframe tbody tr th {\n",
       "        vertical-align: top;\n",
       "    }\n",
       "\n",
       "    .dataframe thead th {\n",
       "        text-align: right;\n",
       "    }\n",
       "</style>\n",
       "<table border=\"1\" class=\"dataframe\">\n",
       "  <thead>\n",
       "    <tr style=\"text-align: right;\">\n",
       "      <th></th>\n",
       "      <th>eid</th>\n",
       "    </tr>\n",
       "  </thead>\n",
       "  <tbody>\n",
       "    <tr>\n",
       "      <th>0</th>\n",
       "      <td>1901794</td>\n",
       "    </tr>\n",
       "    <tr>\n",
       "      <th>1</th>\n",
       "      <td>4444357</td>\n",
       "    </tr>\n",
       "    <tr>\n",
       "      <th>2</th>\n",
       "      <td>2540310</td>\n",
       "    </tr>\n",
       "    <tr>\n",
       "      <th>3</th>\n",
       "      <td>1871475</td>\n",
       "    </tr>\n",
       "    <tr>\n",
       "      <th>4</th>\n",
       "      <td>4472502</td>\n",
       "    </tr>\n",
       "  </tbody>\n",
       "</table>\n",
       "</div>"
      ],
      "text/plain": [
       "       eid\n",
       "0  1901794\n",
       "1  4444357\n",
       "2  2540310\n",
       "3  1871475\n",
       "4  4472502"
      ]
     },
     "execution_count": 10,
     "metadata": {},
     "output_type": "execute_result"
    }
   ],
   "source": [
    "dfff.head()"
   ]
  },
  {
   "cell_type": "markdown",
   "metadata": {},
   "source": [
    "### extract npy"
   ]
  },
  {
   "cell_type": "code",
   "execution_count": 45,
   "metadata": {},
   "outputs": [],
   "source": [
    "dff = pd.read_csv('./bmrc_full/subjs_patients_pain_restricted.csv')"
   ]
  },
  {
   "cell_type": "code",
   "execution_count": 1,
   "metadata": {},
   "outputs": [],
   "source": [
    "def extract_nii(m_name, sj_csv):\n",
    "    all_m = []\n",
    "\n",
    "    dff = pd.read_csv('./bmrc_full/'+sj_csv)\n",
    "    for sj in dff['eid']:\n",
    "        f_path = os.path.join(data_dir, '2'+str(sj), m)\n",
    "        if os.path.exists(f_path):\n",
    "            img = nib.load(f_path)\n",
    "            img_dat = img.get_fdata()\n",
    "    #         img_rav = np.ravel(img_dat)\n",
    "            img_rav = img_dat.reshape(1,-1)\n",
    "#             print(img_rav.shape)\n",
    "            all_m.append(img_rav)\n",
    "    all_mr = np.vstack(all_m)\n",
    "    print(all_mr.shape)\n",
    "    # save\n",
    "    save_name  = './npy/' + m.split('/')[-1].split('.')[0] + '.npy'\n",
    "    np.save(save_name, all_mr)"
   ]
  },
  {
   "cell_type": "code",
   "execution_count": 77,
   "metadata": {},
   "outputs": [],
   "source": [
    "m = 'T1/T1_vbm/T1_GM_to_template_GM_mod.nii.gz'"
   ]
  },
  {
   "cell_type": "code",
   "execution_count": null,
   "metadata": {},
   "outputs": [],
   "source": [
    "extract_nii(m)"
   ]
  },
  {
   "cell_type": "code",
   "execution_count": null,
   "metadata": {},
   "outputs": [],
   "source": []
  }
 ],
 "metadata": {
  "kernelspec": {
   "display_name": "Python 3 (ipykernel)",
   "language": "python",
   "name": "python3"
  },
  "language_info": {
   "codemirror_mode": {
    "name": "ipython",
    "version": 3
   },
   "file_extension": ".py",
   "mimetype": "text/x-python",
   "name": "python",
   "nbconvert_exporter": "python",
   "pygments_lexer": "ipython3",
   "version": "3.7.4"
  }
 },
 "nbformat": 4,
 "nbformat_minor": 4
}
