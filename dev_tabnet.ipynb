{
 "cells": [
  {
   "cell_type": "markdown",
   "id": "423883b8-2bdf-4aa4-810c-4ef43a5d78f6",
   "metadata": {
    "tags": []
   },
   "source": [
    "### tabnet"
   ]
  },
  {
   "cell_type": "code",
   "execution_count": 1,
   "id": "b2658533-eead-4c36-8fee-074451ca36b0",
   "metadata": {},
   "outputs": [],
   "source": [
    "import os\n",
    "import numpy as np\n",
    "import pandas as pd"
   ]
  },
  {
   "cell_type": "code",
   "execution_count": 61,
   "id": "642b598d-d61e-46ae-96cd-89b08b4efb41",
   "metadata": {},
   "outputs": [],
   "source": [
    "import matplotlib.pyplot as plt\n",
    "from sklearn.metrics import balanced_accuracy_score, roc_auc_score"
   ]
  },
  {
   "cell_type": "code",
   "execution_count": 3,
   "id": "ffd6ae7a-eea0-4bfb-a4d2-97f066ebf694",
   "metadata": {},
   "outputs": [],
   "source": [
    "from pytorch_tabnet.tab_model import TabNetClassifier\n",
    "from pytorch_tabnet.multitask import TabNetMultiTaskClassifier"
   ]
  },
  {
   "cell_type": "code",
   "execution_count": 4,
   "id": "32a007f1-f2c8-4c95-a836-0d4a31a04fb9",
   "metadata": {},
   "outputs": [
    {
     "name": "stderr",
     "output_type": "stream",
     "text": [
      "/gpfs3/well/seymour/users/uhu195/python/extract-py3.7.4-skylake/lib/python3.7/site-packages/nilearn/datasets/__init__.py:96: FutureWarning: Fetchers from the nilearn.datasets module will be updated in version 0.9 to return python strings instead of bytes and Pandas dataframes instead of Numpy arrays.\n",
      "  \"Numpy arrays.\", FutureWarning)\n"
     ]
    }
   ],
   "source": [
    "from compare_hyperparams import load_feats, full_labels, remove_subjs, objective, feature_importance"
   ]
  },
  {
   "cell_type": "code",
   "execution_count": 5,
   "id": "07481e64-0f78-4ae1-8184-6a9a0577ab17",
   "metadata": {},
   "outputs": [],
   "source": [
    "from compare_bfl_qsidp import proc_qsidp, load_qscode"
   ]
  },
  {
   "cell_type": "code",
   "execution_count": 6,
   "id": "db7aa549-ee2d-4a4f-a94f-e42a05921e7f",
   "metadata": {},
   "outputs": [],
   "source": [
    "# bestIC = 500\n",
    "bestIC = 30\n",
    "# bestIC = 100"
   ]
  },
  {
   "cell_type": "code",
   "execution_count": 10,
   "id": "d903bf9b-c7db-406f-9b46-76a1b459d3c6",
   "metadata": {},
   "outputs": [],
   "source": [
    "def make_data_paincontrol(bestIC, qs_ls='all', idp_ls='all'):\n",
    "    bfloutput_dir='/well/tracey/shared/fps-ukb/bigflica_output/output_paincontrol_500/'\n",
    "    curr_dir = '/well/seymour/users/uhu195/python/extract_npy'\n",
    "    d = f'Result_IC{bestIC}'\n",
    "    data_dir = os.path.join(bfloutput_dir, d)\n",
    "    df_out = pd.read_csv(os.path.join(curr_dir, 'labels_full', 'label_paincontrol.csv'))\n",
    "    df_featout_ex = remove_subjs(data_dir, df_out, remove_dup=False)\n",
    "    # load qsidp (section to match bfl, impute, dummify)\n",
    "    if qs_ls is not None or idp_ls is not None:\n",
    "        df_qsidp = pd.read_csv(os.path.join(curr_dir,'qsidp','qsidp_patients_pain.csv'))\n",
    "        df_qs_imputed_dum = proc_qsidp(df_qsidp, df_featout_ex, questionnaire=qs_ls, idp=idp_ls)\n",
    "        print(f'df_qs_imputed_dum shape={df_qs_imputed_dum.shape}')\n",
    "        # merge bfl and qsidp\n",
    "        df_bfl_qsidp = df_featout_ex.merge(df_qs_imputed_dum, left_on='eid', right_on='eid', how='left',indicator=False)\n",
    "    else:\n",
    "        df_bfl_qsidp = df_featout_ex\n",
    "    print(f'df_bfl_qsidp shape={df_bfl_qsidp.shape}')\n",
    "    return df_bfl_qsidp"
   ]
  },
  {
   "cell_type": "code",
   "execution_count": 11,
   "id": "bef08771-001e-4941-8d35-315161a8c613",
   "metadata": {},
   "outputs": [],
   "source": [
    "def make_data(bestIC, qs_ls='all', idp_ls='all'):\n",
    "    bfloutput_dir='/well/seymour/users/uhu195/python/pain/output_patients_500'\n",
    "    curr_dir = '/well/seymour/users/uhu195/python/extract_npy'\n",
    "    d = f'Result_IC{bestIC}'\n",
    "    data_dir = os.path.join(bfloutput_dir, d)\n",
    "    df_out = full_labels('patients_pain', save=False)\n",
    "    df_featout_ex = remove_subjs(data_dir, df_out) # remove multiple conditions\n",
    "    # load qsidp (section to match bfl, impute, dummify)\n",
    "    if qs_ls is not None or idp_ls is not None:\n",
    "        df_qsidp = pd.read_csv(os.path.join(curr_dir,'qsidp','qsidp_patients_pain.csv'))\n",
    "        df_qs_imputed_dum = proc_qsidp(df_qsidp, df_featout_ex, questionnaire=qs_ls, idp=idp_ls)\n",
    "        print(f'df_qs_imputed_dum shape={df_qs_imputed_dum.shape}')\n",
    "        # merge bfl and qsidp\n",
    "        df_bfl_qsidp = df_featout_ex.merge(df_qs_imputed_dum, left_on='eid', right_on='eid', how='left',indicator=False)\n",
    "    else:\n",
    "        df_bfl_qsidp = df_featout_ex\n",
    "    print(f'df_bfl_qsidp shape={df_bfl_qsidp.shape}')\n",
    "    return df_bfl_qsidp"
   ]
  },
  {
   "cell_type": "code",
   "execution_count": 12,
   "id": "f8091dae-9bd6-49f2-b5b3-66b19ae6d4a6",
   "metadata": {},
   "outputs": [],
   "source": [
    "def make_binary(bestIC, disease_ls=['migraine', 'back pain']):\n",
    "    bfloutput_dir='/well/seymour/users/uhu195/python/pain/output_patients_500'\n",
    "    curr_dir = '/well/seymour/users/uhu195/python/extract_npy'\n",
    "    d = f'Result_IC{bestIC}'\n",
    "    data_dir = os.path.join(bfloutput_dir, d)\n",
    "    df_out = full_labels('patients_pain', save=False)\n",
    "    df_featout_ex = remove_subjs(data_dir, df_out) # remove multiple conditions\n",
    "    # load qsidp (section to match bfl, impute, dummify)\n",
    "    qs_ls = 'all'\n",
    "    idp_ls = 'all'\n",
    "    # idp_ls = None\n",
    "    if qs_ls is not None or idp_ls is not None:\n",
    "        df_qsidp = pd.read_csv(os.path.join(curr_dir,'qsidp','qsidp_patients_pain.csv'))\n",
    "        df_qs_imputed_dum = proc_qsidp(df_qsidp, df_featout_ex, questionnaire=qs_ls, idp=idp_ls)\n",
    "        print(f'df_qs_imputed_dum shape={df_qs_imputed_dum.shape}')\n",
    "        # merge bfl and qsidp\n",
    "        df_bfl_qsidp = df_featout_ex.merge(df_qs_imputed_dum, left_on='eid', right_on='eid', how='left',indicator=False)\n",
    "    else:\n",
    "        df_bfl_qsidp = df_featout_ex\n",
    "    print(f'df_bfl_qsidp shape={df_bfl_qsidp.shape}')\n",
    "    \n",
    "    # extract and concat\n",
    "    df_binary = df_bfl_qsidp[(df_bfl_qsidp[disease_ls[0]]==1) | (df_bfl_qsidp[disease_ls[1]]==1)]\n",
    "    print(df_binary.shape)\n",
    "    return df_binary"
   ]
  },
  {
   "cell_type": "code",
   "execution_count": 13,
   "id": "2a7c3395-334c-4ba9-aad4-b550fab20ff5",
   "metadata": {},
   "outputs": [],
   "source": [
    "def match_question(q_codes, questionnaire='all', idp='all'):\n",
    "    \"\"\"backward search questions to match question code\"\"\"\n",
    "    df_qs = load_qscode(questionnaire=questionnaire, idp=idp)\n",
    "    question_ls = []\n",
    "    for c in q_codes:\n",
    "        if isinstance(c, str):\n",
    "            code = int(c.split('-')[0])\n",
    "            question = df_qs[df_qs['code']==code]['Field title'].values\n",
    "            question_ls.append(question)\n",
    "    return question_ls"
   ]
  },
  {
   "cell_type": "markdown",
   "id": "7166ed5f-8d5d-46e4-a9f7-40fb9894f636",
   "metadata": {},
   "source": [
    "### testing paincontrol"
   ]
  },
  {
   "cell_type": "code",
   "execution_count": 22,
   "id": "b9a2c562-d3c5-45fe-898c-5e9b56d938e0",
   "metadata": {},
   "outputs": [
    {
     "name": "stdout",
     "output_type": "stream",
     "text": [
      "df_bfl_qsidp shape=(4558, 33)\n"
     ]
    }
   ],
   "source": [
    "dff = make_data_paincontrol(bestIC=30, qs_ls=None, idp_ls=None)"
   ]
  },
  {
   "cell_type": "code",
   "execution_count": 23,
   "id": "60b58a8c-fac6-4dbf-95ab-d9dd590edd25",
   "metadata": {},
   "outputs": [
    {
     "name": "stdout",
     "output_type": "stream",
     "text": [
      "(4558, 30)\n"
     ]
    }
   ],
   "source": [
    "X_train, y_train, X_valid, y_valid = load_feats(dff, bestIC, test_size=0.25,\n",
    "                                                dummies=False,\n",
    "                                                train=True, balance=True, scaler=True)"
   ]
  },
  {
   "cell_type": "code",
   "execution_count": 25,
   "id": "97a8879e-7713-45e0-99b6-964b571fdfce",
   "metadata": {},
   "outputs": [
    {
     "data": {
      "text/plain": [
       "1    1709\n",
       "0    1708\n",
       "Name: label, dtype: int64"
      ]
     },
     "execution_count": 25,
     "metadata": {},
     "output_type": "execute_result"
    }
   ],
   "source": [
    "y_train.value_counts()"
   ]
  },
  {
   "cell_type": "code",
   "execution_count": 26,
   "id": "27426117-cd73-4961-8b43-444aba95d00a",
   "metadata": {
    "tags": []
   },
   "outputs": [
    {
     "data": {
      "text/plain": [
       "0    570\n",
       "1    569\n",
       "Name: label, dtype: int64"
      ]
     },
     "execution_count": 26,
     "metadata": {},
     "output_type": "execute_result"
    }
   ],
   "source": [
    "y_valid.value_counts()"
   ]
  },
  {
   "cell_type": "code",
   "execution_count": 27,
   "id": "26032a29-cf6e-412b-8185-22bad3f1caca",
   "metadata": {},
   "outputs": [],
   "source": [
    "import optuna"
   ]
  },
  {
   "cell_type": "code",
   "execution_count": 28,
   "id": "370e486f-a4cc-4d50-a6eb-f5552cddf156",
   "metadata": {},
   "outputs": [],
   "source": [
    "def objective(trial, X, y):\n",
    "    \"\"\"tuning using optuna\"\"\"\n",
    "    from sklearn.model_selection import train_test_split\n",
    "    import sklearn.ensemble\n",
    "    import sklearn.model_selection\n",
    "    \n",
    "#     X, y = load_feats(dataset='patient', train=False)\n",
    "#     X, y = load_feats(data_input, IC_num, train=False)\n",
    "\n",
    "#     classifier_name = trial.suggest_categorical(\"classifier\", [\"RandomForest\"])\n",
    "    rf_max_depth = trial.suggest_int(\"max_depth\", 2, 32, log=True)\n",
    "    list_trees = [25, 50, 75, 100, 125, 150, 175, 200, 225, 250]\n",
    "    rf_n_estimators = trial.suggest_categorical('n_estimators', list_trees)\n",
    "    rf_max_features = trial.suggest_uniform('max_features', 0.15, 1.0)\n",
    "    rf_min_samples_split = trial.suggest_int('min_samples_split', 2, 14)\n",
    "    rf_min_samples_leaf = trial.suggest_int('min_samples_leaf', 1, 14)\n",
    "    rf_max_samples = trial.suggest_uniform('max_samples', 0.6, 0.99)\n",
    "            \n",
    "    classifier_obj = sklearn.ensemble.RandomForestClassifier(\n",
    "        max_depth=rf_max_depth, n_estimators=rf_n_estimators, max_features=rf_max_features, \n",
    "        min_samples_split=rf_min_samples_split, min_samples_leaf=rf_min_samples_leaf, max_samples=rf_max_samples,\n",
    "        bootstrap=True, verbose=0\n",
    "    )\n",
    "\n",
    "    score = sklearn.model_selection.cross_val_score(classifier_obj, X, y, \n",
    "                                                    n_jobs=-1, cv=3, scoring='balanced_accuracy')\n",
    "    accuracy = score.mean()\n",
    "#     accuracy = balanced_accuracy_score(y, clf.predict(X))\n",
    "    return accuracy"
   ]
  },
  {
   "cell_type": "code",
   "execution_count": 47,
   "id": "8326c043-eee7-4029-81ae-21943af410d5",
   "metadata": {
    "collapsed": true,
    "jupyter": {
     "outputs_hidden": true
    },
    "tags": []
   },
   "outputs": [
    {
     "name": "stderr",
     "output_type": "stream",
     "text": [
      "\u001b[32m[I 2021-10-27 11:07:52,556]\u001b[0m A new study created in memory with name: no-name-24ab5309-90ed-418b-aafe-55298bd14377\u001b[0m\n",
      "\u001b[32m[I 2021-10-27 11:07:55,298]\u001b[0m Trial 0 finished with value: 0.5326426787531219 and parameters: {'max_depth': 29, 'n_estimators': 175, 'max_features': 0.442387789181208, 'min_samples_split': 5, 'min_samples_leaf': 8, 'max_samples': 0.7153824665148808}. Best is trial 0 with value: 0.5326426787531219.\u001b[0m\n",
      "\u001b[32m[I 2021-10-27 11:07:57,690]\u001b[0m Trial 1 finished with value: 0.5355825856380846 and parameters: {'max_depth': 10, 'n_estimators': 175, 'max_features': 0.3667207516569104, 'min_samples_split': 10, 'min_samples_leaf': 1, 'max_samples': 0.8939406633607585}. Best is trial 1 with value: 0.5355825856380846.\u001b[0m\n",
      "\u001b[32m[I 2021-10-27 11:08:02,726]\u001b[0m Trial 2 finished with value: 0.5405487209529388 and parameters: {'max_depth': 7, 'n_estimators': 225, 'max_features': 0.8626406283748276, 'min_samples_split': 2, 'min_samples_leaf': 9, 'max_samples': 0.9403569355257924}. Best is trial 2 with value: 0.5405487209529388.\u001b[0m\n",
      "\u001b[32m[I 2021-10-27 11:08:03,635]\u001b[0m Trial 3 finished with value: 0.545245069322398 and parameters: {'max_depth': 4, 'n_estimators': 100, 'max_features': 0.5920122274760197, 'min_samples_split': 10, 'min_samples_leaf': 6, 'max_samples': 0.7555090913268185}. Best is trial 3 with value: 0.545245069322398.\u001b[0m\n",
      "\u001b[32m[I 2021-10-27 11:08:05,600]\u001b[0m Trial 4 finished with value: 0.5320691887891962 and parameters: {'max_depth': 7, 'n_estimators': 225, 'max_features': 0.30497828172335806, 'min_samples_split': 11, 'min_samples_leaf': 11, 'max_samples': 0.955027353855298}. Best is trial 3 with value: 0.545245069322398.\u001b[0m\n",
      "\u001b[32m[I 2021-10-27 11:08:07,321]\u001b[0m Trial 5 finished with value: 0.536172005878786 and parameters: {'max_depth': 4, 'n_estimators': 150, 'max_features': 0.6932527844872488, 'min_samples_split': 5, 'min_samples_leaf': 14, 'max_samples': 0.8616842281309536}. Best is trial 3 with value: 0.545245069322398.\u001b[0m\n",
      "\u001b[32m[I 2021-10-27 11:08:10,136]\u001b[0m Trial 6 finished with value: 0.5305974367670788 and parameters: {'max_depth': 11, 'n_estimators': 225, 'max_features': 0.3698510576684464, 'min_samples_split': 12, 'min_samples_leaf': 1, 'max_samples': 0.7205072207717095}. Best is trial 3 with value: 0.545245069322398.\u001b[0m\n",
      "\u001b[32m[I 2021-10-27 11:08:11,228]\u001b[0m Trial 7 finished with value: 0.5431993134564589 and parameters: {'max_depth': 2, 'n_estimators': 225, 'max_features': 0.5204049721147164, 'min_samples_split': 7, 'min_samples_leaf': 11, 'max_samples': 0.7648593455142727}. Best is trial 3 with value: 0.545245069322398.\u001b[0m\n",
      "\u001b[32m[I 2021-10-27 11:08:11,689]\u001b[0m Trial 8 finished with value: 0.5183090268142531 and parameters: {'max_depth': 6, 'n_estimators': 25, 'max_features': 0.7484072885325437, 'min_samples_split': 4, 'min_samples_leaf': 1, 'max_samples': 0.9413668224472757}. Best is trial 3 with value: 0.545245069322398.\u001b[0m\n",
      "\u001b[32m[I 2021-10-27 11:08:12,175]\u001b[0m Trial 9 finished with value: 0.5238650962497045 and parameters: {'max_depth': 10, 'n_estimators': 50, 'max_features': 0.2629495538466261, 'min_samples_split': 3, 'min_samples_leaf': 4, 'max_samples': 0.8433655319561484}. Best is trial 3 with value: 0.545245069322398.\u001b[0m\n",
      "\u001b[32m[I 2021-10-27 11:08:13,701]\u001b[0m Trial 10 finished with value: 0.5361858806359778 and parameters: {'max_depth': 2, 'n_estimators': 100, 'max_features': 0.9874326739201746, 'min_samples_split': 14, 'min_samples_leaf': 5, 'max_samples': 0.6444495489358213}. Best is trial 3 with value: 0.545245069322398.\u001b[0m\n",
      "\u001b[32m[I 2021-10-27 11:08:14,911]\u001b[0m Trial 11 finished with value: 0.5402789340075438 and parameters: {'max_depth': 2, 'n_estimators': 100, 'max_features': 0.5571466159880367, 'min_samples_split': 8, 'min_samples_leaf': 12, 'max_samples': 0.7712919086014369}. Best is trial 3 with value: 0.545245069322398.\u001b[0m\n",
      "\u001b[32m[I 2021-10-27 11:08:17,397]\u001b[0m Trial 12 finished with value: 0.5411530437106239 and parameters: {'max_depth': 3, 'n_estimators': 250, 'max_features': 0.5637206163019756, 'min_samples_split': 8, 'min_samples_leaf': 6, 'max_samples': 0.7798278820872722}. Best is trial 3 with value: 0.545245069322398.\u001b[0m\n",
      "\u001b[32m[I 2021-10-27 11:08:18,245]\u001b[0m Trial 13 finished with value: 0.536172005878786 and parameters: {'max_depth': 3, 'n_estimators': 75, 'max_features': 0.1767379291655976, 'min_samples_split': 7, 'min_samples_leaf': 10, 'max_samples': 0.6128940987198492}. Best is trial 3 with value: 0.545245069322398.\u001b[0m\n",
      "\u001b[32m[I 2021-10-27 11:08:19,548]\u001b[0m Trial 14 finished with value: 0.5440698260002672 and parameters: {'max_depth': 4, 'n_estimators': 125, 'max_features': 0.6583353325772019, 'min_samples_split': 10, 'min_samples_leaf': 7, 'max_samples': 0.7108965144831408}. Best is trial 3 with value: 0.545245069322398.\u001b[0m\n",
      "\u001b[32m[I 2021-10-27 11:08:20,845]\u001b[0m Trial 15 finished with value: 0.5396864304874665 and parameters: {'max_depth': 4, 'n_estimators': 125, 'max_features': 0.6980926838332305, 'min_samples_split': 13, 'min_samples_leaf': 7, 'max_samples': 0.684145095994348}. Best is trial 3 with value: 0.545245069322398.\u001b[0m\n",
      "\u001b[32m[I 2021-10-27 11:08:22,697]\u001b[0m Trial 16 finished with value: 0.5379330722823462 and parameters: {'max_depth': 5, 'n_estimators': 125, 'max_features': 0.7553057189911927, 'min_samples_split': 10, 'min_samples_leaf': 4, 'max_samples': 0.8144667624496056}. Best is trial 3 with value: 0.545245069322398.\u001b[0m\n",
      "\u001b[32m[I 2021-10-27 11:08:26,507]\u001b[0m Trial 17 finished with value: 0.5317659996505616 and parameters: {'max_depth': 14, 'n_estimators': 200, 'max_features': 0.620273227406329, 'min_samples_split': 10, 'min_samples_leaf': 3, 'max_samples': 0.7211409296296032}. Best is trial 3 with value: 0.545245069322398.\u001b[0m\n",
      "\u001b[32m[I 2021-10-27 11:08:27,461]\u001b[0m Trial 18 finished with value: 0.5326534702309377 and parameters: {'max_depth': 3, 'n_estimators': 100, 'max_features': 0.8859593672198449, 'min_samples_split': 12, 'min_samples_leaf': 7, 'max_samples': 0.6574763482908687}. Best is trial 3 with value: 0.545245069322398.\u001b[0m\n",
      "\u001b[32m[I 2021-10-27 11:08:29,369]\u001b[0m Trial 19 finished with value: 0.5335193578556819 and parameters: {'max_depth': 19, 'n_estimators': 125, 'max_features': 0.46867602824411164, 'min_samples_split': 9, 'min_samples_leaf': 6, 'max_samples': 0.7451011946485347}. Best is trial 3 with value: 0.545245069322398.\u001b[0m\n",
      "\u001b[32m[I 2021-10-27 11:08:32,057]\u001b[0m Trial 20 finished with value: 0.5373385132426849 and parameters: {'max_depth': 4, 'n_estimators': 250, 'max_features': 0.6427915526784059, 'min_samples_split': 14, 'min_samples_leaf': 9, 'max_samples': 0.8178151209438407}. Best is trial 3 with value: 0.545245069322398.\u001b[0m\n",
      "\u001b[32m[I 2021-10-27 11:08:32,205]\u001b[0m Trial 21 finished with value: 0.5355990297947564 and parameters: {'max_depth': 2, 'n_estimators': 25, 'max_features': 0.4733037732532571, 'min_samples_split': 7, 'min_samples_leaf': 14, 'max_samples': 0.7663224266298141}. Best is trial 3 with value: 0.545245069322398.\u001b[0m\n",
      "\u001b[32m[I 2021-10-27 11:08:32,544]\u001b[0m Trial 22 finished with value: 0.5405518042323149 and parameters: {'max_depth': 3, 'n_estimators': 50, 'max_features': 0.5148368967308464, 'min_samples_split': 6, 'min_samples_leaf': 12, 'max_samples': 0.6959046112912789}. Best is trial 3 with value: 0.545245069322398.\u001b[0m\n",
      "\u001b[32m[I 2021-10-27 11:08:33,663]\u001b[0m Trial 23 finished with value: 0.5388030709462585 and parameters: {'max_depth': 5, 'n_estimators': 75, 'max_features': 0.8313460050078361, 'min_samples_split': 9, 'min_samples_leaf': 8, 'max_samples': 0.7519241804928143}. Best is trial 3 with value: 0.545245069322398.\u001b[0m\n",
      "\u001b[32m[I 2021-10-27 11:08:34,819]\u001b[0m Trial 24 finished with value: 0.5434958221564455 and parameters: {'max_depth': 2, 'n_estimators': 200, 'max_features': 0.6232750876874532, 'min_samples_split': 11, 'min_samples_leaf': 6, 'max_samples': 0.7976800540040185}. Best is trial 3 with value: 0.545245069322398.\u001b[0m\n",
      "\u001b[32m[I 2021-10-27 11:08:36,517]\u001b[0m Trial 25 finished with value: 0.5426253096126373 and parameters: {'max_depth': 3, 'n_estimators': 200, 'max_features': 0.6422122960100487, 'min_samples_split': 11, 'min_samples_leaf': 6, 'max_samples': 0.8032270428187147}. Best is trial 3 with value: 0.545245069322398.\u001b[0m\n",
      "\u001b[32m[I 2021-10-27 11:08:39,740]\u001b[0m Trial 26 finished with value: 0.5443663347002539 and parameters: {'max_depth': 5, 'n_estimators': 200, 'max_features': 0.7709672958286643, 'min_samples_split': 12, 'min_samples_leaf': 4, 'max_samples': 0.8853434044779902}. Best is trial 3 with value: 0.545245069322398.\u001b[0m\n",
      "\u001b[32m[I 2021-10-27 11:08:43,137]\u001b[0m Trial 27 finished with value: 0.5358652195808796 and parameters: {'max_depth': 8, 'n_estimators': 150, 'max_features': 0.7917976546263851, 'min_samples_split': 12, 'min_samples_leaf': 3, 'max_samples': 0.9113204230130356}. Best is trial 3 with value: 0.545245069322398.\u001b[0m\n",
      "\u001b[32m[I 2021-10-27 11:08:46,915]\u001b[0m Trial 28 finished with value: 0.5355779607190208 and parameters: {'max_depth': 5, 'n_estimators': 200, 'max_features': 0.9184184690101616, 'min_samples_split': 9, 'min_samples_leaf': 3, 'max_samples': 0.9891762136154088}. Best is trial 3 with value: 0.545245069322398.\u001b[0m\n",
      "\u001b[32m[I 2021-10-27 11:08:49,024]\u001b[0m Trial 29 finished with value: 0.5335306632133937 and parameters: {'max_depth': 4, 'n_estimators': 175, 'max_features': 0.7101534536057744, 'min_samples_split': 13, 'min_samples_leaf': 5, 'max_samples': 0.8535344386242818}. Best is trial 3 with value: 0.545245069322398.\u001b[0m\n",
      "\u001b[32m[I 2021-10-27 11:08:52,217]\u001b[0m Trial 30 finished with value: 0.5329335347742525 and parameters: {'max_depth': 21, 'n_estimators': 125, 'max_features': 0.7907077923856661, 'min_samples_split': 13, 'min_samples_leaf': 8, 'max_samples': 0.8831439580487157}. Best is trial 3 with value: 0.545245069322398.\u001b[0m\n",
      "\u001b[32m[I 2021-10-27 11:08:54,379]\u001b[0m Trial 31 finished with value: 0.5426042405369017 and parameters: {'max_depth': 5, 'n_estimators': 200, 'max_features': 0.6221890817098601, 'min_samples_split': 11, 'min_samples_leaf': 5, 'max_samples': 0.7339128936216178}. Best is trial 3 with value: 0.545245069322398.\u001b[0m\n",
      "\u001b[32m[I 2021-10-27 11:08:57,831]\u001b[0m Trial 32 finished with value: 0.5341036392974233 and parameters: {'max_depth': 32, 'n_estimators': 200, 'max_features': 0.6001062754129305, 'min_samples_split': 11, 'min_samples_leaf': 7, 'max_samples': 0.6789807982369523}. Best is trial 3 with value: 0.545245069322398.\u001b[0m\n",
      "\u001b[32m[I 2021-10-27 11:08:59,386]\u001b[0m Trial 33 finished with value: 0.5291380178624652 and parameters: {'max_depth': 6, 'n_estimators': 100, 'max_features': 0.678005611775728, 'min_samples_split': 10, 'min_samples_leaf': 4, 'max_samples': 0.8344360745427328}. Best is trial 3 with value: 0.545245069322398.\u001b[0m\n",
      "\u001b[32m[I 2021-10-27 11:09:01,574]\u001b[0m Trial 34 finished with value: 0.5332310712340312 and parameters: {'max_depth': 8, 'n_estimators': 200, 'max_features': 0.37608317181303275, 'min_samples_split': 12, 'min_samples_leaf': 9, 'max_samples': 0.7886195469215254}. Best is trial 3 with value: 0.545245069322398.\u001b[0m\n",
      "\u001b[32m[I 2021-10-27 11:09:03,907]\u001b[0m Trial 35 finished with value: 0.5417291030740295 and parameters: {'max_depth': 6, 'n_estimators': 175, 'max_features': 0.5332397830574305, 'min_samples_split': 10, 'min_samples_leaf': 2, 'max_samples': 0.898159513039607}. Best is trial 3 with value: 0.545245069322398.\u001b[0m\n",
      "\u001b[32m[I 2021-10-27 11:09:05,308]\u001b[0m Trial 36 finished with value: 0.5373415965220608 and parameters: {'max_depth': 4, 'n_estimators': 125, 'max_features': 0.7626899394411502, 'min_samples_split': 11, 'min_samples_leaf': 6, 'max_samples': 0.6902250566314618}. Best is trial 3 with value: 0.545245069322398.\u001b[0m\n",
      "\u001b[32m[I 2021-10-27 11:09:07,856]\u001b[0m Trial 37 finished with value: 0.5387943349880265 and parameters: {'max_depth': 9, 'n_estimators': 200, 'max_features': 0.40380547620149665, 'min_samples_split': 9, 'min_samples_leaf': 5, 'max_samples': 0.8822795350031941}. Best is trial 3 with value: 0.545245069322398.\u001b[0m\n",
      "\u001b[32m[I 2021-10-27 11:09:10,226]\u001b[0m Trial 38 finished with value: 0.5349875127185274 and parameters: {'max_depth': 7, 'n_estimators': 150, 'max_features': 0.6679953510836241, 'min_samples_split': 8, 'min_samples_leaf': 7, 'max_samples': 0.70960051116962}. Best is trial 3 with value: 0.545245069322398.\u001b[0m\n",
      "\u001b[32m[I 2021-10-27 11:09:11,483]\u001b[0m Trial 39 finished with value: 0.5402743090884798 and parameters: {'max_depth': 4, 'n_estimators': 100, 'max_features': 0.7223421641671028, 'min_samples_split': 12, 'min_samples_leaf': 4, 'max_samples': 0.8285473319000096}. Best is trial 3 with value: 0.545245069322398.\u001b[0m\n",
      "\u001b[32m[I 2021-10-27 11:09:17,780]\u001b[0m Trial 40 finished with value: 0.5390826216096773 and parameters: {'max_depth': 11, 'n_estimators': 225, 'max_features': 0.8419168139126956, 'min_samples_split': 11, 'min_samples_leaf': 8, 'max_samples': 0.9271374416059531}. Best is trial 3 with value: 0.545245069322398.\u001b[0m\n",
      "\u001b[32m[I 2021-10-27 11:09:18,960]\u001b[0m Trial 41 finished with value: 0.5376530077390312 and parameters: {'max_depth': 2, 'n_estimators': 225, 'max_features': 0.5022103656677803, 'min_samples_split': 6, 'min_samples_leaf': 10, 'max_samples': 0.7567088306071643}. Best is trial 3 with value: 0.545245069322398.\u001b[0m\n",
      "\u001b[32m[I 2021-10-27 11:09:20,243]\u001b[0m Trial 42 finished with value: 0.541752227669349 and parameters: {'max_depth': 2, 'n_estimators': 225, 'max_features': 0.6087275617113781, 'min_samples_split': 5, 'min_samples_leaf': 13, 'max_samples': 0.7966554696232898}. Best is trial 3 with value: 0.545245069322398.\u001b[0m\n",
      "\u001b[32m[I 2021-10-27 11:09:21,901]\u001b[0m Trial 43 finished with value: 0.5464120905661929 and parameters: {'max_depth': 3, 'n_estimators': 225, 'max_features': 0.583384124094803, 'min_samples_split': 7, 'min_samples_leaf': 10, 'max_samples': 0.7310305843406469}. Best is trial 43 with value: 0.5464120905661929.\u001b[0m\n",
      "\u001b[32m[I 2021-10-27 11:09:22,098]\u001b[0m Trial 44 finished with value: 0.5174518751477405 and parameters: {'max_depth': 3, 'n_estimators': 25, 'max_features': 0.5496921225121527, 'min_samples_split': 8, 'min_samples_leaf': 10, 'max_samples': 0.7332586233250412}. Best is trial 43 with value: 0.5464120905661929.\u001b[0m\n",
      "\u001b[32m[I 2021-10-27 11:09:22,610]\u001b[0m Trial 45 finished with value: 0.5253425009506779 and parameters: {'max_depth': 5, 'n_estimators': 50, 'max_features': 0.5787345840239513, 'min_samples_split': 9, 'min_samples_leaf': 6, 'max_samples': 0.6679569096143445}. Best is trial 43 with value: 0.5464120905661929.\u001b[0m\n",
      "\u001b[32m[I 2021-10-27 11:09:25,462]\u001b[0m Trial 46 finished with value: 0.5343986063577221 and parameters: {'max_depth': 6, 'n_estimators': 225, 'max_features': 0.6653230313980939, 'min_samples_split': 6, 'min_samples_leaf': 5, 'max_samples': 0.6466850771876878}. Best is trial 43 with value: 0.5464120905661929.\u001b[0m\n",
      "\u001b[32m[I 2021-10-27 11:09:27,157]\u001b[0m Trial 47 finished with value: 0.5464208265244247 and parameters: {'max_depth': 4, 'n_estimators': 250, 'max_features': 0.4183698627815782, 'min_samples_split': 4, 'min_samples_leaf': 8, 'max_samples': 0.7034247360682754}. Best is trial 47 with value: 0.5464208265244247.\u001b[0m\n",
      "\u001b[32m[I 2021-10-27 11:09:28,694]\u001b[0m Trial 48 finished with value: 0.543477836360086 and parameters: {'max_depth': 4, 'n_estimators': 250, 'max_features': 0.3356336275563308, 'min_samples_split': 2, 'min_samples_leaf': 11, 'max_samples': 0.7068869654625387}. Best is trial 47 with value: 0.5464208265244247.\u001b[0m\n",
      "\u001b[32m[I 2021-10-27 11:09:30,102]\u001b[0m Trial 49 finished with value: 0.5402516983730562 and parameters: {'max_depth': 6, 'n_estimators': 250, 'max_features': 0.24525795545607082, 'min_samples_split': 4, 'min_samples_leaf': 9, 'max_samples': 0.6185282473001196}. Best is trial 47 with value: 0.5464208265244247.\u001b[0m\n"
     ]
    },
    {
     "name": "stdout",
     "output_type": "stream",
     "text": [
      "{'max_depth': 4, 'n_estimators': 250, 'max_features': 0.4183698627815782, 'min_samples_split': 4, 'min_samples_leaf': 8, 'max_samples': 0.7034247360682754}\n"
     ]
    }
   ],
   "source": [
    "study = optuna.create_study(direction=\"maximize\")\n",
    "study.optimize(lambda trial: objective(trial, X_train, y_train), n_trials=50)\n",
    "bp = study.best_trial.params\n",
    "print(bp)"
   ]
  },
  {
   "cell_type": "code",
   "execution_count": 48,
   "id": "d7e63bc7-77d1-4825-861f-b81b213f3d39",
   "metadata": {},
   "outputs": [],
   "source": [
    "from sklearn.ensemble import RandomForestClassifier\n",
    "clf = RandomForestClassifier(**bp)"
   ]
  },
  {
   "cell_type": "code",
   "execution_count": 49,
   "id": "d2b8f8fb-19fb-4d07-9d96-e89efe48d2bb",
   "metadata": {},
   "outputs": [
    {
     "data": {
      "text/plain": [
       "RandomForestClassifier(max_depth=4, max_features=0.4183698627815782,\n",
       "                       max_samples=0.7034247360682754, min_samples_leaf=8,\n",
       "                       min_samples_split=4, n_estimators=250)"
      ]
     },
     "execution_count": 49,
     "metadata": {},
     "output_type": "execute_result"
    }
   ],
   "source": [
    "clf.fit(X_train, y_train)"
   ]
  },
  {
   "cell_type": "code",
   "execution_count": 50,
   "id": "fec897ff-0a0c-4877-8bd5-81a8902854d6",
   "metadata": {},
   "outputs": [
    {
     "name": "stdout",
     "output_type": "stream",
     "text": [
      "3417\n",
      "0.6906720927778683\n",
      "0.6906643254316652\n"
     ]
    }
   ],
   "source": [
    "preds = clf.predict(X_train)\n",
    "print(len(preds))\n",
    "print(balanced_accuracy_score(y_train, preds))\n",
    "print(sum(y_train==preds)/len(y_train))"
   ]
  },
  {
   "cell_type": "code",
   "execution_count": 51,
   "id": "69c7573d-b8c1-4888-ad8e-2b03a16c0ee3",
   "metadata": {},
   "outputs": [
    {
     "name": "stdout",
     "output_type": "stream",
     "text": [
      "1139\n",
      "0.5539789720346561\n",
      "0.5539947322212467\n"
     ]
    }
   ],
   "source": [
    "preds = clf.predict(X_valid)\n",
    "print(len(preds))\n",
    "print(balanced_accuracy_score(y_valid, preds))\n",
    "print(sum(y_valid==preds)/len(y_valid))"
   ]
  },
  {
   "cell_type": "code",
   "execution_count": 53,
   "id": "a3ae7376-eec9-439a-a6e6-4bb8f02e32bc",
   "metadata": {},
   "outputs": [
    {
     "data": {
      "text/plain": [
       "0.578043967563901"
      ]
     },
     "execution_count": 53,
     "metadata": {},
     "output_type": "execute_result"
    }
   ],
   "source": [
    "roc_auc_score(y_valid, clf.predict_proba(X_valid)[:,1])"
   ]
  },
  {
   "cell_type": "code",
   "execution_count": 54,
   "id": "226efba6-8402-447f-92cd-27452772195e",
   "metadata": {},
   "outputs": [],
   "source": [
    "output_ls = ['label', 'eid', 'bmrc']\n",
    "tmp = dff.drop(columns=output_ls)\n",
    "feature_names = tmp.columns"
   ]
  },
  {
   "cell_type": "code",
   "execution_count": 55,
   "id": "ad8db80f-29bc-4ec3-a1fb-3cc8e59d68fd",
   "metadata": {},
   "outputs": [],
   "source": [
    "feat_importances = pd.Series(clf.feature_importances_, index=feature_names)"
   ]
  },
  {
   "cell_type": "code",
   "execution_count": 56,
   "id": "e5ce8f50-6d48-4a50-b3da-89869d0937bf",
   "metadata": {},
   "outputs": [],
   "source": [
    "feat_sorted = feat_importances.sort_values(ascending=False)"
   ]
  },
  {
   "cell_type": "code",
   "execution_count": 58,
   "id": "f4e294a5-61ec-4da9-8b08-f7bb7537fcd9",
   "metadata": {},
   "outputs": [
    {
     "data": {
      "text/plain": [
       "Text(0, 0.5, 'Mean decrease in impurity')"
      ]
     },
     "execution_count": 58,
     "metadata": {},
     "output_type": "execute_result"
    },
    {
     "data": {
      "image/png": "[encoded data removed]",
      "text/plain": [
       "<Figure size 432x288 with 1 Axes>"
      ]
     },
     "metadata": {
      "needs_background": "light"
     },
     "output_type": "display_data"
    }
   ],
   "source": [
    "fig, ax = plt.subplots()\n",
    "feat_sorted.iloc[:10].plot.bar(ax=ax)\n",
    "ax.set_title(\"Feature importances using MDI\")\n",
    "ax.set_ylabel(\"Mean decrease in impurity\")"
   ]
  },
  {
   "cell_type": "markdown",
   "id": "3d4a3232-dbd6-4e8c-9245-9bda8eb82029",
   "metadata": {
    "tags": []
   },
   "source": [
    "#### tabnet"
   ]
  },
  {
   "cell_type": "code",
   "execution_count": 69,
   "id": "54467d70-3c35-4d8b-ad06-9f0376937529",
   "metadata": {
    "tags": []
   },
   "outputs": [
    {
     "name": "stdout",
     "output_type": "stream",
     "text": [
      "Device used : cpu\n",
      "epoch 0  | loss: 0.81137 | train_auc: 0.50949 | train_balanced_accuracy: 0.51132 |  0:00:00s\n",
      "epoch 1  | loss: 0.71365 | train_auc: 0.52594 | train_balanced_accuracy: 0.52068 |  0:00:00s\n",
      "epoch 2  | loss: 0.69886 | train_auc: 0.53183 | train_balanced_accuracy: 0.5271  |  0:00:00s\n",
      "epoch 3  | loss: 0.69574 | train_auc: 0.54624 | train_balanced_accuracy: 0.53735 |  0:00:01s\n",
      "epoch 4  | loss: 0.69316 | train_auc: 0.54471 | train_balanced_accuracy: 0.5347  |  0:00:01s\n",
      "epoch 5  | loss: 0.69392 | train_auc: 0.55123 | train_balanced_accuracy: 0.53119 |  0:00:01s\n",
      "epoch 6  | loss: 0.68643 | train_auc: 0.55579 | train_balanced_accuracy: 0.5397  |  0:00:01s\n",
      "epoch 7  | loss: 0.68733 | train_auc: 0.55815 | train_balanced_accuracy: 0.54821 |  0:00:02s\n",
      "epoch 8  | loss: 0.6906  | train_auc: 0.55593 | train_balanced_accuracy: 0.53854 |  0:00:02s\n",
      "epoch 9  | loss: 0.68832 | train_auc: 0.55847 | train_balanced_accuracy: 0.53736 |  0:00:02s\n",
      "epoch 10 | loss: 0.69046 | train_auc: 0.56008 | train_balanced_accuracy: 0.54145 |  0:00:02s\n",
      "epoch 11 | loss: 0.68688 | train_auc: 0.57534 | train_balanced_accuracy: 0.5552  |  0:00:03s\n",
      "epoch 12 | loss: 0.68761 | train_auc: 0.57499 | train_balanced_accuracy: 0.5517  |  0:00:03s\n",
      "epoch 13 | loss: 0.68614 | train_auc: 0.57744 | train_balanced_accuracy: 0.55549 |  0:00:03s\n",
      "epoch 14 | loss: 0.68653 | train_auc: 0.58667 | train_balanced_accuracy: 0.55958 |  0:00:03s\n",
      "epoch 15 | loss: 0.68126 | train_auc: 0.59264 | train_balanced_accuracy: 0.55784 |  0:00:04s\n",
      "epoch 16 | loss: 0.68544 | train_auc: 0.58496 | train_balanced_accuracy: 0.55521 |  0:00:04s\n",
      "epoch 17 | loss: 0.68623 | train_auc: 0.58693 | train_balanced_accuracy: 0.5593  |  0:00:04s\n",
      "epoch 18 | loss: 0.68256 | train_auc: 0.58729 | train_balanced_accuracy: 0.55811 |  0:00:04s\n",
      "epoch 19 | loss: 0.68414 | train_auc: 0.58138 | train_balanced_accuracy: 0.55636 |  0:00:05s\n",
      "epoch 20 | loss: 0.68629 | train_auc: 0.58644 | train_balanced_accuracy: 0.55959 |  0:00:05s\n",
      "epoch 21 | loss: 0.68508 | train_auc: 0.58927 | train_balanced_accuracy: 0.55693 |  0:00:05s\n",
      "epoch 22 | loss: 0.6858  | train_auc: 0.59131 | train_balanced_accuracy: 0.56128 |  0:00:05s\n",
      "epoch 23 | loss: 0.68457 | train_auc: 0.59377 | train_balanced_accuracy: 0.56248 |  0:00:06s\n",
      "epoch 24 | loss: 0.68273 | train_auc: 0.5959  | train_balanced_accuracy: 0.56575 |  0:00:06s\n",
      "epoch 25 | loss: 0.68561 | train_auc: 0.59439 | train_balanced_accuracy: 0.56397 |  0:00:06s\n",
      "epoch 26 | loss: 0.68042 | train_auc: 0.58899 | train_balanced_accuracy: 0.55015 |  0:00:06s\n",
      "epoch 27 | loss: 0.68226 | train_auc: 0.59764 | train_balanced_accuracy: 0.56715 |  0:00:07s\n",
      "epoch 28 | loss: 0.67822 | train_auc: 0.60614 | train_balanced_accuracy: 0.57129 |  0:00:07s\n",
      "epoch 29 | loss: 0.67823 | train_auc: 0.60679 | train_balanced_accuracy: 0.57362 |  0:00:07s\n",
      "epoch 30 | loss: 0.67929 | train_auc: 0.60713 | train_balanced_accuracy: 0.57184 |  0:00:08s\n",
      "epoch 31 | loss: 0.67945 | train_auc: 0.61223 | train_balanced_accuracy: 0.59027 |  0:00:08s\n",
      "epoch 32 | loss: 0.68299 | train_auc: 0.60761 | train_balanced_accuracy: 0.58443 |  0:00:08s\n",
      "epoch 33 | loss: 0.67989 | train_auc: 0.6056  | train_balanced_accuracy: 0.57358 |  0:00:08s\n",
      "epoch 34 | loss: 0.67729 | train_auc: 0.60697 | train_balanced_accuracy: 0.57418 |  0:00:09s\n",
      "epoch 35 | loss: 0.67462 | train_auc: 0.60803 | train_balanced_accuracy: 0.57477 |  0:00:09s\n",
      "epoch 36 | loss: 0.67774 | train_auc: 0.61142 | train_balanced_accuracy: 0.57447 |  0:00:09s\n",
      "epoch 37 | loss: 0.67615 | train_auc: 0.61111 | train_balanced_accuracy: 0.57244 |  0:00:10s\n",
      "epoch 38 | loss: 0.67499 | train_auc: 0.61626 | train_balanced_accuracy: 0.5739  |  0:00:10s\n",
      "epoch 39 | loss: 0.67569 | train_auc: 0.61382 | train_balanced_accuracy: 0.57185 |  0:00:10s\n",
      "epoch 40 | loss: 0.67341 | train_auc: 0.61041 | train_balanced_accuracy: 0.57358 |  0:00:10s\n",
      "epoch 41 | loss: 0.67491 | train_auc: 0.61494 | train_balanced_accuracy: 0.58591 |  0:00:11s\n",
      "\n",
      "Early stopping occurred at epoch 41 with best_epoch = 31 and best_train_balanced_accuracy = 0.59027\n",
      "Best weights from best epoch are automatically used!\n"
     ]
    }
   ],
   "source": [
    "import torch\n",
    "clf = TabNetClassifier()\n",
    "\n",
    "clf.fit(\n",
    "    X_train, y_train,\n",
    "    eval_set=[(X_train, y_train)],\n",
    "    eval_name=['train'],\n",
    "#     eval_metric=['auc'],\n",
    "    eval_metric=['auc','balanced_accuracy'],\n",
    ")"
   ]
  },
  {
   "cell_type": "code",
   "execution_count": 70,
   "id": "44bd3ddd-b033-4590-a6e1-54930bb3c216",
   "metadata": {},
   "outputs": [
    {
     "name": "stdout",
     "output_type": "stream",
     "text": [
      "3417\n",
      "0.5902730481827163\n",
      "0.5902838747439274\n"
     ]
    }
   ],
   "source": [
    "preds = clf.predict(X_train)\n",
    "print(len(preds))\n",
    "print(balanced_accuracy_score(y_train, preds))\n",
    "print(sum(y_train==preds)/len(y_train))"
   ]
  },
  {
   "cell_type": "code",
   "execution_count": 71,
   "id": "1ca5f6c0-171e-40d3-996c-d239e95574f7",
   "metadata": {},
   "outputs": [
    {
     "name": "stdout",
     "output_type": "stream",
     "text": [
      "1139\n",
      "0.5329556316097801\n",
      "0.5329236172080772\n"
     ]
    }
   ],
   "source": [
    "preds = clf.predict(X_valid)\n",
    "print(len(preds))\n",
    "print(balanced_accuracy_score(y_valid, preds))\n",
    "print(sum(y_valid==preds)/len(y_valid))"
   ]
  },
  {
   "cell_type": "code",
   "execution_count": 72,
   "id": "13a5065c-a322-4ca8-9d08-aecb779e1154",
   "metadata": {},
   "outputs": [
    {
     "data": {
      "text/plain": [
       "0.5360928683748034"
      ]
     },
     "execution_count": 72,
     "metadata": {},
     "output_type": "execute_result"
    }
   ],
   "source": [
    "roc_auc_score(y_valid, clf.predict_proba(X_valid)[:,1])"
   ]
  },
  {
   "cell_type": "code",
   "execution_count": 73,
   "id": "79117b41-75c1-48fc-a940-d057228aa6a9",
   "metadata": {},
   "outputs": [],
   "source": [
    "output_ls = ['label', 'eid', 'bmrc']\n",
    "tmp = dff.drop(columns=output_ls)\n",
    "feature_names = tmp.columns"
   ]
  },
  {
   "cell_type": "code",
   "execution_count": 74,
   "id": "926c379c-89ba-43b4-b83c-fb126a65841f",
   "metadata": {},
   "outputs": [],
   "source": [
    "feat_importances = pd.Series(clf.feature_importances_, index=feature_names)"
   ]
  },
  {
   "cell_type": "code",
   "execution_count": 75,
   "id": "383844d9-99ff-4494-9892-e3fcc527e18b",
   "metadata": {},
   "outputs": [],
   "source": [
    "feat_sorted = feat_importances.sort_values(ascending=False)"
   ]
  },
  {
   "cell_type": "code",
   "execution_count": 76,
   "id": "f2f1e980-95f7-44cb-8bd9-1f5c0a4bb061",
   "metadata": {},
   "outputs": [
    {
     "data": {
      "text/plain": [
       "Text(0, 0.5, 'Mean decrease in impurity')"
      ]
     },
     "execution_count": 76,
     "metadata": {},
     "output_type": "execute_result"
    },
    {
     "data": {
      "image/png": "[encoded data removed]",
      "text/plain": [
       "<Figure size 432x288 with 1 Axes>"
      ]
     },
     "metadata": {
      "needs_background": "light"
     },
     "output_type": "display_data"
    }
   ],
   "source": [
    "fig, ax = plt.subplots()\n",
    "feat_sorted.iloc[:10].plot.bar(ax=ax)\n",
    "ax.set_title(\"Feature importances using MDI\")\n",
    "ax.set_ylabel(\"Mean decrease in impurity\")"
   ]
  },
  {
   "cell_type": "code",
   "execution_count": null,
   "id": "1c1dab05-6e8f-4db2-868e-4997684e0e13",
   "metadata": {},
   "outputs": [],
   "source": []
  },
  {
   "cell_type": "code",
   "execution_count": null,
   "id": "23879853-4f68-473e-9b94-72f585b9327e",
   "metadata": {},
   "outputs": [],
   "source": []
  },
  {
   "cell_type": "markdown",
   "id": "7d998b96-12b6-48b5-b198-31af71d751a9",
   "metadata": {},
   "source": [
    "### testing binary"
   ]
  },
  {
   "cell_type": "code",
   "execution_count": 10,
   "id": "b63755a3-01cd-4228-a5c6-cd3b4c3847e2",
   "metadata": {},
   "outputs": [
    {
     "name": "stdout",
     "output_type": "stream",
     "text": [
      "/well/seymour/users/uhu195/python/extract_npy//labels/label_patients_pain.csv\n",
      "(2724, 1)\n",
      "(2724, 6)\n"
     ]
    },
    {
     "name": "stderr",
     "output_type": "stream",
     "text": [
      "/gpfs3/well/seymour/users/uhu195/python/extract-py3.7.4-skylake/lib/python3.7/site-packages/ipykernel_launcher.py:2: DtypeWarning: Columns (863,867) have mixed types.Specify dtype option on import or set low_memory=False.\n",
      "  \n"
     ]
    },
    {
     "name": "stdout",
     "output_type": "stream",
     "text": [
      "df_qs_imputed_dum shape=(2280, 1165)\n",
      "df_bfl_qsidp shape=(2280, 1670)\n",
      "(756, 1670)\n"
     ]
    }
   ],
   "source": [
    "disease = ['migraine', 'back pain']\n",
    "df_all = make_binary(bestIC, disease)"
   ]
  },
  {
   "cell_type": "code",
   "execution_count": 11,
   "id": "3256f754-622a-4a9c-8949-79edad013e0a",
   "metadata": {},
   "outputs": [
    {
     "name": "stdout",
     "output_type": "stream",
     "text": [
      "(756, 1664)\n"
     ]
    }
   ],
   "source": [
    "X_train, y_train, X_valid, y_valid = load_feats(df_all, bestIC, test_size=0.2,\n",
    "                                                dummies=False,\n",
    "                                                train=True, balance=True, scaler=True)"
   ]
  },
  {
   "cell_type": "code",
   "execution_count": 12,
   "id": "c6d32495-9cb7-447f-84f7-624316c9cbab",
   "metadata": {},
   "outputs": [
    {
     "data": {
      "text/plain": [
       "back pain    300\n",
       "migraine     300\n",
       "dtype: int64"
      ]
     },
     "execution_count": 12,
     "metadata": {},
     "output_type": "execute_result"
    }
   ],
   "source": [
    "y_train.value_counts()"
   ]
  },
  {
   "cell_type": "code",
   "execution_count": 13,
   "id": "a15d4a65-a542-4ef9-a811-6ad4012335fa",
   "metadata": {},
   "outputs": [
    {
     "data": {
      "text/plain": [
       "migraine     75\n",
       "back pain    75\n",
       "dtype: int64"
      ]
     },
     "execution_count": 13,
     "metadata": {},
     "output_type": "execute_result"
    }
   ],
   "source": [
    "y_valid.value_counts()"
   ]
  },
  {
   "cell_type": "code",
   "execution_count": 14,
   "id": "0004a820-d02e-4faa-88a7-c709473be25b",
   "metadata": {
    "collapsed": true,
    "jupyter": {
     "outputs_hidden": true
    },
    "tags": []
   },
   "outputs": [
    {
     "name": "stdout",
     "output_type": "stream",
     "text": [
      "Device used : cpu\n",
      "epoch 0  | loss: 1.02682 | train_auc: 0.51271 | train_accuracy: 0.51667 | train_balanced_accuracy: 0.51667 |  0:00:01s\n",
      "epoch 1  | loss: 0.8165  | train_auc: 0.4452  | train_accuracy: 0.48667 | train_balanced_accuracy: 0.48667 |  0:00:01s\n",
      "epoch 2  | loss: 0.84111 | train_auc: 0.53061 | train_accuracy: 0.48333 | train_balanced_accuracy: 0.48333 |  0:00:02s\n",
      "epoch 3  | loss: 0.71768 | train_auc: 0.50003 | train_accuracy: 0.49833 | train_balanced_accuracy: 0.49833 |  0:00:03s\n",
      "epoch 4  | loss: 0.71659 | train_auc: 0.52306 | train_accuracy: 0.505   | train_balanced_accuracy: 0.505   |  0:00:03s\n",
      "epoch 5  | loss: 0.69254 | train_auc: 0.52082 | train_accuracy: 0.52833 | train_balanced_accuracy: 0.52833 |  0:00:04s\n",
      "epoch 6  | loss: 0.68351 | train_auc: 0.5158  | train_accuracy: 0.52    | train_balanced_accuracy: 0.52    |  0:00:05s\n",
      "epoch 7  | loss: 0.68352 | train_auc: 0.5361  | train_accuracy: 0.53167 | train_balanced_accuracy: 0.53167 |  0:00:05s\n",
      "epoch 8  | loss: 0.67887 | train_auc: 0.50412 | train_accuracy: 0.49667 | train_balanced_accuracy: 0.49667 |  0:00:06s\n",
      "epoch 9  | loss: 0.70424 | train_auc: 0.52988 | train_accuracy: 0.52333 | train_balanced_accuracy: 0.52333 |  0:00:07s\n",
      "epoch 10 | loss: 0.69911 | train_auc: 0.54296 | train_accuracy: 0.52833 | train_balanced_accuracy: 0.52833 |  0:00:08s\n",
      "epoch 11 | loss: 0.6863  | train_auc: 0.51972 | train_accuracy: 0.47333 | train_balanced_accuracy: 0.47333 |  0:00:08s\n",
      "epoch 12 | loss: 0.69192 | train_auc: 0.55428 | train_accuracy: 0.53    | train_balanced_accuracy: 0.53    |  0:00:09s\n",
      "epoch 13 | loss: 0.6909  | train_auc: 0.57423 | train_accuracy: 0.535   | train_balanced_accuracy: 0.535   |  0:00:10s\n",
      "epoch 14 | loss: 0.68636 | train_auc: 0.55798 | train_accuracy: 0.535   | train_balanced_accuracy: 0.535   |  0:00:10s\n",
      "epoch 15 | loss: 0.68255 | train_auc: 0.56024 | train_accuracy: 0.52833 | train_balanced_accuracy: 0.52833 |  0:00:11s\n",
      "epoch 16 | loss: 0.68531 | train_auc: 0.53959 | train_accuracy: 0.50833 | train_balanced_accuracy: 0.50833 |  0:00:12s\n",
      "epoch 17 | loss: 0.67045 | train_auc: 0.57746 | train_accuracy: 0.515   | train_balanced_accuracy: 0.515   |  0:00:12s\n",
      "epoch 18 | loss: 0.66619 | train_auc: 0.57813 | train_accuracy: 0.54    | train_balanced_accuracy: 0.54    |  0:00:13s\n",
      "epoch 19 | loss: 0.66441 | train_auc: 0.6074  | train_accuracy: 0.57667 | train_balanced_accuracy: 0.57667 |  0:00:14s\n",
      "epoch 20 | loss: 0.65115 | train_auc: 0.61194 | train_accuracy: 0.57667 | train_balanced_accuracy: 0.57667 |  0:00:14s\n",
      "epoch 21 | loss: 0.65456 | train_auc: 0.61171 | train_accuracy: 0.56833 | train_balanced_accuracy: 0.56833 |  0:00:15s\n",
      "epoch 22 | loss: 0.64118 | train_auc: 0.59863 | train_accuracy: 0.565   | train_balanced_accuracy: 0.565   |  0:00:16s\n",
      "epoch 23 | loss: 0.65365 | train_auc: 0.60282 | train_accuracy: 0.56333 | train_balanced_accuracy: 0.56333 |  0:00:16s\n",
      "epoch 24 | loss: 0.64589 | train_auc: 0.61672 | train_accuracy: 0.585   | train_balanced_accuracy: 0.585   |  0:00:17s\n",
      "epoch 25 | loss: 0.63333 | train_auc: 0.60608 | train_accuracy: 0.57833 | train_balanced_accuracy: 0.57833 |  0:00:18s\n",
      "epoch 26 | loss: 0.64925 | train_auc: 0.63174 | train_accuracy: 0.59    | train_balanced_accuracy: 0.59    |  0:00:18s\n",
      "epoch 27 | loss: 0.64272 | train_auc: 0.61849 | train_accuracy: 0.57833 | train_balanced_accuracy: 0.57833 |  0:00:19s\n",
      "epoch 28 | loss: 0.64314 | train_auc: 0.63459 | train_accuracy: 0.595   | train_balanced_accuracy: 0.595   |  0:00:20s\n",
      "epoch 29 | loss: 0.63689 | train_auc: 0.6464  | train_accuracy: 0.60667 | train_balanced_accuracy: 0.60667 |  0:00:20s\n",
      "epoch 30 | loss: 0.64433 | train_auc: 0.64546 | train_accuracy: 0.60167 | train_balanced_accuracy: 0.60167 |  0:00:21s\n",
      "epoch 31 | loss: 0.63341 | train_auc: 0.63282 | train_accuracy: 0.59833 | train_balanced_accuracy: 0.59833 |  0:00:22s\n",
      "epoch 32 | loss: 0.63097 | train_auc: 0.60849 | train_accuracy: 0.575   | train_balanced_accuracy: 0.575   |  0:00:22s\n",
      "epoch 33 | loss: 0.6315  | train_auc: 0.60827 | train_accuracy: 0.56833 | train_balanced_accuracy: 0.56833 |  0:00:23s\n",
      "epoch 34 | loss: 0.66763 | train_auc: 0.62154 | train_accuracy: 0.58333 | train_balanced_accuracy: 0.58333 |  0:00:24s\n",
      "epoch 35 | loss: 0.65358 | train_auc: 0.64564 | train_accuracy: 0.615   | train_balanced_accuracy: 0.615   |  0:00:24s\n",
      "epoch 36 | loss: 0.64238 | train_auc: 0.63598 | train_accuracy: 0.61667 | train_balanced_accuracy: 0.61667 |  0:00:25s\n",
      "epoch 37 | loss: 0.64412 | train_auc: 0.64567 | train_accuracy: 0.61333 | train_balanced_accuracy: 0.61333 |  0:00:26s\n",
      "epoch 38 | loss: 0.62829 | train_auc: 0.64864 | train_accuracy: 0.61667 | train_balanced_accuracy: 0.61667 |  0:00:27s\n",
      "epoch 39 | loss: 0.63628 | train_auc: 0.64861 | train_accuracy: 0.61667 | train_balanced_accuracy: 0.61667 |  0:00:27s\n",
      "epoch 40 | loss: 0.63594 | train_auc: 0.66557 | train_accuracy: 0.63    | train_balanced_accuracy: 0.63    |  0:00:28s\n",
      "epoch 41 | loss: 0.63806 | train_auc: 0.66735 | train_accuracy: 0.61833 | train_balanced_accuracy: 0.61833 |  0:00:29s\n",
      "epoch 42 | loss: 0.62821 | train_auc: 0.67284 | train_accuracy: 0.60667 | train_balanced_accuracy: 0.60667 |  0:00:30s\n",
      "epoch 43 | loss: 0.63359 | train_auc: 0.65497 | train_accuracy: 0.59333 | train_balanced_accuracy: 0.59333 |  0:00:30s\n",
      "epoch 44 | loss: 0.6191  | train_auc: 0.65155 | train_accuracy: 0.6     | train_balanced_accuracy: 0.6     |  0:00:31s\n",
      "epoch 45 | loss: 0.64034 | train_auc: 0.65938 | train_accuracy: 0.615   | train_balanced_accuracy: 0.615   |  0:00:32s\n",
      "epoch 46 | loss: 0.64259 | train_auc: 0.64828 | train_accuracy: 0.57833 | train_balanced_accuracy: 0.57833 |  0:00:32s\n",
      "epoch 47 | loss: 0.63823 | train_auc: 0.63525 | train_accuracy: 0.56333 | train_balanced_accuracy: 0.56333 |  0:00:33s\n",
      "epoch 48 | loss: 0.64305 | train_auc: 0.61221 | train_accuracy: 0.56167 | train_balanced_accuracy: 0.56167 |  0:00:34s\n",
      "epoch 49 | loss: 0.65789 | train_auc: 0.62779 | train_accuracy: 0.61167 | train_balanced_accuracy: 0.61167 |  0:00:34s\n",
      "epoch 50 | loss: 0.66049 | train_auc: 0.61737 | train_accuracy: 0.60833 | train_balanced_accuracy: 0.60833 |  0:00:35s\n",
      "\n",
      "Early stopping occurred at epoch 50 with best_epoch = 40 and best_train_balanced_accuracy = 0.63\n",
      "Best weights from best epoch are automatically used!\n"
     ]
    }
   ],
   "source": [
    "import torch\n",
    "clf = TabNetClassifier(\n",
    "    optimizer_fn=torch.optim.Adam,\n",
    "    optimizer_params=dict(lr=2e-1),)\n",
    "# clf = TabNetClassifier()\n",
    "clf.fit(\n",
    "    X_train, y_train,\n",
    "    eval_set=[(X_train, y_train)], #, (X_valid, y_valid)\n",
    "    eval_name=['train'],\n",
    "    eval_metric=['auc','accuracy','balanced_accuracy'],\n",
    ")"
   ]
  },
  {
   "cell_type": "code",
   "execution_count": 15,
   "id": "0a359342-ae38-4ffc-b913-c844eba7f6fb",
   "metadata": {},
   "outputs": [
    {
     "name": "stdout",
     "output_type": "stream",
     "text": [
      "600\n",
      "0.63\n"
     ]
    }
   ],
   "source": [
    "preds = clf.predict(X_train)\n",
    "print(len(preds))\n",
    "print(sum(y_train==preds)/len(y_train))"
   ]
  },
  {
   "cell_type": "code",
   "execution_count": 16,
   "id": "3d7231c3-68ed-46f4-81ca-c74fe287b067",
   "metadata": {},
   "outputs": [
    {
     "name": "stdout",
     "output_type": "stream",
     "text": [
      "150\n",
      "0.5333333333333333\n"
     ]
    }
   ],
   "source": [
    "preds = clf.predict(X_valid)\n",
    "print(len(preds))\n",
    "print(sum(y_valid==preds)/len(y_valid))"
   ]
  },
  {
   "cell_type": "code",
   "execution_count": 17,
   "id": "85570ab7-d37b-42d5-836a-f6d96cff0a7d",
   "metadata": {},
   "outputs": [
    {
     "data": {
      "text/plain": [
       "[<matplotlib.lines.Line2D at 0x2b6d78984710>]"
      ]
     },
     "execution_count": 17,
     "metadata": {},
     "output_type": "execute_result"
    },
    {
     "data": {
      "image/png": "[encoded data removed]",
      "text/plain": [
       "<Figure size 432x288 with 1 Axes>"
      ]
     },
     "metadata": {
      "needs_background": "light"
     },
     "output_type": "display_data"
    }
   ],
   "source": [
    "# plot accuracy\n",
    "plt.plot(clf.history['train_balanced_accuracy'])\n",
    "# plt.plot(clf.history['valid_balanced_accuracy'])"
   ]
  },
  {
   "cell_type": "code",
   "execution_count": 18,
   "id": "12d2d3bf-c2b3-4862-a958-02050a21b0a1",
   "metadata": {},
   "outputs": [],
   "source": [
    "output_ls = ['irritable bowel syndrome', 'migraine', 'back pain',\n",
    "       'osteoarthritis', 'eid', 'bmrc']\n",
    "tmp = df_all.drop(columns=output_ls)\n",
    "feature_names = tmp.columns"
   ]
  },
  {
   "cell_type": "code",
   "execution_count": 19,
   "id": "06f0d0fb-484e-4735-bb09-82a3c36de9b3",
   "metadata": {},
   "outputs": [],
   "source": [
    "feat_importances = pd.Series(clf.feature_importances_, index=feature_names)"
   ]
  },
  {
   "cell_type": "code",
   "execution_count": 20,
   "id": "3b7fee9f-7674-4678-a78b-a074f1f39fc2",
   "metadata": {},
   "outputs": [],
   "source": [
    "feat_sorted = feat_importances.sort_values(ascending=False)"
   ]
  },
  {
   "cell_type": "code",
   "execution_count": 21,
   "id": "1b2352ea-1584-49bf-9a60-d151c657c0e0",
   "metadata": {},
   "outputs": [
    {
     "data": {
      "text/plain": [
       "Text(0, 0.5, 'Mean decrease in impurity')"
      ]
     },
     "execution_count": 21,
     "metadata": {},
     "output_type": "execute_result"
    },
    {
     "data": {
      "image/png": "[encoded data removed]",
      "text/plain": [
       "<Figure size 432x288 with 1 Axes>"
      ]
     },
     "metadata": {
      "needs_background": "light"
     },
     "output_type": "display_data"
    }
   ],
   "source": [
    "fig, ax = plt.subplots()\n",
    "feat_sorted.iloc[:10].plot.bar(ax=ax)\n",
    "ax.set_title(\"Feature importances using MDI\")\n",
    "ax.set_ylabel(\"Mean decrease in impurity\")"
   ]
  },
  {
   "cell_type": "code",
   "execution_count": 22,
   "id": "28d14b30-842f-4763-ab00-26daee6868d1",
   "metadata": {},
   "outputs": [
    {
     "data": {
      "text/plain": [
       "[array(['Volume of grey matter in VIIb Cerebellum (vermis)'], dtype=object),\n",
       " array(['Volume of grey matter in Cingulate Gyrus anterior division (right)'],\n",
       "       dtype=object),\n",
       " array(['Mean L3 in fornix on FA skeleton'], dtype=object),\n",
       " array(['Weighted-mean MO in tract inferior fronto-occipital fasciculus (left)'],\n",
       "       dtype=object),\n",
       " array(['Mean MO in cingulum hippocampus on FA skeleton (right)'],\n",
       "       dtype=object),\n",
       " array(['Mean ICVF in tapetum on FA skeleton (right)'], dtype=object),\n",
       " array(['Volume of grey matter in Middle Temporal Gyrus, posterior division (right)'],\n",
       "       dtype=object)]"
      ]
     },
     "execution_count": 22,
     "metadata": {},
     "output_type": "execute_result"
    }
   ],
   "source": [
    "feats10 = feat_sorted.iloc[:10].index\n",
    "match_question(feats10)"
   ]
  },
  {
   "cell_type": "markdown",
   "id": "ca2f5829-3d78-4c42-91af-94346fecd203",
   "metadata": {},
   "source": [
    "#### random forest benchmark"
   ]
  },
  {
   "cell_type": "code",
   "execution_count": 23,
   "id": "3571d0e5-a44e-4d4b-a5fb-dbd4b89aa421",
   "metadata": {},
   "outputs": [],
   "source": [
    "import optuna"
   ]
  },
  {
   "cell_type": "code",
   "execution_count": 24,
   "id": "e7906718-b1d6-4217-9bbf-751d27bb44c2",
   "metadata": {
    "tags": []
   },
   "outputs": [
    {
     "name": "stderr",
     "output_type": "stream",
     "text": [
      "\u001b[32m[I 2021-10-26 13:11:46,521]\u001b[0m A new study created in memory with name: no-name-a80994b2-9b48-4ded-92b1-acd01cea84fd\u001b[0m\n",
      "\u001b[32m[I 2021-10-26 13:12:12,950]\u001b[0m Trial 0 finished with value: 0.6716666666666667 and parameters: {'max_depth': 26, 'n_estimators': 250, 'max_features': 0.7803421866047426, 'min_samples_split': 4, 'min_samples_leaf': 8, 'max_samples': 0.9027679892361957}. Best is trial 0 with value: 0.6716666666666667.\u001b[0m\n",
      "\u001b[32m[I 2021-10-26 13:12:16,595]\u001b[0m Trial 1 finished with value: 0.6549999999999999 and parameters: {'max_depth': 2, 'n_estimators': 200, 'max_features': 0.2918795846760002, 'min_samples_split': 6, 'min_samples_leaf': 6, 'max_samples': 0.8473948872943405}. Best is trial 0 with value: 0.6716666666666667.\u001b[0m\n",
      "\u001b[32m[I 2021-10-26 13:12:20,664]\u001b[0m Trial 2 finished with value: 0.6566666666666667 and parameters: {'max_depth': 11, 'n_estimators': 75, 'max_features': 0.7660024164081959, 'min_samples_split': 6, 'min_samples_leaf': 11, 'max_samples': 0.6072588357098628}. Best is trial 0 with value: 0.6716666666666667.\u001b[0m\n",
      "\u001b[32m[I 2021-10-26 13:12:27,377]\u001b[0m Trial 3 finished with value: 0.66 and parameters: {'max_depth': 3, 'n_estimators': 150, 'max_features': 0.7230468935587225, 'min_samples_split': 3, 'min_samples_leaf': 12, 'max_samples': 0.8214136916251985}. Best is trial 0 with value: 0.6716666666666667.\u001b[0m\n",
      "\u001b[32m[I 2021-10-26 13:12:33,561]\u001b[0m Trial 4 finished with value: 0.6583333333333333 and parameters: {'max_depth': 5, 'n_estimators': 100, 'max_features': 0.6857604387689292, 'min_samples_split': 14, 'min_samples_leaf': 10, 'max_samples': 0.8767025819104015}. Best is trial 0 with value: 0.6716666666666667.\u001b[0m\n",
      "\u001b[32m[I 2021-10-26 13:12:36,949]\u001b[0m Trial 5 finished with value: 0.6516666666666667 and parameters: {'max_depth': 15, 'n_estimators': 125, 'max_features': 0.1680586869237613, 'min_samples_split': 3, 'min_samples_leaf': 3, 'max_samples': 0.8553623598450977}. Best is trial 0 with value: 0.6716666666666667.\u001b[0m\n",
      "\u001b[32m[I 2021-10-26 13:12:42,104]\u001b[0m Trial 6 finished with value: 0.6533333333333333 and parameters: {'max_depth': 3, 'n_estimators': 150, 'max_features': 0.5380158944545395, 'min_samples_split': 9, 'min_samples_leaf': 9, 'max_samples': 0.7760903247068967}. Best is trial 0 with value: 0.6716666666666667.\u001b[0m\n",
      "\u001b[32m[I 2021-10-26 13:12:45,049]\u001b[0m Trial 7 finished with value: 0.6483333333333334 and parameters: {'max_depth': 18, 'n_estimators': 200, 'max_features': 0.154465400690625, 'min_samples_split': 3, 'min_samples_leaf': 12, 'max_samples': 0.6098890867158191}. Best is trial 0 with value: 0.6716666666666667.\u001b[0m\n",
      "\u001b[32m[I 2021-10-26 13:12:55,733]\u001b[0m Trial 8 finished with value: 0.67 and parameters: {'max_depth': 4, 'n_estimators': 200, 'max_features': 0.5973356849148715, 'min_samples_split': 4, 'min_samples_leaf': 1, 'max_samples': 0.9718838137255092}. Best is trial 0 with value: 0.6716666666666667.\u001b[0m\n",
      "\u001b[32m[I 2021-10-26 13:13:09,315]\u001b[0m Trial 9 finished with value: 0.6566666666666667 and parameters: {'max_depth': 24, 'n_estimators': 250, 'max_features': 0.8351261090558718, 'min_samples_split': 5, 'min_samples_leaf': 12, 'max_samples': 0.7083509696012003}. Best is trial 0 with value: 0.6716666666666667.\u001b[0m\n"
     ]
    },
    {
     "name": "stdout",
     "output_type": "stream",
     "text": [
      "{'max_depth': 26, 'n_estimators': 250, 'max_features': 0.7803421866047426, 'min_samples_split': 4, 'min_samples_leaf': 8, 'max_samples': 0.9027679892361957}\n"
     ]
    }
   ],
   "source": [
    "study = optuna.create_study(direction=\"maximize\")\n",
    "study.optimize(lambda trial: objective(trial, X_train, y_train), n_trials=10)\n",
    "bp = study.best_trial.params\n",
    "print(bp)"
   ]
  },
  {
   "cell_type": "code",
   "execution_count": 25,
   "id": "3c57fd06-bff4-4103-91fa-2ca8995294ef",
   "metadata": {},
   "outputs": [],
   "source": [
    "from sklearn.ensemble import RandomForestClassifier\n",
    "clf = RandomForestClassifier(**bp)"
   ]
  },
  {
   "cell_type": "code",
   "execution_count": 26,
   "id": "42007c72-afa2-4685-bd14-aef15e8d6a77",
   "metadata": {},
   "outputs": [
    {
     "data": {
      "text/plain": [
       "RandomForestClassifier(max_depth=26, max_features=0.7803421866047426,\n",
       "                       max_samples=0.9027679892361957, min_samples_leaf=8,\n",
       "                       min_samples_split=4, n_estimators=250)"
      ]
     },
     "execution_count": 26,
     "metadata": {},
     "output_type": "execute_result"
    }
   ],
   "source": [
    "clf.fit(X_train, y_train)"
   ]
  },
  {
   "cell_type": "code",
   "execution_count": 27,
   "id": "0e09eb79-953a-4eb4-891e-8cc0f9884273",
   "metadata": {},
   "outputs": [
    {
     "name": "stdout",
     "output_type": "stream",
     "text": [
      "600\n",
      "0.9883333333333333\n",
      "0.9883333333333333\n"
     ]
    }
   ],
   "source": [
    "preds = clf.predict(X_train)\n",
    "print(len(preds))\n",
    "print(balanced_accuracy_score(y_train, preds))\n",
    "print(sum(y_train==preds)/len(y_train))"
   ]
  },
  {
   "cell_type": "code",
   "execution_count": 28,
   "id": "6c0ce0f7-2978-433b-a51b-0f17aba44cd6",
   "metadata": {},
   "outputs": [
    {
     "name": "stdout",
     "output_type": "stream",
     "text": [
      "150\n",
      "0.6533333333333333\n",
      "0.6533333333333333\n"
     ]
    }
   ],
   "source": [
    "preds = clf.predict(X_valid)\n",
    "print(len(preds))\n",
    "print(balanced_accuracy_score(y_valid, preds))\n",
    "print(sum(y_valid==preds)/len(y_valid))"
   ]
  },
  {
   "cell_type": "code",
   "execution_count": 29,
   "id": "969bb2c2-3642-40fd-8f84-57fc83fcfc0f",
   "metadata": {},
   "outputs": [],
   "source": [
    "feat_importances = pd.Series(clf.feature_importances_, index=feature_names)"
   ]
  },
  {
   "cell_type": "code",
   "execution_count": 30,
   "id": "49ffe0ba-3185-4efb-b13d-1fd051fe3a96",
   "metadata": {},
   "outputs": [],
   "source": [
    "feat_sorted = feat_importances.sort_values(ascending=False)"
   ]
  },
  {
   "cell_type": "code",
   "execution_count": 31,
   "id": "e1434bd8-d82d-4889-b283-474679aeff26",
   "metadata": {},
   "outputs": [
    {
     "data": {
      "text/plain": [
       "Text(0, 0.5, 'Mean decrease in impurity')"
      ]
     },
     "execution_count": 31,
     "metadata": {},
     "output_type": "execute_result"
    },
    {
     "data": {
      "image/png": "[encoded data removed]",
      "text/plain": [
       "<Figure size 432x288 with 1 Axes>"
      ]
     },
     "metadata": {
      "needs_background": "light"
     },
     "output_type": "display_data"
    }
   ],
   "source": [
    "fig, ax = plt.subplots()\n",
    "feat_sorted.iloc[:10].plot.bar(ax=ax)\n",
    "ax.set_title(\"Feature importances using MDI\")\n",
    "ax.set_ylabel(\"Mean decrease in impurity\")"
   ]
  },
  {
   "cell_type": "code",
   "execution_count": 32,
   "id": "a81b3689-a372-4170-b7c7-80c8d11c1322",
   "metadata": {},
   "outputs": [
    {
     "data": {
      "text/plain": [
       "[array(['Sex'], dtype=object),\n",
       " array(['Mean L1 in pontine crossing tract on FA skeleton'], dtype=object),\n",
       " array(['Total volume of white matter hyperintensities (from T1 and T2_FLAIR images)'],\n",
       "       dtype=object),\n",
       " array(['Weighted-mean OD in tract corticospinal tract (left)'],\n",
       "       dtype=object),\n",
       " array(['Mean tfMRI head motion averaged across space and time points'],\n",
       "       dtype=object),\n",
       " array(['Mean L1 in tapetum on FA skeleton (left)'], dtype=object)]"
      ]
     },
     "execution_count": 32,
     "metadata": {},
     "output_type": "execute_result"
    }
   ],
   "source": [
    "feats10 = feat_sorted.iloc[:10].index\n",
    "match_question(feats10)"
   ]
  },
  {
   "cell_type": "code",
   "execution_count": 153,
   "id": "0cdaf4b3-36e4-42cd-9260-8e3f211e7ad8",
   "metadata": {},
   "outputs": [
    {
     "data": {
      "text/plain": [
       "back pain  31-0.0_1.0\n",
       "0          0             300\n",
       "           1              81\n",
       "1          1             206\n",
       "           0             169\n",
       "Name: 31-0.0_1.0, dtype: int64"
      ]
     },
     "execution_count": 153,
     "metadata": {},
     "output_type": "execute_result"
    }
   ],
   "source": [
    "df_all.groupby('back pain')['31-0.0_1.0'].value_counts()"
   ]
  },
  {
   "cell_type": "code",
   "execution_count": 157,
   "id": "04345b06-eb84-4808-9700-253427bfeab6",
   "metadata": {},
   "outputs": [
    {
     "name": "stdout",
     "output_type": "stream",
     "text": [
      "/well/seymour/users/uhu195/python/extract_npy//labels/label_patients_pain.csv\n",
      "(2724, 1)\n",
      "(2724, 6)\n"
     ]
    },
    {
     "name": "stderr",
     "output_type": "stream",
     "text": [
      "/gpfs3/well/seymour/users/uhu195/python/extract-py3.7.4-skylake/lib/python3.7/site-packages/ipykernel_launcher.py:1: DtypeWarning: Columns (863,867) have mixed types.Specify dtype option on import or set low_memory=False.\n",
      "  \"\"\"Entry point for launching an IPython kernel.\n"
     ]
    },
    {
     "name": "stdout",
     "output_type": "stream",
     "text": [
      "df_qs_imputed_dum shape=(2280, 1165)\n",
      "df_bfl_qsidp shape=(2280, 1670)\n"
     ]
    }
   ],
   "source": [
    "dff = make_data(bestIC)"
   ]
  },
  {
   "cell_type": "code",
   "execution_count": 162,
   "id": "34615679-8197-44e5-bfd4-3907f32442de",
   "metadata": {},
   "outputs": [
    {
     "data": {
      "text/plain": [
       "back pain  migraine  osteoarthritis  irritable bowel syndrome  31-0.0_1.0\n",
       "0          0         0               0                         0             186\n",
       "                                                               1             142\n",
       "                                     1                         0             229\n",
       "                                                               1              82\n",
       "                     1               0                         0             571\n",
       "                                                               1             314\n",
       "           1         0               0                         0             300\n",
       "                                                               1              81\n",
       "1          0         0               0                         1             206\n",
       "                                                               0             169\n",
       "Name: 31-0.0_1.0, dtype: int64"
      ]
     },
     "execution_count": 162,
     "metadata": {},
     "output_type": "execute_result"
    }
   ],
   "source": [
    "dff.groupby(['back pain', 'migraine', 'osteoarthritis', 'irritable bowel syndrome'])['31-0.0_1.0'].value_counts()"
   ]
  },
  {
   "cell_type": "code",
   "execution_count": null,
   "id": "3fa3e27a-1844-4ce9-ba26-e22aa394d7db",
   "metadata": {},
   "outputs": [],
   "source": [
    "82+314+81+169"
   ]
  },
  {
   "cell_type": "markdown",
   "id": "a0b4278e-8366-4d54-a705-b2da821659e1",
   "metadata": {},
   "source": [
    "#### trying another combination of disease"
   ]
  },
  {
   "cell_type": "code",
   "execution_count": 33,
   "id": "e7f33056-939e-49b2-ad9a-fee7ce8a3e2c",
   "metadata": {},
   "outputs": [
    {
     "name": "stdout",
     "output_type": "stream",
     "text": [
      "/well/seymour/users/uhu195/python/extract_npy//labels/label_patients_pain.csv\n",
      "(2724, 1)\n",
      "(2724, 6)\n"
     ]
    },
    {
     "name": "stderr",
     "output_type": "stream",
     "text": [
      "/gpfs3/well/seymour/users/uhu195/python/extract-py3.7.4-skylake/lib/python3.7/site-packages/ipykernel_launcher.py:2: DtypeWarning: Columns (863,867) have mixed types.Specify dtype option on import or set low_memory=False.\n",
      "  \n"
     ]
    },
    {
     "name": "stdout",
     "output_type": "stream",
     "text": [
      "df_qs_imputed_dum shape=(2280, 1165)\n",
      "df_bfl_qsidp shape=(2280, 1670)\n",
      "(1260, 1670)\n"
     ]
    }
   ],
   "source": [
    "disease = ['osteoarthritis', 'back pain']\n",
    "df_all = make_binary(bestIC, disease)"
   ]
  },
  {
   "cell_type": "code",
   "execution_count": 34,
   "id": "ff451c63-98ad-4b8b-b473-5321cc7600e1",
   "metadata": {},
   "outputs": [
    {
     "name": "stdout",
     "output_type": "stream",
     "text": [
      "(1260, 1664)\n"
     ]
    }
   ],
   "source": [
    "X_train, y_train, X_valid, y_valid = load_feats(df_all, bestIC, test_size=0.2,\n",
    "                                                dummies=False,\n",
    "                                                train=True, balance=True, scaler=True)"
   ]
  },
  {
   "cell_type": "code",
   "execution_count": 35,
   "id": "de2a80e7-6d4a-4086-931c-456f22e01ea3",
   "metadata": {},
   "outputs": [
    {
     "data": {
      "text/plain": [
       "back pain         300\n",
       "osteoarthritis    300\n",
       "dtype: int64"
      ]
     },
     "execution_count": 35,
     "metadata": {},
     "output_type": "execute_result"
    }
   ],
   "source": [
    "y_train.value_counts()"
   ]
  },
  {
   "cell_type": "code",
   "execution_count": 36,
   "id": "740c838c-8017-47d5-ae7b-465ed1335f82",
   "metadata": {},
   "outputs": [
    {
     "data": {
      "text/plain": [
       "osteoarthritis    75\n",
       "back pain         75\n",
       "dtype: int64"
      ]
     },
     "execution_count": 36,
     "metadata": {},
     "output_type": "execute_result"
    }
   ],
   "source": [
    "y_valid.value_counts()"
   ]
  },
  {
   "cell_type": "code",
   "execution_count": 37,
   "id": "66030afa-b894-4d6a-89b3-842222db3ee3",
   "metadata": {
    "tags": []
   },
   "outputs": [
    {
     "name": "stdout",
     "output_type": "stream",
     "text": [
      "Device used : cpu\n",
      "epoch 0  | loss: 1.04335 | train_auc: 0.48966 | train_balanced_accuracy: 0.5     |  0:00:00s\n",
      "epoch 1  | loss: 0.93918 | train_auc: 0.51429 | train_balanced_accuracy: 0.5     |  0:00:01s\n",
      "epoch 2  | loss: 0.92546 | train_auc: 0.47724 | train_balanced_accuracy: 0.5     |  0:00:02s\n",
      "epoch 3  | loss: 0.73007 | train_auc: 0.52424 | train_balanced_accuracy: 0.50333 |  0:00:02s\n",
      "epoch 4  | loss: 0.72016 | train_auc: 0.42926 | train_balanced_accuracy: 0.43167 |  0:00:03s\n",
      "epoch 5  | loss: 0.70038 | train_auc: 0.47451 | train_balanced_accuracy: 0.46833 |  0:00:04s\n",
      "epoch 6  | loss: 0.70914 | train_auc: 0.52708 | train_balanced_accuracy: 0.50333 |  0:00:04s\n",
      "epoch 7  | loss: 0.70065 | train_auc: 0.46485 | train_balanced_accuracy: 0.50333 |  0:00:05s\n",
      "epoch 8  | loss: 0.69156 | train_auc: 0.46031 | train_balanced_accuracy: 0.50333 |  0:00:06s\n",
      "epoch 9  | loss: 0.69004 | train_auc: 0.47748 | train_balanced_accuracy: 0.505   |  0:00:06s\n",
      "epoch 10 | loss: 0.69417 | train_auc: 0.54293 | train_balanced_accuracy: 0.5     |  0:00:07s\n",
      "epoch 11 | loss: 0.69768 | train_auc: 0.5129  | train_balanced_accuracy: 0.5     |  0:00:08s\n",
      "epoch 12 | loss: 0.6948  | train_auc: 0.53357 | train_balanced_accuracy: 0.5     |  0:00:09s\n",
      "epoch 13 | loss: 0.69209 | train_auc: 0.51013 | train_balanced_accuracy: 0.5     |  0:00:09s\n",
      "epoch 14 | loss: 0.69567 | train_auc: 0.51076 | train_balanced_accuracy: 0.51    |  0:00:10s\n",
      "epoch 15 | loss: 0.71407 | train_auc: 0.52026 | train_balanced_accuracy: 0.505   |  0:00:11s\n",
      "epoch 16 | loss: 0.69195 | train_auc: 0.52858 | train_balanced_accuracy: 0.525   |  0:00:12s\n",
      "epoch 17 | loss: 0.68761 | train_auc: 0.48225 | train_balanced_accuracy: 0.48333 |  0:00:12s\n",
      "epoch 18 | loss: 0.74362 | train_auc: 0.47409 | train_balanced_accuracy: 0.48333 |  0:00:13s\n",
      "epoch 19 | loss: 0.70098 | train_auc: 0.53214 | train_balanced_accuracy: 0.51    |  0:00:14s\n",
      "epoch 20 | loss: 0.69751 | train_auc: 0.51494 | train_balanced_accuracy: 0.51167 |  0:00:14s\n",
      "epoch 21 | loss: 0.68924 | train_auc: 0.50358 | train_balanced_accuracy: 0.5     |  0:00:15s\n",
      "epoch 22 | loss: 0.69246 | train_auc: 0.52242 | train_balanced_accuracy: 0.515   |  0:00:16s\n",
      "epoch 23 | loss: 0.69012 | train_auc: 0.52032 | train_balanced_accuracy: 0.515   |  0:00:16s\n",
      "epoch 24 | loss: 0.68916 | train_auc: 0.50117 | train_balanced_accuracy: 0.495   |  0:00:17s\n",
      "epoch 25 | loss: 0.69906 | train_auc: 0.50517 | train_balanced_accuracy: 0.5     |  0:00:18s\n",
      "epoch 26 | loss: 0.69037 | train_auc: 0.50662 | train_balanced_accuracy: 0.50167 |  0:00:18s\n",
      "\n",
      "Early stopping occurred at epoch 26 with best_epoch = 16 and best_train_balanced_accuracy = 0.525\n",
      "Best weights from best epoch are automatically used!\n"
     ]
    }
   ],
   "source": [
    "import torch\n",
    "clf = TabNetClassifier(\n",
    "    optimizer_fn=torch.optim.Adam,\n",
    "    optimizer_params=dict(lr=5e-1),)\n",
    "\n",
    "clf.fit(\n",
    "    X_train, y_train,\n",
    "    eval_set=[(X_train, y_train)],\n",
    "    eval_name=['train'],\n",
    "#     eval_metric=['auc'],\n",
    "    eval_metric=['auc','balanced_accuracy'],\n",
    ")"
   ]
  },
  {
   "cell_type": "code",
   "execution_count": 38,
   "id": "50d37ac0-87df-4946-be31-c93a747a7fed",
   "metadata": {},
   "outputs": [
    {
     "name": "stdout",
     "output_type": "stream",
     "text": [
      "600\n",
      "0.525\n",
      "0.525\n"
     ]
    }
   ],
   "source": [
    "preds = clf.predict(X_train)\n",
    "print(len(preds))\n",
    "print(balanced_accuracy_score(y_train, preds))\n",
    "print(sum(y_train==preds)/len(y_train))"
   ]
  },
  {
   "cell_type": "code",
   "execution_count": 39,
   "id": "e3b106be-880d-4fd4-b89b-7a8635266aee",
   "metadata": {},
   "outputs": [
    {
     "name": "stdout",
     "output_type": "stream",
     "text": [
      "150\n",
      "0.48666666666666664\n",
      "0.4866666666666667\n"
     ]
    }
   ],
   "source": [
    "preds = clf.predict(X_valid)\n",
    "print(len(preds))\n",
    "print(balanced_accuracy_score(y_valid, preds))\n",
    "print(sum(y_valid==preds)/len(y_valid))"
   ]
  },
  {
   "cell_type": "code",
   "execution_count": 40,
   "id": "cdac090b-6985-4101-a88c-48fee1c69f71",
   "metadata": {},
   "outputs": [
    {
     "data": {
      "text/plain": [
       "[<matplotlib.lines.Line2D at 0x2b6d78d07050>]"
      ]
     },
     "execution_count": 40,
     "metadata": {},
     "output_type": "execute_result"
    },
    {
     "data": {
      "image/png": "[encoded data removed]",
      "text/plain": [
       "<Figure size 432x288 with 1 Axes>"
      ]
     },
     "metadata": {
      "needs_background": "light"
     },
     "output_type": "display_data"
    }
   ],
   "source": [
    "# plot accuracy\n",
    "plt.plot(clf.history['train_balanced_accuracy'])\n",
    "# plt.plot(clf.history['valid_balanced_accuracy'])"
   ]
  },
  {
   "cell_type": "code",
   "execution_count": 41,
   "id": "5526b0b5-ef29-4f38-919e-5261e8553036",
   "metadata": {},
   "outputs": [
    {
     "data": {
      "text/plain": [
       "172"
      ]
     },
     "execution_count": 41,
     "metadata": {},
     "output_type": "execute_result"
    }
   ],
   "source": [
    "np.argmax(clf.feature_importances_)"
   ]
  },
  {
   "cell_type": "code",
   "execution_count": 42,
   "id": "6b1df373-bc03-4ad8-bee8-ffc4390f2d6d",
   "metadata": {},
   "outputs": [],
   "source": [
    "output_ls = ['irritable bowel syndrome', 'migraine', 'back pain',\n",
    "       'osteoarthritis', 'eid', 'bmrc']\n",
    "tmp = df_all.drop(columns=output_ls)\n",
    "feature_names = tmp.columns"
   ]
  },
  {
   "cell_type": "code",
   "execution_count": 43,
   "id": "0d8d9374-d9da-4fe7-8930-1bb237b1643b",
   "metadata": {},
   "outputs": [],
   "source": [
    "feat_importances = pd.Series(clf.feature_importances_, index=feature_names)"
   ]
  },
  {
   "cell_type": "code",
   "execution_count": 44,
   "id": "d0c66465-7e94-4783-9491-c42054f6018f",
   "metadata": {},
   "outputs": [],
   "source": [
    "feat_sorted = feat_importances.sort_values(ascending=False)"
   ]
  },
  {
   "cell_type": "code",
   "execution_count": 45,
   "id": "e5fa5434-7a25-4db0-9b1e-5d567cadb255",
   "metadata": {},
   "outputs": [
    {
     "data": {
      "text/plain": [
       "Text(0, 0.5, 'Mean decrease in impurity')"
      ]
     },
     "execution_count": 45,
     "metadata": {},
     "output_type": "execute_result"
    },
    {
     "data": {
      "image/png": "[encoded data removed]",
      "text/plain": [
       "<Figure size 432x288 with 1 Axes>"
      ]
     },
     "metadata": {
      "needs_background": "light"
     },
     "output_type": "display_data"
    }
   ],
   "source": [
    "fig, ax = plt.subplots()\n",
    "feat_sorted.iloc[:10].plot.bar(ax=ax)\n",
    "ax.set_title(\"Feature importances using MDI\")\n",
    "ax.set_ylabel(\"Mean decrease in impurity\")"
   ]
  },
  {
   "cell_type": "code",
   "execution_count": 46,
   "id": "0e571933-9c07-404e-acf7-2374a8095d73",
   "metadata": {},
   "outputs": [
    {
     "data": {
      "text/plain": [
       "[array(['Frequency of tiredness / lethargy in last 2 weeks'], dtype=object),\n",
       " array(['Mean L2 in uncinate fasciculus on FA skeleton (left)'],\n",
       "       dtype=object),\n",
       " array(['Mean L2 in retrolenticular part of internal capsule on FA skeleton (left)'],\n",
       "       dtype=object),\n",
       " array(['Mean ICVF in superior cerebellar peduncle on FA skeleton (right)'],\n",
       "       dtype=object),\n",
       " array(['Mean L1 in corticospinal tract on FA skeleton (left)'],\n",
       "       dtype=object),\n",
       " array(['Worry too long after embarrassment'], dtype=object),\n",
       " array(['Volume of grey matter in Inferior Temporal Gyrus, temporooccipital part (right)'],\n",
       "       dtype=object),\n",
       " array(['Mean L1 in fornix on FA skeleton'], dtype=object)]"
      ]
     },
     "execution_count": 46,
     "metadata": {},
     "output_type": "execute_result"
    }
   ],
   "source": [
    "feats10 = feat_sorted.iloc[:10].index\n",
    "match_question(feats10)"
   ]
  },
  {
   "cell_type": "markdown",
   "id": "f2d07d63-a353-467d-87fb-93aaecc994a1",
   "metadata": {
    "tags": []
   },
   "source": [
    "#### random forest benchmark"
   ]
  },
  {
   "cell_type": "code",
   "execution_count": 47,
   "id": "4e835384-bcfd-43a1-96f4-cb42045e891a",
   "metadata": {},
   "outputs": [],
   "source": [
    "import optuna"
   ]
  },
  {
   "cell_type": "code",
   "execution_count": 48,
   "id": "acb8e56c-fd71-4d42-8a10-186868315a55",
   "metadata": {},
   "outputs": [],
   "source": [
    "def objective(trial, X, y):\n",
    "    \"\"\"tuning using optuna\"\"\"\n",
    "    from sklearn.model_selection import train_test_split\n",
    "    import sklearn.ensemble\n",
    "    import sklearn.model_selection\n",
    "    \n",
    "#     X, y = load_feats(dataset='patient', train=False)\n",
    "#     X, y = load_feats(data_input, IC_num, train=False)\n",
    "\n",
    "#     classifier_name = trial.suggest_categorical(\"classifier\", [\"RandomForest\"])\n",
    "    rf_max_depth = trial.suggest_int(\"max_depth\", 2, 32, log=True)\n",
    "    list_trees = [25, 50, 75, 100, 125, 150, 175, 200, 225, 250]\n",
    "    rf_n_estimators = trial.suggest_categorical('n_estimators', list_trees)\n",
    "    rf_max_features = trial.suggest_uniform('max_features', 0.15, 1.0)\n",
    "    rf_min_samples_split = trial.suggest_int('min_samples_split', 2, 14)\n",
    "    rf_min_samples_leaf = trial.suggest_int('min_samples_leaf', 1, 14)\n",
    "    rf_max_samples = trial.suggest_uniform('max_samples', 0.6, 0.99)\n",
    "            \n",
    "    classifier_obj = sklearn.ensemble.RandomForestClassifier(\n",
    "        max_depth=rf_max_depth, n_estimators=rf_n_estimators, max_features=rf_max_features, \n",
    "        min_samples_split=rf_min_samples_split, min_samples_leaf=rf_min_samples_leaf, max_samples=rf_max_samples,\n",
    "        bootstrap=True, verbose=0\n",
    "    )\n",
    "\n",
    "    score = sklearn.model_selection.cross_val_score(classifier_obj, X, y, \n",
    "                                                    n_jobs=-1, cv=3, scoring='balanced_accuracy')\n",
    "    accuracy = score.mean()\n",
    "#     accuracy = balanced_accuracy_score(y, clf.predict(X))\n",
    "    return accuracy"
   ]
  },
  {
   "cell_type": "code",
   "execution_count": 49,
   "id": "2571981f-284e-44bb-a8d5-421e027ea223",
   "metadata": {
    "tags": []
   },
   "outputs": [
    {
     "name": "stderr",
     "output_type": "stream",
     "text": [
      "\u001b[32m[I 2021-10-26 13:16:11,786]\u001b[0m A new study created in memory with name: no-name-bcea5cd3-708f-4489-b9af-41519b2c9eef\u001b[0m\n",
      "\u001b[32m[I 2021-10-26 13:16:12,542]\u001b[0m Trial 0 finished with value: 0.5983333333333333 and parameters: {'max_depth': 21, 'n_estimators': 25, 'max_features': 0.2565806157982235, 'min_samples_split': 5, 'min_samples_leaf': 9, 'max_samples': 0.8756813673509457}. Best is trial 0 with value: 0.5983333333333333.\u001b[0m\n",
      "\u001b[32m[I 2021-10-26 13:16:14,021]\u001b[0m Trial 1 finished with value: 0.6133333333333334 and parameters: {'max_depth': 3, 'n_estimators': 100, 'max_features': 0.20276010129538194, 'min_samples_split': 9, 'min_samples_leaf': 9, 'max_samples': 0.9070460931350194}. Best is trial 1 with value: 0.6133333333333334.\u001b[0m\n",
      "\u001b[32m[I 2021-10-26 13:16:19,935]\u001b[0m Trial 2 finished with value: 0.61 and parameters: {'max_depth': 14, 'n_estimators': 125, 'max_features': 0.5851775281434606, 'min_samples_split': 2, 'min_samples_leaf': 14, 'max_samples': 0.9102479739071414}. Best is trial 1 with value: 0.6133333333333334.\u001b[0m\n",
      "\u001b[32m[I 2021-10-26 13:16:29,949]\u001b[0m Trial 3 finished with value: 0.5850000000000001 and parameters: {'max_depth': 12, 'n_estimators': 125, 'max_features': 0.6481293029230992, 'min_samples_split': 4, 'min_samples_leaf': 3, 'max_samples': 0.9090416650774722}. Best is trial 1 with value: 0.6133333333333334.\u001b[0m\n",
      "\u001b[32m[I 2021-10-26 13:16:42,748]\u001b[0m Trial 4 finished with value: 0.5950000000000001 and parameters: {'max_depth': 8, 'n_estimators': 175, 'max_features': 0.6650326810006948, 'min_samples_split': 8, 'min_samples_leaf': 1, 'max_samples': 0.7686515865743528}. Best is trial 1 with value: 0.6133333333333334.\u001b[0m\n",
      "\u001b[32m[I 2021-10-26 13:16:43,720]\u001b[0m Trial 5 finished with value: 0.6016666666666667 and parameters: {'max_depth': 2, 'n_estimators': 50, 'max_features': 0.3946944348810094, 'min_samples_split': 5, 'min_samples_leaf': 13, 'max_samples': 0.7651876603178164}. Best is trial 1 with value: 0.6133333333333334.\u001b[0m\n",
      "\u001b[32m[I 2021-10-26 13:16:49,108]\u001b[0m Trial 6 finished with value: 0.5783333333333333 and parameters: {'max_depth': 14, 'n_estimators': 175, 'max_features': 0.23198741658249927, 'min_samples_split': 14, 'min_samples_leaf': 4, 'max_samples': 0.9592313662934173}. Best is trial 1 with value: 0.6133333333333334.\u001b[0m\n",
      "\u001b[32m[I 2021-10-26 13:16:55,693]\u001b[0m Trial 7 finished with value: 0.5966666666666667 and parameters: {'max_depth': 22, 'n_estimators': 225, 'max_features': 0.22318748693620297, 'min_samples_split': 8, 'min_samples_leaf': 4, 'max_samples': 0.9525012601005274}. Best is trial 1 with value: 0.6133333333333334.\u001b[0m\n",
      "\u001b[32m[I 2021-10-26 13:17:02,021]\u001b[0m Trial 8 finished with value: 0.5983333333333333 and parameters: {'max_depth': 4, 'n_estimators': 150, 'max_features': 0.5147342672456355, 'min_samples_split': 13, 'min_samples_leaf': 3, 'max_samples': 0.8738205275764721}. Best is trial 1 with value: 0.6133333333333334.\u001b[0m\n",
      "\u001b[32m[I 2021-10-26 13:17:15,699]\u001b[0m Trial 9 finished with value: 0.5983333333333333 and parameters: {'max_depth': 12, 'n_estimators': 150, 'max_features': 0.8317662120818944, 'min_samples_split': 7, 'min_samples_leaf': 6, 'max_samples': 0.9318469458715887}. Best is trial 1 with value: 0.6133333333333334.\u001b[0m\n"
     ]
    },
    {
     "name": "stdout",
     "output_type": "stream",
     "text": [
      "{'max_depth': 3, 'n_estimators': 100, 'max_features': 0.20276010129538194, 'min_samples_split': 9, 'min_samples_leaf': 9, 'max_samples': 0.9070460931350194}\n"
     ]
    }
   ],
   "source": [
    "study = optuna.create_study(direction=\"maximize\")\n",
    "study.optimize(lambda trial: objective(trial, X_train, y_train), n_trials=10)\n",
    "bp = study.best_trial.params\n",
    "print(bp)"
   ]
  },
  {
   "cell_type": "code",
   "execution_count": 50,
   "id": "d4b33876-a54a-4abd-9670-447fb9938e04",
   "metadata": {},
   "outputs": [],
   "source": [
    "from sklearn.ensemble import RandomForestClassifier\n",
    "clf = RandomForestClassifier(**bp)"
   ]
  },
  {
   "cell_type": "code",
   "execution_count": 51,
   "id": "936c60b8-5880-44d6-84ee-c90348a6320c",
   "metadata": {},
   "outputs": [
    {
     "data": {
      "text/plain": [
       "RandomForestClassifier(max_depth=3, max_features=0.20276010129538194,\n",
       "                       max_samples=0.9070460931350194, min_samples_leaf=9,\n",
       "                       min_samples_split=9)"
      ]
     },
     "execution_count": 51,
     "metadata": {},
     "output_type": "execute_result"
    }
   ],
   "source": [
    "clf.fit(X_train, y_train)"
   ]
  },
  {
   "cell_type": "code",
   "execution_count": 52,
   "id": "1a3a3a1c-cc1d-4a2d-ad7e-70b1c2d98e21",
   "metadata": {},
   "outputs": [
    {
     "name": "stdout",
     "output_type": "stream",
     "text": [
      "600\n",
      "0.81\n",
      "0.81\n"
     ]
    }
   ],
   "source": [
    "preds = clf.predict(X_train)\n",
    "print(len(preds))\n",
    "print(balanced_accuracy_score(y_train, preds))\n",
    "print(sum(y_train==preds)/len(y_train))"
   ]
  },
  {
   "cell_type": "code",
   "execution_count": 53,
   "id": "764891db-13f0-4148-82df-4259ce5f4d95",
   "metadata": {},
   "outputs": [
    {
     "name": "stdout",
     "output_type": "stream",
     "text": [
      "150\n",
      "0.5733333333333334\n",
      "0.5733333333333334\n"
     ]
    }
   ],
   "source": [
    "preds = clf.predict(X_valid)\n",
    "print(len(preds))\n",
    "print(balanced_accuracy_score(y_valid, preds))\n",
    "print(sum(y_valid==preds)/len(y_valid))"
   ]
  },
  {
   "cell_type": "code",
   "execution_count": 54,
   "id": "a5f79753-b734-4f7c-a639-7c1f71762261",
   "metadata": {},
   "outputs": [],
   "source": [
    "feat_importances = pd.Series(clf.feature_importances_, index=feature_names)"
   ]
  },
  {
   "cell_type": "code",
   "execution_count": 55,
   "id": "e996d507-2eff-4b99-8ad2-9282355ce53e",
   "metadata": {},
   "outputs": [],
   "source": [
    "feat_sorted = feat_importances.sort_values(ascending=False)"
   ]
  },
  {
   "cell_type": "code",
   "execution_count": 56,
   "id": "8bdb0ce9-0f45-49e6-b3b9-282d407efef8",
   "metadata": {},
   "outputs": [
    {
     "data": {
      "text/plain": [
       "Text(0, 0.5, 'Mean decrease in impurity')"
      ]
     },
     "execution_count": 56,
     "metadata": {},
     "output_type": "execute_result"
    },
    {
     "data": {
      "image/png": "[encoded data removed]",
      "text/plain": [
       "<Figure size 432x288 with 1 Axes>"
      ]
     },
     "metadata": {
      "needs_background": "light"
     },
     "output_type": "display_data"
    }
   ],
   "source": [
    "fig, ax = plt.subplots()\n",
    "feat_sorted.iloc[:10].plot.bar(ax=ax)\n",
    "ax.set_title(\"Feature importances using MDI\")\n",
    "ax.set_ylabel(\"Mean decrease in impurity\")"
   ]
  },
  {
   "cell_type": "code",
   "execution_count": 57,
   "id": "a8435eef-f5c3-4c54-8c26-b6f263889f61",
   "metadata": {},
   "outputs": [
    {
     "data": {
      "text/plain": [
       "[array(['Volume of thalamus (right)'], dtype=object),\n",
       " array(['Volume of grey matter in Cingulate Gyrus posterior division (left)'],\n",
       "       dtype=object),\n",
       " array(['Volume of grey matter in Parietal Operculum Cortex (left)'],\n",
       "       dtype=object),\n",
       " array(['Volume of brain grey+white matter'], dtype=object),\n",
       " array(['Volume of peripheral cortical grey matter'], dtype=object),\n",
       " array(['Sex'], dtype=object),\n",
       " array(['Volume of grey matter in Lateral Occipital Cortex, superior division (right)'],\n",
       "       dtype=object),\n",
       " array(['Mean L1 in tapetum on FA skeleton (left)'], dtype=object),\n",
       " array(['Median z-statistic (in group-defined mask) for faces-shapes contrast'],\n",
       "       dtype=object)]"
      ]
     },
     "execution_count": 57,
     "metadata": {},
     "output_type": "execute_result"
    }
   ],
   "source": [
    "feats10 = feat_sorted.iloc[:10].index\n",
    "match_question(feats10)"
   ]
  },
  {
   "cell_type": "markdown",
   "id": "ee5c0f7f-5cb3-48d6-b9b6-fe7378d8269e",
   "metadata": {
    "tags": []
   },
   "source": [
    "#### random forest benchmark"
   ]
  },
  {
   "cell_type": "code",
   "execution_count": 85,
   "id": "0e236eba-68f3-4548-bdc2-998b5e0839c4",
   "metadata": {},
   "outputs": [
    {
     "name": "stdout",
     "output_type": "stream",
     "text": [
      "/well/seymour/users/uhu195/python/extract_npy//labels/label_patients_pain.csv\n",
      "(2724, 1)\n",
      "(2724, 6)\n"
     ]
    },
    {
     "name": "stderr",
     "output_type": "stream",
     "text": [
      "/gpfs3/well/seymour/users/uhu195/python/extract-py3.7.4-skylake/lib/python3.7/site-packages/ipykernel_launcher.py:1: DtypeWarning: Columns (863,867) have mixed types.Specify dtype option on import or set low_memory=False.\n",
      "  \"\"\"Entry point for launching an IPython kernel.\n"
     ]
    },
    {
     "name": "stdout",
     "output_type": "stream",
     "text": [
      "df_qs_imputed_dum shape=(2280, 1165)\n",
      "df_bfl_qsidp shape=(2280, 1670)\n"
     ]
    }
   ],
   "source": [
    "dff = make_data(bestIC)"
   ]
  },
  {
   "cell_type": "code",
   "execution_count": 86,
   "id": "2ee4e059-7e12-424f-88a6-cde968a6dd65",
   "metadata": {},
   "outputs": [],
   "source": [
    "dff_rm = dff.drop(['31-0.0_1.0', '25742-2.0', '21003-2.0'], axis=1)"
   ]
  },
  {
   "cell_type": "code",
   "execution_count": 87,
   "id": "367a6876-5810-42cc-965d-f1e70c21d08e",
   "metadata": {},
   "outputs": [
    {
     "name": "stdout",
     "output_type": "stream",
     "text": [
      "(2280, 1661)\n"
     ]
    }
   ],
   "source": [
    "X_train, y_train, X_valid, y_valid = load_feats(dff_rm, bestIC, test_size=0.25,\n",
    "                                                dummies=False,\n",
    "                                                train=True, balance=True, scaler=True)"
   ]
  },
  {
   "cell_type": "code",
   "execution_count": 88,
   "id": "5a16c369-776b-4d0c-849b-28e99b0af66a",
   "metadata": {},
   "outputs": [
    {
     "data": {
      "text/plain": [
       "irritable bowel syndrome    282\n",
       "migraine                    281\n",
       "osteoarthritis              281\n",
       "back pain                   281\n",
       "dtype: int64"
      ]
     },
     "execution_count": 88,
     "metadata": {},
     "output_type": "execute_result"
    }
   ],
   "source": [
    "y_train.value_counts()"
   ]
  },
  {
   "cell_type": "code",
   "execution_count": 89,
   "id": "48d66eeb-6e79-4b47-8f66-38b4a27431dd",
   "metadata": {},
   "outputs": [
    {
     "data": {
      "text/plain": [
       "back pain                   94\n",
       "osteoarthritis              94\n",
       "migraine                    94\n",
       "irritable bowel syndrome    93\n",
       "dtype: int64"
      ]
     },
     "execution_count": 89,
     "metadata": {},
     "output_type": "execute_result"
    }
   ],
   "source": [
    "y_valid.value_counts()"
   ]
  },
  {
   "cell_type": "code",
   "execution_count": 42,
   "id": "69889621-bde6-4d94-97b0-5854cf1c0978",
   "metadata": {},
   "outputs": [],
   "source": [
    "import optuna"
   ]
  },
  {
   "cell_type": "code",
   "execution_count": 90,
   "id": "877d8345-141e-4530-9d73-32f3515afe11",
   "metadata": {},
   "outputs": [],
   "source": [
    "def objective(trial, X, y):\n",
    "    \"\"\"tuning using optuna\"\"\"\n",
    "    from sklearn.model_selection import train_test_split\n",
    "    import sklearn.ensemble\n",
    "    import sklearn.model_selection\n",
    "    \n",
    "#     X, y = load_feats(dataset='patient', train=False)\n",
    "#     X, y = load_feats(data_input, IC_num, train=False)\n",
    "\n",
    "#     classifier_name = trial.suggest_categorical(\"classifier\", [\"RandomForest\"])\n",
    "    rf_max_depth = trial.suggest_int(\"max_depth\", 2, 32, log=True)\n",
    "    list_trees = [25, 50, 75, 100, 125, 150, 175, 200, 225, 250]\n",
    "    rf_n_estimators = trial.suggest_categorical('n_estimators', list_trees)\n",
    "    rf_max_features = trial.suggest_uniform('max_features', 0.15, 1.0)\n",
    "    rf_min_samples_split = trial.suggest_int('min_samples_split', 2, 14)\n",
    "    rf_min_samples_leaf = trial.suggest_int('min_samples_leaf', 1, 14)\n",
    "    rf_max_samples = trial.suggest_uniform('max_samples', 0.6, 0.99)\n",
    "            \n",
    "    classifier_obj = sklearn.ensemble.RandomForestClassifier(\n",
    "        max_depth=rf_max_depth, n_estimators=rf_n_estimators, max_features=rf_max_features, \n",
    "        min_samples_split=rf_min_samples_split, min_samples_leaf=rf_min_samples_leaf, max_samples=rf_max_samples,\n",
    "        bootstrap=True, verbose=0\n",
    "    )\n",
    "\n",
    "    score = sklearn.model_selection.cross_val_score(classifier_obj, X, y, \n",
    "                                                    n_jobs=-1, cv=3, scoring='balanced_accuracy')\n",
    "    accuracy = score.mean()\n",
    "#     accuracy = balanced_accuracy_score(y, clf.predict(X))\n",
    "    return accuracy"
   ]
  },
  {
   "cell_type": "code",
   "execution_count": 92,
   "id": "dbd5098f-a958-4982-8c18-774d780a6da3",
   "metadata": {
    "tags": []
   },
   "outputs": [
    {
     "name": "stderr",
     "output_type": "stream",
     "text": [
      "\u001b[32m[I 2021-10-26 14:41:22,941]\u001b[0m A new study created in memory with name: no-name-d11b0873-4789-47ed-8a69-c0b18ce23f2b\u001b[0m\n",
      "\u001b[32m[I 2021-10-26 14:41:28,822]\u001b[0m Trial 0 finished with value: 0.3129051323114467 and parameters: {'max_depth': 10, 'n_estimators': 50, 'max_features': 0.26499205600439324, 'min_samples_split': 6, 'min_samples_leaf': 1, 'max_samples': 0.734251006789272}. Best is trial 0 with value: 0.3129051323114467.\u001b[0m\n",
      "\u001b[32m[I 2021-10-26 14:41:54,333]\u001b[0m Trial 1 finished with value: 0.3113322656905361 and parameters: {'max_depth': 3, 'n_estimators': 250, 'max_features': 0.5661093601501203, 'min_samples_split': 5, 'min_samples_leaf': 9, 'max_samples': 0.7769000186798598}. Best is trial 0 with value: 0.3129051323114467.\u001b[0m\n",
      "\u001b[32m[I 2021-10-26 14:41:57,878]\u001b[0m Trial 2 finished with value: 0.3121139327385038 and parameters: {'max_depth': 2, 'n_estimators': 50, 'max_features': 0.8150861096597161, 'min_samples_split': 4, 'min_samples_leaf': 7, 'max_samples': 0.6803216793801059}. Best is trial 0 with value: 0.3129051323114467.\u001b[0m\n",
      "\u001b[32m[I 2021-10-26 14:42:15,780]\u001b[0m Trial 3 finished with value: 0.30232402958895754 and parameters: {'max_depth': 31, 'n_estimators': 175, 'max_features': 0.30446963422626017, 'min_samples_split': 12, 'min_samples_leaf': 1, 'max_samples': 0.9229182122897812}. Best is trial 0 with value: 0.3129051323114467.\u001b[0m\n",
      "\u001b[32m[I 2021-10-26 14:42:21,785]\u001b[0m Trial 4 finished with value: 0.30231449706398233 and parameters: {'max_depth': 15, 'n_estimators': 50, 'max_features': 0.2680398624131001, 'min_samples_split': 9, 'min_samples_leaf': 6, 'max_samples': 0.7235724583893135}. Best is trial 0 with value: 0.3129051323114467.\u001b[0m\n",
      "\u001b[32m[I 2021-10-26 14:42:35,223]\u001b[0m Trial 5 finished with value: 0.3041733394341493 and parameters: {'max_depth': 4, 'n_estimators': 100, 'max_features': 0.8022707883704832, 'min_samples_split': 2, 'min_samples_leaf': 6, 'max_samples': 0.8677304070698402}. Best is trial 0 with value: 0.3129051323114467.\u001b[0m\n",
      "\u001b[32m[I 2021-10-26 14:42:55,023]\u001b[0m Trial 6 finished with value: 0.31214253031342937 and parameters: {'max_depth': 2, 'n_estimators': 250, 'max_features': 0.8678129658763438, 'min_samples_split': 6, 'min_samples_leaf': 10, 'max_samples': 0.919772951373726}. Best is trial 0 with value: 0.3129051323114467.\u001b[0m\n",
      "\u001b[32m[I 2021-10-26 14:43:02,462]\u001b[0m Trial 7 finished with value: 0.2987112026233509 and parameters: {'max_depth': 2, 'n_estimators': 75, 'max_features': 0.9733829328399753, 'min_samples_split': 5, 'min_samples_leaf': 3, 'max_samples': 0.9488180040567984}. Best is trial 0 with value: 0.3129051323114467.\u001b[0m\n",
      "\u001b[32m[I 2021-10-26 14:43:40,574]\u001b[0m Trial 8 finished with value: 0.3086536261725006 and parameters: {'max_depth': 7, 'n_estimators': 225, 'max_features': 0.8207242131637289, 'min_samples_split': 5, 'min_samples_leaf': 7, 'max_samples': 0.7520490333994734}. Best is trial 0 with value: 0.3129051323114467.\u001b[0m\n",
      "\u001b[32m[I 2021-10-26 14:44:21,794]\u001b[0m Trial 9 finished with value: 0.316594219476855 and parameters: {'max_depth': 18, 'n_estimators': 250, 'max_features': 0.7404883598631531, 'min_samples_split': 4, 'min_samples_leaf': 13, 'max_samples': 0.862665090004177}. Best is trial 9 with value: 0.316594219476855.\u001b[0m\n"
     ]
    },
    {
     "name": "stdout",
     "output_type": "stream",
     "text": [
      "{'max_depth': 18, 'n_estimators': 250, 'max_features': 0.7404883598631531, 'min_samples_split': 4, 'min_samples_leaf': 13, 'max_samples': 0.862665090004177}\n"
     ]
    }
   ],
   "source": [
    "study = optuna.create_study(direction=\"maximize\")\n",
    "study.optimize(lambda trial: objective(trial, X_train, y_train), n_trials=10)\n",
    "bp = study.best_trial.params\n",
    "print(bp)"
   ]
  },
  {
   "cell_type": "code",
   "execution_count": 93,
   "id": "e4fe3bee-1efc-43de-8d3f-417dcb755c1a",
   "metadata": {},
   "outputs": [],
   "source": [
    "from sklearn.ensemble import RandomForestClassifier\n",
    "clf = RandomForestClassifier(**bp)"
   ]
  },
  {
   "cell_type": "code",
   "execution_count": 94,
   "id": "03c66a2c-8d01-43a7-9e18-4f6eb1029b0e",
   "metadata": {},
   "outputs": [
    {
     "data": {
      "text/plain": [
       "RandomForestClassifier(max_depth=18, max_features=0.7404883598631531,\n",
       "                       max_samples=0.862665090004177, min_samples_leaf=13,\n",
       "                       min_samples_split=4, n_estimators=250)"
      ]
     },
     "execution_count": 94,
     "metadata": {},
     "output_type": "execute_result"
    }
   ],
   "source": [
    "clf.fit(X_train, y_train)"
   ]
  },
  {
   "cell_type": "code",
   "execution_count": 95,
   "id": "5380244a-096f-479b-a0be-40a4cfb47ece",
   "metadata": {},
   "outputs": [
    {
     "name": "stdout",
     "output_type": "stream",
     "text": [
      "1125\n",
      "0.989330153201585\n",
      "0.9893333333333333\n"
     ]
    }
   ],
   "source": [
    "preds = clf.predict(X_train)\n",
    "print(len(preds))\n",
    "print(balanced_accuracy_score(y_train, preds))\n",
    "print(sum(y_train==preds)/len(y_train))"
   ]
  },
  {
   "cell_type": "code",
   "execution_count": 96,
   "id": "3f0ca0b8-7dd6-46c5-943c-b8ddf952dc29",
   "metadata": {},
   "outputs": [
    {
     "name": "stdout",
     "output_type": "stream",
     "text": [
      "375\n",
      "0.3435712651567147\n",
      "0.344\n"
     ]
    }
   ],
   "source": [
    "preds = clf.predict(X_valid)\n",
    "print(len(preds))\n",
    "print(balanced_accuracy_score(y_valid, preds))\n",
    "print(sum(y_valid==preds)/len(y_valid))"
   ]
  },
  {
   "cell_type": "code",
   "execution_count": 97,
   "id": "98817515-9d2e-41ab-9a69-2ccc4f1b9fca",
   "metadata": {},
   "outputs": [],
   "source": [
    "from sklearn.metrics import roc_auc_score"
   ]
  },
  {
   "cell_type": "code",
   "execution_count": 98,
   "id": "548a3036-fe80-4a4b-8ba0-b21975bbab2b",
   "metadata": {},
   "outputs": [
    {
     "data": {
      "text/plain": [
       "0.6124850159562933"
      ]
     },
     "execution_count": 98,
     "metadata": {},
     "output_type": "execute_result"
    }
   ],
   "source": [
    "roc_auc_score(y_valid, clf.predict_proba(X_valid), multi_class='ovr')"
   ]
  },
  {
   "cell_type": "code",
   "execution_count": 53,
   "id": "16dfc113-0bcd-4e21-8622-b05025c15cf4",
   "metadata": {},
   "outputs": [],
   "source": [
    "output_ls = ['irritable bowel syndrome', 'migraine', 'back pain',\n",
    "       'osteoarthritis', 'eid', 'bmrc']\n",
    "tmp = dff_rm.drop(columns=output_ls)\n",
    "feature_names = tmp.columns"
   ]
  },
  {
   "cell_type": "code",
   "execution_count": 54,
   "id": "f0ae352a-9986-4ce9-ae39-b91edf293240",
   "metadata": {},
   "outputs": [],
   "source": [
    "feat_importances = pd.Series(clf.feature_importances_, index=feature_names)"
   ]
  },
  {
   "cell_type": "code",
   "execution_count": 55,
   "id": "715710ef-9100-41c5-a93a-08224f303760",
   "metadata": {},
   "outputs": [],
   "source": [
    "feat_sorted = feat_importances.sort_values(ascending=False)"
   ]
  },
  {
   "cell_type": "code",
   "execution_count": 56,
   "id": "1473562f-f47b-4ef7-ab05-81df42e266f4",
   "metadata": {},
   "outputs": [
    {
     "data": {
      "text/plain": [
       "Text(0, 0.5, 'Mean decrease in impurity')"
      ]
     },
     "execution_count": 56,
     "metadata": {},
     "output_type": "execute_result"
    },
    {
     "data": {
      "image/png": "[encoded data removed]",
      "text/plain": [
       "<Figure size 432x288 with 1 Axes>"
      ]
     },
     "metadata": {
      "needs_background": "light"
     },
     "output_type": "display_data"
    }
   ],
   "source": [
    "fig, ax = plt.subplots()\n",
    "feat_sorted.iloc[:10].plot.bar(ax=ax)\n",
    "ax.set_title(\"Feature importances using MDI\")\n",
    "ax.set_ylabel(\"Mean decrease in impurity\")"
   ]
  },
  {
   "cell_type": "code",
   "execution_count": 57,
   "id": "b3dee988-65da-49f6-aaa8-3f4a5c11ee39",
   "metadata": {},
   "outputs": [
    {
     "data": {
      "text/plain": [
       "[array(['Total volume of white matter hyperintensities (from T1 and T2_FLAIR images)'],\n",
       "       dtype=object),\n",
       " array(['Mean L3 in fornix on FA skeleton'], dtype=object),\n",
       " array(['Volume of grey matter in Ventral Striatum (left)'], dtype=object),\n",
       " array(['Volume of grey matter in Lingual Gyrus (left)'], dtype=object),\n",
       " array(['Volume of peripheral cortical grey matter'], dtype=object),\n",
       " array(['Volume of brain grey+white matter'], dtype=object),\n",
       " array(['Mean L1 in pontine crossing tract on FA skeleton'], dtype=object),\n",
       " array(['Mean ICVF in middle cerebellar peduncle on FA skeleton'],\n",
       "       dtype=object),\n",
       " array(['Volume of accumbens (left)'], dtype=object),\n",
       " array(['Volume of white matter'], dtype=object)]"
      ]
     },
     "execution_count": 57,
     "metadata": {},
     "output_type": "execute_result"
    }
   ],
   "source": [
    "feats10 = feat_sorted.iloc[:10].index\n",
    "match_question(feats10)"
   ]
  },
  {
   "cell_type": "markdown",
   "id": "81440b85-a195-4c87-8db9-6e25b436948e",
   "metadata": {},
   "source": [
    "#### using tabnet"
   ]
  },
  {
   "cell_type": "code",
   "execution_count": 79,
   "id": "a22bde9c-b2e5-4221-9687-a6494cd98e7b",
   "metadata": {},
   "outputs": [
    {
     "name": "stdout",
     "output_type": "stream",
     "text": [
      "(2280, 500)\n"
     ]
    }
   ],
   "source": [
    "X_train, y_train, X_valid, y_valid = load_feats(dff, bestIC, test_size=0.2,\n",
    "                                                dummies=True,\n",
    "                                                train=True, balance=True, scaler=True)"
   ]
  },
  {
   "cell_type": "code",
   "execution_count": 80,
   "id": "1f779d35-938f-44a4-bdb6-967ad0672b6c",
   "metadata": {},
   "outputs": [
    {
     "data": {
      "text/plain": [
       "back pain  irritable bowel syndrome  migraine  osteoarthritis\n",
       "0          0                         0         1                 300\n",
       "                                     1         0                 300\n",
       "           1                         0         0                 300\n",
       "1          0                         0         0                 300\n",
       "dtype: int64"
      ]
     },
     "execution_count": 80,
     "metadata": {},
     "output_type": "execute_result"
    }
   ],
   "source": [
    "y_train.value_counts()"
   ]
  },
  {
   "cell_type": "code",
   "execution_count": 81,
   "id": "72e5aeeb-323c-47a7-ba30-7b9ef3ee2998",
   "metadata": {},
   "outputs": [],
   "source": [
    "y_train = y_train.values"
   ]
  },
  {
   "cell_type": "code",
   "execution_count": 82,
   "id": "9f101a3e-5ced-453b-a452-ef961a63f65e",
   "metadata": {
    "tags": []
   },
   "outputs": [
    {
     "name": "stdout",
     "output_type": "stream",
     "text": [
      "Device used : cpu\n",
      "epoch 0  | loss: 0.84768 | train_balanced_accuracy: 0.49778 |  0:00:00s\n",
      "epoch 1  | loss: 0.7175  | train_balanced_accuracy: 0.50153 |  0:00:00s\n",
      "epoch 2  | loss: 0.67069 | train_balanced_accuracy: 0.50042 |  0:00:01s\n",
      "epoch 3  | loss: 0.6429  | train_balanced_accuracy: 0.50042 |  0:00:01s\n",
      "epoch 4  | loss: 0.63065 | train_balanced_accuracy: 0.50083 |  0:00:02s\n",
      "epoch 5  | loss: 0.63102 | train_balanced_accuracy: 0.50042 |  0:00:02s\n",
      "epoch 6  | loss: 0.60195 | train_balanced_accuracy: 0.50042 |  0:00:03s\n",
      "epoch 7  | loss: 0.59967 | train_balanced_accuracy: 0.5     |  0:00:03s\n",
      "epoch 8  | loss: 0.59769 | train_balanced_accuracy: 0.50042 |  0:00:04s\n",
      "epoch 9  | loss: 0.58661 | train_balanced_accuracy: 0.50083 |  0:00:04s\n",
      "epoch 10 | loss: 0.58153 | train_balanced_accuracy: 0.49986 |  0:00:05s\n",
      "epoch 11 | loss: 0.57912 | train_balanced_accuracy: 0.50028 |  0:00:05s\n",
      "\n",
      "Early stopping occurred at epoch 11 with best_epoch = 1 and best_train_balanced_accuracy = 0.50153\n",
      "Best weights from best epoch are automatically used!\n"
     ]
    }
   ],
   "source": [
    "import torch\n",
    "clf = TabNetMultiTaskClassifier()\n",
    "\n",
    "clf.fit(\n",
    "    X_train, y_train,\n",
    "    eval_set=[(X_train, y_train)],\n",
    "    eval_name=['train'],\n",
    "#     eval_metric=['auc'],\n",
    "    eval_metric=['balanced_accuracy'],\n",
    ")"
   ]
  },
  {
   "cell_type": "code",
   "execution_count": 83,
   "id": "5f5e5380-9dc9-4adf-80a2-b00a2468921e",
   "metadata": {},
   "outputs": [
    {
     "name": "stdout",
     "output_type": "stream",
     "text": [
      "/well/seymour/users/uhu195/python/extract_npy//labels/label_patients_pain.csv\n",
      "(2724, 1)\n",
      "(2724, 6)\n",
      "df_bfl_qsidp shape=(2280, 506)\n"
     ]
    }
   ],
   "source": [
    "dff = make_data(bestIC, qs_ls=None, idp_ls=None)"
   ]
  },
  {
   "cell_type": "code",
   "execution_count": 84,
   "id": "c8b6c9f1-8b80-48b8-b7fa-9da5542354c0",
   "metadata": {},
   "outputs": [
    {
     "name": "stdout",
     "output_type": "stream",
     "text": [
      "(2280, 500)\n"
     ]
    }
   ],
   "source": [
    "X_train, y_train, X_valid, y_valid = load_feats(dff, bestIC, test_size=0.2,\n",
    "                                                dummies=False,\n",
    "                                                train=True, balance=True, scaler=True)"
   ]
  },
  {
   "cell_type": "code",
   "execution_count": 62,
   "id": "c2c6d531-afd7-4b60-8f0b-3d71499ecda6",
   "metadata": {},
   "outputs": [
    {
     "data": {
      "text/plain": [
       "irritable bowel syndrome    300\n",
       "migraine                    300\n",
       "osteoarthritis              300\n",
       "back pain                   300\n",
       "dtype: int64"
      ]
     },
     "execution_count": 62,
     "metadata": {},
     "output_type": "execute_result"
    }
   ],
   "source": [
    "y_train.value_counts()"
   ]
  },
  {
   "cell_type": "code",
   "execution_count": 63,
   "id": "54bbe09e-223b-4ccd-9b55-4ddc4691cbf9",
   "metadata": {},
   "outputs": [
    {
     "data": {
      "text/plain": [
       "irritable bowel syndrome    75\n",
       "osteoarthritis              75\n",
       "migraine                    75\n",
       "back pain                   75\n",
       "dtype: int64"
      ]
     },
     "execution_count": 63,
     "metadata": {},
     "output_type": "execute_result"
    }
   ],
   "source": [
    "y_valid.value_counts()"
   ]
  },
  {
   "cell_type": "code",
   "execution_count": 64,
   "id": "0c4c0d5a-e189-4a33-b2b1-a75ba100e637",
   "metadata": {
    "tags": []
   },
   "outputs": [
    {
     "name": "stderr",
     "output_type": "stream",
     "text": [
      "\u001b[32m[I 2021-10-26 14:27:09,676]\u001b[0m A new study created in memory with name: no-name-aaaab242-3c33-49ed-9bb7-61dc0cad346a\u001b[0m\n",
      "\u001b[32m[I 2021-10-26 14:27:15,863]\u001b[0m Trial 0 finished with value: 0.2866666666666667 and parameters: {'max_depth': 4, 'n_estimators': 75, 'max_features': 0.6415100728462149, 'min_samples_split': 11, 'min_samples_leaf': 11, 'max_samples': 0.7056915744677621}. Best is trial 0 with value: 0.2866666666666667.\u001b[0m\n",
      "\u001b[32m[I 2021-10-26 14:27:18,136]\u001b[0m Trial 1 finished with value: 0.29083333333333333 and parameters: {'max_depth': 3, 'n_estimators': 150, 'max_features': 0.3693903497534477, 'min_samples_split': 10, 'min_samples_leaf': 4, 'max_samples': 0.6276747112269488}. Best is trial 1 with value: 0.29083333333333333.\u001b[0m\n",
      "\u001b[32m[I 2021-10-26 14:27:20,312]\u001b[0m Trial 2 finished with value: 0.29666666666666663 and parameters: {'max_depth': 12, 'n_estimators': 75, 'max_features': 0.2748077721542657, 'min_samples_split': 5, 'min_samples_leaf': 8, 'max_samples': 0.8730496671480629}. Best is trial 2 with value: 0.29666666666666663.\u001b[0m\n",
      "\u001b[32m[I 2021-10-26 14:27:21,871]\u001b[0m Trial 3 finished with value: 0.2733333333333334 and parameters: {'max_depth': 2, 'n_estimators': 50, 'max_features': 0.9062530072623453, 'min_samples_split': 4, 'min_samples_leaf': 11, 'max_samples': 0.7090467686603282}. Best is trial 2 with value: 0.29666666666666663.\u001b[0m\n",
      "\u001b[32m[I 2021-10-26 14:27:25,041]\u001b[0m Trial 4 finished with value: 0.2758333333333334 and parameters: {'max_depth': 26, 'n_estimators': 50, 'max_features': 0.6392451884551756, 'min_samples_split': 7, 'min_samples_leaf': 1, 'max_samples': 0.8226254193252287}. Best is trial 2 with value: 0.29666666666666663.\u001b[0m\n",
      "\u001b[32m[I 2021-10-26 14:27:29,357]\u001b[0m Trial 5 finished with value: 0.2625 and parameters: {'max_depth': 4, 'n_estimators': 125, 'max_features': 0.8508925889341059, 'min_samples_split': 3, 'min_samples_leaf': 1, 'max_samples': 0.6936645728394915}. Best is trial 2 with value: 0.29666666666666663.\u001b[0m\n",
      "\u001b[32m[I 2021-10-26 14:27:33,043]\u001b[0m Trial 6 finished with value: 0.2925 and parameters: {'max_depth': 19, 'n_estimators': 125, 'max_features': 0.463171270566864, 'min_samples_split': 3, 'min_samples_leaf': 10, 'max_samples': 0.7160338589487109}. Best is trial 2 with value: 0.29666666666666663.\u001b[0m\n",
      "\u001b[32m[I 2021-10-26 14:27:37,575]\u001b[0m Trial 7 finished with value: 0.2608333333333333 and parameters: {'max_depth': 2, 'n_estimators': 225, 'max_features': 0.7699689732995474, 'min_samples_split': 7, 'min_samples_leaf': 8, 'max_samples': 0.9073367897558525}. Best is trial 2 with value: 0.29666666666666663.\u001b[0m\n",
      "\u001b[32m[I 2021-10-26 14:27:40,069]\u001b[0m Trial 8 finished with value: 0.25916666666666666 and parameters: {'max_depth': 26, 'n_estimators': 225, 'max_features': 0.18360364861462974, 'min_samples_split': 14, 'min_samples_leaf': 12, 'max_samples': 0.7815421313907899}. Best is trial 2 with value: 0.29666666666666663.\u001b[0m\n",
      "\u001b[32m[I 2021-10-26 14:27:46,279]\u001b[0m Trial 9 finished with value: 0.265 and parameters: {'max_depth': 16, 'n_estimators': 175, 'max_features': 0.5197230902670379, 'min_samples_split': 6, 'min_samples_leaf': 3, 'max_samples': 0.724620960250653}. Best is trial 2 with value: 0.29666666666666663.\u001b[0m\n"
     ]
    },
    {
     "name": "stdout",
     "output_type": "stream",
     "text": [
      "{'max_depth': 12, 'n_estimators': 75, 'max_features': 0.2748077721542657, 'min_samples_split': 5, 'min_samples_leaf': 8, 'max_samples': 0.8730496671480629}\n"
     ]
    }
   ],
   "source": [
    "study = optuna.create_study(direction=\"maximize\")\n",
    "study.optimize(lambda trial: objective(trial, X_train, y_train), n_trials=10)\n",
    "bp = study.best_trial.params\n",
    "print(bp)"
   ]
  },
  {
   "cell_type": "code",
   "execution_count": 65,
   "id": "f64f0e18-f2c3-4947-91bc-f9d90720f7e1",
   "metadata": {},
   "outputs": [],
   "source": [
    "from sklearn.ensemble import RandomForestClassifier\n",
    "clf = RandomForestClassifier(**bp)"
   ]
  },
  {
   "cell_type": "code",
   "execution_count": 66,
   "id": "1ab2aafc-a0ff-4855-9af0-2a5ba1ba4eee",
   "metadata": {},
   "outputs": [
    {
     "data": {
      "text/plain": [
       "RandomForestClassifier(max_depth=12, max_features=0.2748077721542657,\n",
       "                       max_samples=0.8730496671480629, min_samples_leaf=8,\n",
       "                       min_samples_split=5, n_estimators=75)"
      ]
     },
     "execution_count": 66,
     "metadata": {},
     "output_type": "execute_result"
    }
   ],
   "source": [
    "clf.fit(X_train, y_train)"
   ]
  },
  {
   "cell_type": "code",
   "execution_count": 67,
   "id": "04facbb3-f78d-4e48-b574-6fad772ea95a",
   "metadata": {},
   "outputs": [
    {
     "name": "stdout",
     "output_type": "stream",
     "text": [
      "1200\n",
      "1.0\n",
      "1.0\n"
     ]
    }
   ],
   "source": [
    "preds = clf.predict(X_train)\n",
    "print(len(preds))\n",
    "print(balanced_accuracy_score(y_train, preds))\n",
    "print(sum(y_train==preds)/len(y_train))"
   ]
  },
  {
   "cell_type": "code",
   "execution_count": 68,
   "id": "926c8ee1-358d-457a-899e-be790e2be187",
   "metadata": {},
   "outputs": [
    {
     "name": "stdout",
     "output_type": "stream",
     "text": [
      "300\n",
      "0.33\n",
      "0.33\n"
     ]
    }
   ],
   "source": [
    "preds = clf.predict(X_valid)\n",
    "print(len(preds))\n",
    "print(balanced_accuracy_score(y_valid, preds))\n",
    "print(sum(y_valid==preds)/len(y_valid))"
   ]
  },
  {
   "cell_type": "code",
   "execution_count": 69,
   "id": "c93ed61b-a6a9-481c-b783-aca4aa1a8594",
   "metadata": {},
   "outputs": [],
   "source": [
    "from sklearn.metrics import roc_auc_score"
   ]
  },
  {
   "cell_type": "code",
   "execution_count": 70,
   "id": "23fabd8d-f403-411b-a15a-dfff8e68fe4e",
   "metadata": {},
   "outputs": [
    {
     "data": {
      "text/plain": [
       "0.5514814814814815"
      ]
     },
     "execution_count": 70,
     "metadata": {},
     "output_type": "execute_result"
    }
   ],
   "source": [
    "roc_auc_score(y_valid, clf.predict_proba(X_valid), multi_class='ovr')"
   ]
  },
  {
   "cell_type": "code",
   "execution_count": 74,
   "id": "a061edbd-868c-4a3b-aa1f-ca25ff132ad8",
   "metadata": {},
   "outputs": [],
   "source": [
    "output_ls = ['irritable bowel syndrome', 'migraine', 'back pain',\n",
    "       'osteoarthritis', 'eid', 'bmrc']\n",
    "tmp = dff.drop(columns=output_ls)\n",
    "feature_names = tmp.columns"
   ]
  },
  {
   "cell_type": "code",
   "execution_count": 75,
   "id": "3213268d-fcc4-4c92-ae0c-b34a044383e2",
   "metadata": {},
   "outputs": [],
   "source": [
    "feat_importances = pd.Series(clf.feature_importances_, index=feature_names)"
   ]
  },
  {
   "cell_type": "code",
   "execution_count": 76,
   "id": "ca9776c4-17b3-4b07-bd7f-e2f095debcb0",
   "metadata": {},
   "outputs": [],
   "source": [
    "feat_sorted = feat_importances.sort_values(ascending=False)"
   ]
  },
  {
   "cell_type": "code",
   "execution_count": 77,
   "id": "26b10340-7339-497d-839a-74627936b783",
   "metadata": {},
   "outputs": [
    {
     "data": {
      "text/plain": [
       "Text(0, 0.5, 'Mean decrease in impurity')"
      ]
     },
     "execution_count": 77,
     "metadata": {},
     "output_type": "execute_result"
    },
    {
     "data": {
      "image/png": "[encoded data removed]",
      "text/plain": [
       "<Figure size 432x288 with 1 Axes>"
      ]
     },
     "metadata": {
      "needs_background": "light"
     },
     "output_type": "display_data"
    }
   ],
   "source": [
    "fig, ax = plt.subplots()\n",
    "feat_sorted.iloc[:10].plot.bar(ax=ax)\n",
    "ax.set_title(\"Feature importances using MDI\")\n",
    "ax.set_ylabel(\"Mean decrease in impurity\")"
   ]
  },
  {
   "cell_type": "code",
   "execution_count": 78,
   "id": "6121ef8f-b32a-427d-a352-04c2245407a3",
   "metadata": {},
   "outputs": [
    {
     "data": {
      "text/plain": [
       "[]"
      ]
     },
     "execution_count": 78,
     "metadata": {},
     "output_type": "execute_result"
    }
   ],
   "source": [
    "feats10 = feat_sorted.iloc[:10].index\n",
    "match_question(feats10)"
   ]
  },
  {
   "cell_type": "code",
   "execution_count": null,
   "id": "78a18a52-2a9c-40e1-bcc8-afa21d6469ca",
   "metadata": {},
   "outputs": [],
   "source": []
  },
  {
   "cell_type": "code",
   "execution_count": null,
   "id": "183fc885-a6f1-4a08-87da-b755d7b50cb3",
   "metadata": {},
   "outputs": [],
   "source": []
  },
  {
   "cell_type": "code",
   "execution_count": null,
   "id": "473fe39d-b9ae-4a15-8cad-3417dec83d36",
   "metadata": {},
   "outputs": [],
   "source": []
  },
  {
   "cell_type": "code",
   "execution_count": null,
   "id": "b8d294f3-9594-4230-bbae-4535351a0142",
   "metadata": {},
   "outputs": [],
   "source": []
  },
  {
   "cell_type": "code",
   "execution_count": 153,
   "id": "ade3f56e-b6fa-4ed7-8aa3-b43605f76377",
   "metadata": {},
   "outputs": [],
   "source": [
    "# y_train = y_train.to_numpy()\n",
    "# y_valid = y_valid.to_numpy()"
   ]
  },
  {
   "cell_type": "code",
   "execution_count": 154,
   "id": "66ccb311-3eea-4b78-8665-32176fc64aac",
   "metadata": {},
   "outputs": [],
   "source": [
    "# from pytorch_tabnet.metrics import Metric\n",
    "# from sklearn.metrics import roc_auc_score\n",
    "\n",
    "# class auc_ovo(Metric):\n",
    "#     def __init__(self):\n",
    "#         self._name = \"gini\"\n",
    "#         self._maximize = True\n",
    "\n",
    "#     def __call__(self, y_true, y_score):\n",
    "# #         auc = roc_auc_score(y_true, y_score[:, 1])\n",
    "#         print(y_true.shape)\n",
    "#         auc = roc_auc_score(y_true, y_score[:,1], multi_class='ovo')\n",
    "# #         return max(2*auc - 1, 0.)\n",
    "#         return auc"
   ]
  },
  {
   "cell_type": "code",
   "execution_count": 155,
   "id": "b4fb76de-4779-464a-a8a4-65eb2cf4d750",
   "metadata": {
    "tags": []
   },
   "outputs": [],
   "source": [
    "# clf = TabNetMultiTaskClassifier()\n",
    "# clf.fit(\n",
    "#     X_train, y_train,\n",
    "#     eval_set=[(X_train, y_train), (X_valid, y_valid)],\n",
    "#     eval_name=['train', 'valid'],\n",
    "#     eval_metric=['balanced_accuracy'],\n",
    "# #     eval_metric=[auc_ovo]\n",
    "# )"
   ]
  }
 ],
 "metadata": {
  "kernelspec": {
   "display_name": "Python 3 (ipykernel)",
   "language": "python",
   "name": "python3"
  },
  "language_info": {
   "codemirror_mode": {
    "name": "ipython",
    "version": 3
   },
   "file_extension": ".py",
   "mimetype": "text/x-python",
   "name": "python",
   "nbconvert_exporter": "python",
   "pygments_lexer": "ipython3",
   "version": "3.7.4"
  }
 },
 "nbformat": 4,
 "nbformat_minor": 5
}
